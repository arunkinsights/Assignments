{
 "cells": [
  {
   "cell_type": "code",
   "execution_count": null,
   "id": "ea99c349-c443-4712-8814-9c3930272799",
   "metadata": {},
   "outputs": [],
   "source": [
    "# Q1. Explain the key features of Python that make it a popular choice for programming?\n",
    "# Ans. Python offers a variety of benefits that make it a popular choice for many programmers and organizations. \n",
    "#Here are some of the key advantages:\n",
    "# 1. Readability and Simplicity: Python's syntax is clear and easy to understand, which makes it an excellent choice for beginners and \n",
    "#enhances productivity for experienced developers.\n",
    "# 2. Versatility: Python is a general-purpose language, suitable for a wide range of applications, including web development, data analysis, \n",
    "#artificial intelligence, scientific computing, automation, and more.\n",
    "# 3. Extensive Libraries and Frameworks: Python has a rich ecosystem of libraries and frameworks that simplify many tasks. \n",
    "#Examples include NumPy and pandas for data analysis, TensorFlow and PyTorch for machine learning, Flask and Django for web development, and many more.\n",
    "# 4. Cross-Platform Compatibility: Python is available on multiple operating systems, including Windows, macOS, and Linux, \n",
    "#allowing developers to create cross-platform applications with ease.\n",
    "# 5. Community Support: Python has a large and active community, which means a wealth of resources, including extensive documentation, tutorials, \n",
    "#and forums where developers can seek help and share knowledge.\n",
    "# 6. Integration Capabilities: Python can easily integrate with other languages and technologies, such as C/C++, Java, and .NET, \n",
    "#making it a flexible choice for projects that require interoperability.\n",
    "# 7. Rapid Development: Python's simplicity and the availability of powerful libraries enable rapid development and prototyping, \n",
    "#which is particularly beneficial for startups and research projects.\n",
    "# 8. Strong Support for Data Science and AI: Python is the language of choice for many data scientists and AI researchers, \n",
    "#thanks to libraries like scikit-learn, Keras, and Matplotlib, which provide tools for data manipulation, machine learning, and data visualization.\n",
    "# 9. Portability: Python code can be written once and run on various platforms without modification, thanks to its interpreted nature and \n",
    "#platform-independent bytecode.\n",
    "# 10. Open Source: Python is open-source, meaning it is free to use and distribute, and it benefits from contributions from developers worldwide, \n",
    "#ensuring continuous improvement and innovation.\n",
    "# These benefits make Python a highly attractive language for a wide range of programming tasks and have contributed to its growing popularity \n",
    "#across different industries and domains."
   ]
  },
  {
   "cell_type": "code",
   "execution_count": null,
   "id": "3f01e95b-35cd-4ff5-a876-2a198d198da2",
   "metadata": {},
   "outputs": [],
   "source": [
    "'''\n",
    "Q2. Describe the role of predefined keywords in Python and provide examples of how they are used in a program. \n",
    "Ans. Role of Predefined Keywords:\n",
    "In Python, predefined keywords are reserved words that have specific meanings within the language. \n",
    "They cannot be used as variable names, function names, or other identifiers. \n",
    "These keywords serve as the building blocks of Python syntax and control the structure and flow of your code.\n",
    "Examples of Predefined Keywords and Their Uses:\n",
    "'''"
   ]
  },
  {
   "cell_type": "code",
   "execution_count": 2,
   "id": "48532704-5bf2-4653-9556-f5849f597dff",
   "metadata": {},
   "outputs": [
    {
     "name": "stdout",
     "output_type": "stream",
     "text": [
      "x is greater than 5\n"
     ]
    }
   ],
   "source": [
    "#1. Control Flow Keywords:\n",
    "#if, elif, else: These keywords are used for conditional statements.\n",
    "x = 10\n",
    "if x>5:\n",
    "    print(\"x is greater than 5\")\n",
    "elif x == 5:\n",
    "    print(\"x is equal to 5\")\n",
    "else:\n",
    "    print(\"x is less than 5\")"
   ]
  },
  {
   "cell_type": "code",
   "execution_count": 4,
   "id": "202637b6-aab0-4b8a-a7a6-528222fe1cac",
   "metadata": {},
   "outputs": [
    {
     "name": "stdout",
     "output_type": "stream",
     "text": [
      "3\n"
     ]
    }
   ],
   "source": [
    "#2. for, while, break, continue, pass: These keywords are used in loops and to control the flow within loops.\n",
    "for i in range(5):\n",
    "    if i ==3:\n",
    "        break  # Exits the loop when i is 3\n",
    "print(i)"
   ]
  },
  {
   "cell_type": "code",
   "execution_count": 5,
   "id": "40cb7148-3c7c-416c-98cb-76b507ab270e",
   "metadata": {},
   "outputs": [
    {
     "name": "stdout",
     "output_type": "stream",
     "text": [
      "1\n",
      "2\n",
      "4\n",
      "5\n"
     ]
    }
   ],
   "source": [
    "i = 0\n",
    "while i <5:\n",
    "    i+=1\n",
    "    if i == 3:\n",
    "        continue # Skips the rest of the code for this iteration\n",
    "    print(i)"
   ]
  },
  {
   "cell_type": "code",
   "execution_count": 6,
   "id": "3973f7f1-2df2-46c0-8555-000b0c1f6468",
   "metadata": {},
   "outputs": [
    {
     "ename": "NameError",
     "evalue": "name 'rage' is not defined",
     "output_type": "error",
     "traceback": [
      "\u001b[1;31m---------------------------------------------------------------------------\u001b[0m",
      "\u001b[1;31mNameError\u001b[0m                                 Traceback (most recent call last)",
      "Cell \u001b[1;32mIn[6], line 1\u001b[0m\n\u001b[1;32m----> 1\u001b[0m \u001b[38;5;28;01mfor\u001b[39;00m i \u001b[38;5;129;01min\u001b[39;00m \u001b[43mrage\u001b[49m(\u001b[38;5;241m5\u001b[39m):\n\u001b[0;32m      2\u001b[0m     \u001b[38;5;28;01mpass\u001b[39;00m \u001b[38;5;66;03m# Does nothing, just a placeholder\u001b[39;00m\n",
      "\u001b[1;31mNameError\u001b[0m: name 'rage' is not defined"
     ]
    }
   ],
   "source": [
    "for i in rage(5):\n",
    "    pass # Does nothing, just a placeholder"
   ]
  },
  {
   "cell_type": "code",
   "execution_count": null,
   "id": "48acfc10-e936-4237-ab22-1c17ebcb87b5",
   "metadata": {},
   "outputs": [],
   "source": [
    "'Function and Class Definition:'"
   ]
  },
  {
   "cell_type": "code",
   "execution_count": 9,
   "id": "e70f541e-01de-49fc-a441-7615c8f0eef1",
   "metadata": {},
   "outputs": [
    {
     "name": "stdout",
     "output_type": "stream",
     "text": [
      "8\n"
     ]
    }
   ],
   "source": [
    "#3. def, return: Used to define functions and return values.\n",
    "def add(a,b):\n",
    "    return a+b\n",
    "result = add(3,5)\n",
    "print(result)"
   ]
  },
  {
   "cell_type": "code",
   "execution_count": 11,
   "id": "26416f24-04df-46f1-85d2-459259cf59b3",
   "metadata": {},
   "outputs": [
    {
     "name": "stdout",
     "output_type": "stream",
     "text": [
      "Joy says woof!\n"
     ]
    }
   ],
   "source": [
    "'4. Class: Used to define a class, which is a blueprint for creating objects'\n",
    "class Dog:\n",
    "    def __init__(self, name):\n",
    "        self.name = name\n",
    "\n",
    "    def bark(self):\n",
    "        return f\"{self.name} says woof!\"\n",
    "\n",
    "my_dog = Dog(\"Joy\")\n",
    "print(my_dog.bark())\n"
   ]
  },
  {
   "cell_type": "code",
   "execution_count": 12,
   "id": "1e7b8b78-b6bd-49fa-9721-8c79689e7605",
   "metadata": {},
   "outputs": [
    {
     "name": "stdout",
     "output_type": "stream",
     "text": [
      "False\n",
      "True\n",
      "False\n"
     ]
    }
   ],
   "source": [
    "#Logical Operations:\n",
    "#5. and, or, not: These keywords are used for logical operations\n",
    "x = True\n",
    "y = False\n",
    "print(x and y)  # Outputs: False\n",
    "print(x or y)   # Outputs: True\n",
    "print(not x)    # Outputs: False\n"
   ]
  },
  {
   "cell_type": "code",
   "execution_count": 13,
   "id": "faa49bc3-46b8-404e-915c-d8ca4f4dd55f",
   "metadata": {},
   "outputs": [
    {
     "name": "stdout",
     "output_type": "stream",
     "text": [
      "You cannot divide by zero!\n",
      "This block always executes.\n"
     ]
    }
   ],
   "source": [
    "# Exception Handling\n",
    "#6. try, except, finally, raise: These keywords are used to handle exceptions in Python\n",
    "\n",
    "try:\n",
    "    result = 10 / 0\n",
    "except ZeroDivisionError:\n",
    "    print(\"You cannot divide by zero!\")\n",
    "finally:\n",
    "    print(\"This block always executes.\")\n",
    "\n",
    "def divide(a, b):\n",
    "    if b == 0:\n",
    "        raise ValueError(\"b cannot be zero\")\n",
    "    return a / b\n"
   ]
  },
  {
   "cell_type": "code",
   "execution_count": 14,
   "id": "41cca652-7405-40b4-8461-33bb80a283a7",
   "metadata": {},
   "outputs": [
    {
     "name": "stdout",
     "output_type": "stream",
     "text": [
      "10\n",
      "20\n"
     ]
    }
   ],
   "source": [
    "#Variable Scope:\n",
    "#7. global, nonlocal: These keywords control the scope of variables.\n",
    "x = 5\n",
    "\n",
    "def modify_global():\n",
    "    global x\n",
    "    x = 10\n",
    "\n",
    "modify_global()\n",
    "print(x)  # Outputs: 10\n",
    "\n",
    "def outer():\n",
    "    y = 10\n",
    "    def inner():\n",
    "        nonlocal y\n",
    "        y = 20\n",
    "    inner()\n",
    "    print(y)\n",
    "\n",
    "outer()"
   ]
  },
  {
   "cell_type": "code",
   "execution_count": 17,
   "id": "4f1d531f-2cd7-42f0-86ce-8162922e89fd",
   "metadata": {},
   "outputs": [
    {
     "name": "stdout",
     "output_type": "stream",
     "text": [
      "4.0\n",
      "5.0\n"
     ]
    }
   ],
   "source": [
    "#Importing Modules:\n",
    "#8. import, from, as: These keywords are used to import modules and rename them.\n",
    "\n",
    "import math\n",
    "print(math.sqrt(16))\n",
    "\n",
    "from math import sqrt as square_root\n",
    "print(square_root(25))\n"
   ]
  },
  {
   "cell_type": "code",
   "execution_count": 18,
   "id": "fcf5e107-1f93-4c2c-9f72-6b57e63dd59a",
   "metadata": {},
   "outputs": [
    {
     "name": "stdout",
     "output_type": "stream",
     "text": [
      "nothing is None or False\n"
     ]
    }
   ],
   "source": [
    "#Special Literals:\n",
    "#9. True, False, None: These keywords represent Boolean values and a null value.\n",
    "\n",
    "is_valid = True\n",
    "is_empty = False\n",
    "nothing = None\n",
    "\n",
    "if not nothing:\n",
    "    print(\"nothing is None or False\")\n"
   ]
  },
  {
   "cell_type": "code",
   "execution_count": 2,
   "id": "21de234e-b0ca-4855-ae49-4c0eef809c6e",
   "metadata": {},
   "outputs": [
    {
     "ename": "AssertionError",
     "evalue": "x should be greater than y",
     "output_type": "error",
     "traceback": [
      "\u001b[1;31m---------------------------------------------------------------------------\u001b[0m",
      "\u001b[1;31mAssertionError\u001b[0m                            Traceback (most recent call last)",
      "Cell \u001b[1;32mIn[2], line 10\u001b[0m\n\u001b[0;32m      7\u001b[0m \u001b[38;5;28;01massert\u001b[39;00m x \u001b[38;5;241m<\u001b[39m y, \u001b[38;5;124m\"\u001b[39m\u001b[38;5;124mx should be less than y\u001b[39m\u001b[38;5;124m\"\u001b[39m\n\u001b[0;32m      9\u001b[0m \u001b[38;5;66;03m# This will raise an AssertionError because x is not greater than y\u001b[39;00m\n\u001b[1;32m---> 10\u001b[0m \u001b[38;5;28;01massert\u001b[39;00m x \u001b[38;5;241m>\u001b[39m y, \u001b[38;5;124m\"\u001b[39m\u001b[38;5;124mx should be greater than y\u001b[39m\u001b[38;5;124m\"\u001b[39m\n",
      "\u001b[1;31mAssertionError\u001b[0m: x should be greater than y"
     ]
    }
   ],
   "source": [
    "# 10 assert: Used to check a condition and raise an error if it’s False.\n",
    "\n",
    "x = 5\n",
    "y = 10\n",
    "\n",
    "# Check if x is less than y\n",
    "assert x < y, \"x should be less than y\"\n",
    "\n",
    "# This will raise an AssertionError because x is not greater than y\n",
    "assert x > y, \"x should be greater than y\"\n"
   ]
  },
  {
   "cell_type": "code",
   "execution_count": 5,
   "id": "4d850c6f-52b4-4238-8266-567de6b98d1c",
   "metadata": {},
   "outputs": [
    {
     "name": "stdout",
     "output_type": "stream",
     "text": [
      "25\n"
     ]
    }
   ],
   "source": [
    "# 11. lambda: Used to create anonymous functions.\n",
    "\n",
    "square = lambda x: x ** 2\n",
    "print(square(5))\n"
   ]
  },
  {
   "cell_type": "code",
   "execution_count": null,
   "id": "082f1dbc-f322-43c8-8c69-bc1f0df5765c",
   "metadata": {},
   "outputs": [],
   "source": [
    "' Q3. Compare and contrast mutable and immutable objects in Python with examples'\n",
    "\n",
    "# Mutable Objects:\n",
    "'''Can be modified after creation.\n",
    "Changes made to a mutable object affect its original reference.\n",
    "Examples: lists, dictionaries, sets.'''\n",
    "\n",
    "#Immutable Objects:\n",
    "\n",
    "\"\"\" Cannot be modified once created.\n",
    "Creating a new object is required to make changes.\n",
    "Examples: numbers (integers, floats), strings, tuples.\n",
    "'''"
   ]
  },
  {
   "cell_type": "code",
   "execution_count": 9,
   "id": "f1eaaf4a-81a9-47b2-b7bf-90ea06a4d307",
   "metadata": {},
   "outputs": [
    {
     "name": "stdout",
     "output_type": "stream",
     "text": [
      "[1, 2, 3, 4]\n",
      "{'a': 1, 'b': 2, 'c': 3}\n"
     ]
    }
   ],
   "source": [
    "# Example of Mutable Objects:\n",
    "\n",
    "# List (mutable)\n",
    "my_list = [1, 2, 3]\n",
    "my_list.append(4)  # Modifies the original list\n",
    "print(my_list)\n",
    "\n",
    "# Dictionary (mutable)\n",
    "my_dict = {'a': 1, 'b': 2}\n",
    "my_dict['c'] = 3  # Modifies the original dictionary\n",
    "print(my_dict)"
   ]
  },
  {
   "cell_type": "code",
   "execution_count": 12,
   "id": "7279442a-9ed5-4a1e-86d8-344926b9eab9",
   "metadata": {},
   "outputs": [
    {
     "name": "stdout",
     "output_type": "stream",
     "text": [
      "7\n",
      "hello world\n"
     ]
    }
   ],
   "source": [
    "# Example of Immutable Objects:\n",
    "\n",
    "# Number (immutable)\n",
    "x = 5\n",
    "x += 2  # Creates a new object with the value 7\n",
    "print(x)\n",
    "\n",
    "# String (immutable)\n",
    "my_string = \"hello\"\n",
    "my_string = my_string + \" world\"  # Creates a new string\n",
    "print(my_string)\n"
   ]
  },
  {
   "cell_type": "code",
   "execution_count": 13,
   "id": "4a78c2bd-a155-493f-a88a-d400256e83c6",
   "metadata": {},
   "outputs": [
    {
     "ename": "TypeError",
     "evalue": "'tuple' object does not support item assignment",
     "output_type": "error",
     "traceback": [
      "\u001b[1;31m---------------------------------------------------------------------------\u001b[0m",
      "\u001b[1;31mTypeError\u001b[0m                                 Traceback (most recent call last)",
      "Cell \u001b[1;32mIn[13], line 3\u001b[0m\n\u001b[0;32m      1\u001b[0m \u001b[38;5;66;03m# Tuple (immutable)\u001b[39;00m\n\u001b[0;32m      2\u001b[0m my_tuple \u001b[38;5;241m=\u001b[39m (\u001b[38;5;241m1\u001b[39m, \u001b[38;5;241m2\u001b[39m, \u001b[38;5;241m3\u001b[39m)\n\u001b[1;32m----> 3\u001b[0m \u001b[43mmy_tuple\u001b[49m\u001b[43m[\u001b[49m\u001b[38;5;241;43m0\u001b[39;49m\u001b[43m]\u001b[49m \u001b[38;5;241m=\u001b[39m \u001b[38;5;241m10\u001b[39m  \u001b[38;5;66;03m# This would raise an error, as tuples are immutable\u001b[39;00m\n",
      "\u001b[1;31mTypeError\u001b[0m: 'tuple' object does not support item assignment"
     ]
    }
   ],
   "source": [
    "# Tuple (immutable)\n",
    "my_tuple = (1, 2, 3)\n",
    "my_tuple[0] = 10  # This would raise an error, as tuples are immutable\n"
   ]
  },
  {
   "cell_type": "code",
   "execution_count": null,
   "id": "c1c3b53e-f038-4948-8d2d-1a129cc47a36",
   "metadata": {},
   "outputs": [],
   "source": [
    "' Q4. Discuss the different type of operators in python and provide examples of how they are used'\n",
    "# Ans. Python operators are special symbols or keywords that allow you to perform operations on variables and values. \n",
    "#They can be categorized into several types based on their functionality:"
   ]
  },
  {
   "cell_type": "code",
   "execution_count": 2,
   "id": "91c8fe10-de93-43c1-afcb-db8e1ceb606b",
   "metadata": {},
   "outputs": [
    {
     "name": "stdout",
     "output_type": "stream",
     "text": [
      "8\n",
      "2\n",
      "15\n",
      "1.6666666666666667\n",
      "1\n",
      "2\n",
      "125\n"
     ]
    }
   ],
   "source": [
    "# 1. Arithmetic Operators:\n",
    "\n",
    "#Addition (+): Adds two operands.\n",
    "a = 5\n",
    "b = 3\n",
    "result = a + b\n",
    "print(result)\n",
    "#Subtraction (-): Subtracts the second operand from the first.\n",
    "result = a - b\n",
    "print(result)\n",
    "#Multiplication (*): Multiplies two operands.\n",
    "result = a * b\n",
    "print(result)\n",
    "#Division (/): Divides the first operand by the second (floating-point division).\n",
    "result = a / b\n",
    "print(result)\n",
    "#Floor Division (//): Divides the first operand by the second and rounds down to the nearest whole number.\n",
    "result = a // b\n",
    "print(result)\n",
    "#Modulus (%): Returns the remainder of the division.\n",
    "result = a % b\n",
    "print(result)\n",
    "#Exponentiation (**): Raises the first operand to the power of the second.\n",
    "result = a ** b\n",
    "print(result)"
   ]
  },
  {
   "cell_type": "code",
   "execution_count": 3,
   "id": "1e98149f-8229-4421-9038-6a7a7740c8d5",
   "metadata": {},
   "outputs": [
    {
     "name": "stdout",
     "output_type": "stream",
     "text": [
      "False\n",
      "True\n",
      "False\n",
      "True\n",
      "False\n",
      "True\n"
     ]
    }
   ],
   "source": [
    "#2. Comparison Operators:\n",
    "#These operators are used to compare two values.\n",
    "\n",
    "#Equal (==): Checks if two operands are equal.\n",
    "a = 5\n",
    "b = 10\n",
    "result = (a == b)\n",
    "print(result)\n",
    "\n",
    "#Not Equal (!=): Checks if two operands are not equal.\n",
    "result = (a != b)\n",
    "print(result)\n",
    "\n",
    "#Greater Than (>): Checks if the first operand is greater than the second.\n",
    "result = (a > b)\n",
    "print(result)\n",
    "\n",
    "#Less Than (<): Checks if the first operand is less than the second.\n",
    "result = (a < b)\n",
    "print(result)\n",
    "\n",
    "#Greater Than or Equal To (>=): Checks if the first operand is greater than or equal to the second.\n",
    "result = (a >= b)\n",
    "print(result)\n",
    "\n",
    "#Less Than or Equal To (<=): Checks if the first operand is less than or equal to the second.\n",
    "result = (a <= b)\n",
    "print(result)"
   ]
  },
  {
   "cell_type": "code",
   "execution_count": 5,
   "id": "fa6749c3-4fd8-42d9-8499-35692feb6a6d",
   "metadata": {},
   "outputs": [
    {
     "name": "stdout",
     "output_type": "stream",
     "text": [
      "10\n",
      "15\n",
      "12\n",
      "24\n",
      "6.0\n",
      "3.0\n",
      "1.0\n",
      "1.0\n"
     ]
    }
   ],
   "source": [
    "#3. Assignment Operators: These operators are used to assign values to variables.\n",
    "\n",
    "#Assignment (=): Assigns the right-hand operand to the left-hand operand.\n",
    "c = 10  # c is 10\n",
    "print(c)\n",
    "\n",
    "#Add and Assign (+=): Adds the right-hand operand to the left-hand operand and assigns the result to the left-hand operand.\n",
    "c += 5  # c is now 15\n",
    "print(c)\n",
    "\n",
    "#Subtract and Assign (-=): Subtracts the right-hand operand from the left-hand operand and assigns the result to the left-hand operand.\n",
    "c -= 3  # c is now 12\n",
    "print(c)\n",
    "\n",
    "#Multiply and Assign (*=): Multiplies the left-hand operand by the right-hand operand and assigns the result to the left-hand operand.\n",
    "c *= 2  # c is now 24\n",
    "print(c)\n",
    "\n",
    "#Divide and Assign (/=): Divides the left-hand operand by the right-hand operand and assigns the result to the left-hand operand.\n",
    "c /= 4  # c is now 6.0\n",
    "print(c)\n",
    "\n",
    "#Floor Divide and Assign (//=): Floor divides the left-hand operand by the right-hand operand and assigns the result to the left-hand operand.\n",
    "c //= 2  # c is now 3.0\n",
    "print(c)\n",
    "\n",
    "#Modulus and Assign (%=): Takes the modulus of the left-hand operand by the right-hand operand and assigns the result to the left-hand operand.\n",
    "c %= 2  # c is now 1.0\n",
    "print(c)\n",
    "\n",
    "#Exponentiation and Assign (**=): Raises the left-hand operand to the power of the right-hand operand and assigns the result to the left-hand operand.\n",
    "c **= 3  # c is now 1.0\n",
    "print(c)\n"
   ]
  },
  {
   "cell_type": "code",
   "execution_count": 7,
   "id": "9ea302b4-0f82-43a0-a8a8-3b99aa4f03c5",
   "metadata": {},
   "outputs": [
    {
     "name": "stdout",
     "output_type": "stream",
     "text": [
      "True\n",
      "True\n",
      "False\n"
     ]
    }
   ],
   "source": [
    "# 4. Logical Operators: These operators are used to perform logical operations.\n",
    "\n",
    "a = 5\n",
    "b = 2\n",
    "#Logical AND (and): Returns True if both operands are true.\n",
    "result = (a > 2 and b < 5)  # result is True\n",
    "print(result)\n",
    "\n",
    "#Logical OR (or): Returns True if at least one operand is true.\n",
    "result = (a > 10 or b < 5)  # result is True\n",
    "print(result)\n",
    "\n",
    "#Logical NOT (not): Reverses the logical state of its operand.\n",
    "result = not(a > 2)  # result is False\n",
    "print(result)\n"
   ]
  },
  {
   "cell_type": "code",
   "execution_count": 10,
   "id": "42f72a54-f079-424e-a474-8d29b94864a8",
   "metadata": {},
   "outputs": [
    {
     "name": "stdout",
     "output_type": "stream",
     "text": [
      "0\n",
      "7\n",
      "7\n",
      "-6\n",
      "10\n",
      "2\n"
     ]
    }
   ],
   "source": [
    "#5. Bitwise Operators: These operators perform operations on binary numbers.\n",
    "\n",
    "a = 5\n",
    "b = 2\n",
    "#AND (&): Performs bitwise AND operation.\n",
    "result = a & b  # result is 0\n",
    "print(result)\n",
    "\n",
    "#OR (|): Performs bitwise OR operation.\n",
    "result = a | b  # result is 7\n",
    "print(result)\n",
    "\n",
    "#XOR (^): Performs bitwise XOR operation.\n",
    "result = a ^ b  # result is 6\n",
    "print(result)\n",
    "\n",
    "#NOT (~): Performs bitwise NOT operation.\n",
    "result = ~a  # result is -6\n",
    "print(result)\n",
    "\n",
    "#Left Shift (<<): Shifts the bits of the first operand to the left by the number of positions specified by the second operand.\n",
    "result = a << 1  # result is 10\n",
    "print(result)\n",
    "\n",
    "#Right Shift (>>): Shifts the bits of the first operand to the right by the number of positions specified by the second operand.\n",
    "result = a >> 1  # result is 2\n",
    "print(result)"
   ]
  },
  {
   "cell_type": "code",
   "execution_count": 14,
   "id": "90467684-0445-4659-b113-e4b5d7f86d40",
   "metadata": {},
   "outputs": [
    {
     "name": "stdout",
     "output_type": "stream",
     "text": [
      "True\n",
      "True\n"
     ]
    }
   ],
   "source": [
    "#6. Identity Operators: \n",
    "#These operators are used to check if two objects are the same in memory.\n",
    "\n",
    "#is: Returns True if both operands refer to the same object.\n",
    "x = [1, 2, 3]\n",
    "y = x\n",
    "result = (x is y)\n",
    "print(result)\n",
    "\n",
    "#is not: Returns True if both operands do not refer to the same object.\n",
    "z = [1, 2, 3]\n",
    "result = (x is not z)\n",
    "print(result)\n"
   ]
  },
  {
   "cell_type": "code",
   "execution_count": 18,
   "id": "0fd8a902-e7dd-4419-8e8e-881f20b196c0",
   "metadata": {},
   "outputs": [
    {
     "name": "stdout",
     "output_type": "stream",
     "text": [
      "True\n",
      "False\n"
     ]
    }
   ],
   "source": [
    "#7. Membership Operators\n",
    "#These operators are used to test if a sequence contains a certain value.\n",
    "\n",
    "#in: Returns True if the value is found in the sequence.\n",
    "x = [1,2,3]\n",
    "result = 2 in x\n",
    "print(result)\n",
    "\n",
    "#not in: Returns True if the value is not found in the sequence.\n",
    "result = 3 not in x\n",
    "print(result)"
   ]
  },
  {
   "cell_type": "code",
   "execution_count": null,
   "id": "8817be17-acee-4019-8e06-c6ffa868f72c",
   "metadata": {},
   "outputs": [],
   "source": [
    "'Q5. Explain the concept of type casting in python with example'\n",
    "#Ans. Type casting refers to the process of converting a variable from one data type to another. \n",
    "#This is often done when you need to perform operations that require specific data types or when you want to display data in a particular format.\n"
   ]
  },
  {
   "cell_type": "code",
   "execution_count": 19,
   "id": "c401d8a8-a5bd-4838-b02e-4c5bfdaaa9f8",
   "metadata": {},
   "outputs": [
    {
     "name": "stdout",
     "output_type": "stream",
     "text": [
      "10.0\n",
      "3\n",
      "Hello, world!\n",
      "13.14\n"
     ]
    }
   ],
   "source": [
    "# Define variables of different data types\n",
    "x = 10  # Integer\n",
    "y = 3.14  # Float\n",
    "z = \"Hello, world!\"  # String\n",
    "\n",
    "# Explicit type casting: You explicitly use the data type conversion functions (e.g., int(), float(), str()) to convert variables.\n",
    "#For example, float(x) converts the integer x to a float.\n",
    "a = float(x)  # Convert integer to float\n",
    "print(a)\n",
    "b = int(y)  # Convert float to integer\n",
    "print(b)\n",
    "c = str(z)  # Convert string to string (no change)\n",
    "print(c)\n",
    "\n",
    "# Implicit type casting (in certain cases): Python automatically converts data types in certain situations.\n",
    "#For example, when adding an integer and a float, Python converts the integer to a float for the operation.\n",
    "d = x + y  # Python automatically converts integer to float for addition\n",
    "print(d)"
   ]
  },
  {
   "cell_type": "code",
   "execution_count": null,
   "id": "bc7aa011-7708-4398-b56c-6f8d2ed51b27",
   "metadata": {},
   "outputs": [],
   "source": [
    "'Q6. How do conditional statement work in python? Illustrate with example'\n",
    "#Ans. Conditional statements are essential for making decisions and controlling the flow of our Python code. \n",
    "#They allow us to execute different code blocks based on specific conditions.\n",
    "\n",
    "#Types of Conditional Statements:\n",
    "1. if Statement: Executes a block of code if a condition is true.\n"
   ]
  },
  {
   "cell_type": "code",
   "execution_count": 20,
   "id": "bb6936ed-1da2-43e4-bde5-282ec4034063",
   "metadata": {},
   "outputs": [
    {
     "name": "stdout",
     "output_type": "stream",
     "text": [
      "You are eligible to vote.\n"
     ]
    }
   ],
   "source": [
    "age = 18\n",
    "if age >= 18:\n",
    "    print(\"You are eligible to vote.\")"
   ]
  },
  {
   "cell_type": "code",
   "execution_count": 21,
   "id": "62122b21-e8c0-4c16-8b7d-8090c8546f6d",
   "metadata": {},
   "outputs": [
    {
     "name": "stdout",
     "output_type": "stream",
     "text": [
      "x is positive.\n"
     ]
    }
   ],
   "source": [
    "#2. if-else Statement: Executes one block of code if a condition is true, and another block if it's false.\n",
    "x = 10\n",
    "if x > 0:\n",
    "    print(\"x is positive.\")\n",
    "else:\n",
    "    print(\"x is negative or zero.\")"
   ]
  },
  {
   "cell_type": "code",
   "execution_count": 22,
   "id": "4e19b28e-d50b-4d68-a557-4a50340f93a9",
   "metadata": {},
   "outputs": [
    {
     "name": "stdout",
     "output_type": "stream",
     "text": [
      "A\n"
     ]
    }
   ],
   "source": [
    "#3. if-elif-else Statement: Allows us to check multiple conditions and execute the appropriate block.\n",
    "grade = 90\n",
    "if grade >= 90:\n",
    "    print(\"A\")\n",
    "elif grade >= 80:\n",
    "    print(\"B\")\n",
    "elif grade >= 70:\n",
    "    print(\"C\")\n",
    "else:\n",
    "    print(\"F\")"
   ]
  },
  {
   "cell_type": "code",
   "execution_count": null,
   "id": "84c40498-e83d-4637-b9d5-7475783afc4d",
   "metadata": {},
   "outputs": [],
   "source": [
    "' Q7. Describe the different types of loops in python and their use cases with example.'\n",
    "# Ans: For Loop:\n",
    "# 1. For loops are used when you know in advance how many times you need to iterate over a sequence (like a list, tuple, string, or range). \n",
    "# They are ideal for iterating over a fixed collection of items or a known range of values.  \n",
    "#Example: Iterating Over a List:\n",
    "#Suppose we have a list of numbers, and we want to print each number in the list. \n",
    "#Here, we know the exact number of iterations required (equal to the length of the list).\n"
   ]
  },
  {
   "cell_type": "code",
   "execution_count": 23,
   "id": "560e1da8-49c2-4cdc-a360-1c63714b8a23",
   "metadata": {},
   "outputs": [
    {
     "name": "stdout",
     "output_type": "stream",
     "text": [
      "1\n",
      "2\n",
      "3\n",
      "4\n",
      "5\n"
     ]
    }
   ],
   "source": [
    "numbers = [1, 2, 3, 4, 5]\n",
    "\n",
    "for number in numbers:\n",
    "    print(number)"
   ]
  },
  {
   "cell_type": "code",
   "execution_count": null,
   "id": "06a907c6-902b-4258-9458-a92cb8ffc302",
   "metadata": {},
   "outputs": [],
   "source": [
    "# 2. While Loop: When the number of iterations is not known in advance and the loop should continue until a certain condition is met.\n",
    "# Example: Imagine you want to count down from 5 to 1"
   ]
  },
  {
   "cell_type": "code",
   "execution_count": 24,
   "id": "8b45b219-3d2f-42b1-87b5-3c138a833280",
   "metadata": {},
   "outputs": [
    {
     "name": "stdout",
     "output_type": "stream",
     "text": [
      "5\n",
      "4\n",
      "3\n",
      "2\n",
      "1\n"
     ]
    }
   ],
   "source": [
    "countdown = 5\n",
    "\n",
    "while countdown > 0:\n",
    "    print(countdown)\n",
    "    countdown = countdown -1"
   ]
  },
  {
   "cell_type": "code",
   "execution_count": 25,
   "id": "cfa82f90-6f04-430d-9d0a-bd6a031fe3d1",
   "metadata": {},
   "outputs": [
    {
     "name": "stdout",
     "output_type": "stream",
     "text": [
      "1\n",
      "2\n",
      "3\n",
      "2\n",
      "4\n",
      "6\n",
      "3\n",
      "6\n",
      "9\n"
     ]
    }
   ],
   "source": [
    "# 3. Nested Loops: Combining multiple loops within each other to perform more complex operations.\n",
    "\n",
    "for i in range(1, 4):\n",
    "    for j in range(1, 4):\n",
    "        print(i * j)"
   ]
  },
  {
   "cell_type": "code",
   "execution_count": null,
   "id": "74ef35f5-73d0-45f3-b4eb-147b4dbf6c17",
   "metadata": {},
   "outputs": [],
   "source": [
    "# 4. Break and Continue Statements:\n",
    "#Break: Exits the loop immediately.\n",
    "#Continue: Skips the current iteration and proceeds to the next one."
   ]
  },
  {
   "cell_type": "code",
   "execution_count": 28,
   "id": "b2e3c1b1-5098-48bd-a1ce-2bdf9380e7d6",
   "metadata": {},
   "outputs": [
    {
     "name": "stdout",
     "output_type": "stream",
     "text": [
      "1\n",
      "2\n"
     ]
    }
   ],
   "source": [
    "numbers = [1, 2, 3, 4, 5]\n",
    "for number in numbers:\n",
    "    if number == 3:\n",
    "        break\n",
    "    print(number)\n",
    "\n"
   ]
  },
  {
   "cell_type": "code",
   "execution_count": 27,
   "id": "13b2c5cd-2e5d-438b-9f10-137254467757",
   "metadata": {},
   "outputs": [
    {
     "name": "stdout",
     "output_type": "stream",
     "text": [
      "1\n",
      "3\n",
      "5\n"
     ]
    }
   ],
   "source": [
    "numbers = [1, 2, 3, 4, 5]\n",
    "for number in numbers:\n",
    "    if number % 2 == 0:\n",
    "        continue\n",
    "    print(number)"
   ]
  },
  {
   "cell_type": "code",
   "execution_count": null,
   "id": "8471d152-f1c2-4dd1-8e59-c6f225090931",
   "metadata": {},
   "outputs": [],
   "source": []
  }
 ],
 "metadata": {
  "kernelspec": {
   "display_name": "Python 3 (ipykernel)",
   "language": "python",
   "name": "python3"
  },
  "language_info": {
   "codemirror_mode": {
    "name": "ipython",
    "version": 3
   },
   "file_extension": ".py",
   "mimetype": "text/x-python",
   "name": "python",
   "nbconvert_exporter": "python",
   "pygments_lexer": "ipython3",
   "version": "3.12.3"
  }
 },
 "nbformat": 4,
 "nbformat_minor": 5
}

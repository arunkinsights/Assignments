{
 "cells": [
  {
   "cell_type": "code",
   "execution_count": null,
   "id": "4a23dcdd-9acf-4a79-9f2b-e477d826bea7",
   "metadata": {},
   "outputs": [],
   "source": [
    "#Theory Questions:\n",
    "\n",
    "# Q1. What is the difference between a function and a method in Python?"
   ]
  },
  {
   "cell_type": "markdown",
   "id": "26fede05-a751-4a98-a9f2-f3fa3be906eb",
   "metadata": {},
   "source": [
    "Ans. In Python, functions and methods are similar in that both are blocks of reusable code, but they have key differences:\n",
    "\n",
    "Function:\n",
    "\n",
    "A function is a block of code that is defined outside of any class.\n",
    "It can be called independently, without being associated with an object.\n",
    "It takes input (optional), performs some processing, and returns a result (optional).\n"
   ]
  },
  {
   "cell_type": "code",
   "execution_count": 2,
   "id": "e1e6a239-d005-40a9-b8ab-ff0e27215c19",
   "metadata": {},
   "outputs": [
    {
     "data": {
      "text/plain": [
       "'Hello, Arun!'"
      ]
     },
     "execution_count": 2,
     "metadata": {},
     "output_type": "execute_result"
    }
   ],
   "source": [
    "#Example of Function\n",
    "\n",
    "def greet(name):\n",
    "    return f\"Hello, {name}!\"\n",
    "greet(\"Arun\")"
   ]
  },
  {
   "cell_type": "markdown",
   "id": "941a5764-151d-46bd-a851-38bbf51511e8",
   "metadata": {},
   "source": [
    "Method:\n",
    "\n",
    "A method is a function that is defined inside a class and is associated with an object.\n",
    "It can only be called on an instance (or object) of that class.\n",
    "Methods often take self as their first parameter, which refers to the instance of the class.\n",
    "There are two types of methods: instance methods and class methods."
   ]
  },
  {
   "cell_type": "code",
   "execution_count": 3,
   "id": "efdab228-17ac-4d19-a155-47bac5c85662",
   "metadata": {},
   "outputs": [
    {
     "name": "stdout",
     "output_type": "stream",
     "text": [
      "Hello, Arun!\n"
     ]
    }
   ],
   "source": [
    "#Example of Methods\n",
    "\n",
    "class Person:\n",
    "    def __init__(self, name):\n",
    "        self.name = name\n",
    "    \n",
    "    def greet(self):\n",
    "        return f\"Hello, {self.name}!\"\n",
    "\n",
    "person = Person(\"Arun\")\n",
    "print(person.greet())  # This calls the 'greet' method\n"
   ]
  },
  {
   "cell_type": "code",
   "execution_count": null,
   "id": "181be933-32be-436f-9ff9-e56e85b0557b",
   "metadata": {},
   "outputs": [],
   "source": [
    "#Q2. Explain the concept of function arguments and parameters in Python."
   ]
  },
  {
   "cell_type": "markdown",
   "id": "e83ec270-23db-4d77-b4bd-93c8003fedce",
   "metadata": {},
   "source": [
    "Ans. In Python, function arguments and parameters refer to the values and variables used to pass information into functions.\n",
    "\n",
    "1. Parameters:\n",
    "- Parameters are variables that are defined in the function definition.\n",
    "- They act as placeholders for the values that the function will receive when it is called.\n",
    "- You specify parameters inside the parentheses after the function name.\n",
    "- When the function is called, these parameters are replaced with actual values (arguments).\n",
    "\n",
    "2. Arguments:\n",
    "\n",
    "-Arguments are the actual values or data that you pass to the function when you call it.\n",
    "-These values are assigned to the corresponding parameters in the function.\n",
    "-You pass arguments inside the parentheses when calling the function."
   ]
  },
  {
   "cell_type": "code",
   "execution_count": 7,
   "id": "9fcfb174-cfb2-4bea-860d-0691a00e994c",
   "metadata": {},
   "outputs": [
    {
     "name": "stdout",
     "output_type": "stream",
     "text": [
      "8\n"
     ]
    }
   ],
   "source": [
    "#Example:\n",
    "\n",
    "def add(a, b):  # 'a' and 'b' are parameters\n",
    "    return a + b\n",
    "result = add(5, 3)  # '5' and '3' are arguments\n",
    "print(result)       # Output will be 8"
   ]
  },
  {
   "cell_type": "markdown",
   "id": "9136e27e-24ea-458e-b661-5e07993e22d6",
   "metadata": {},
   "source": [
    "#Q3. What are the different ways to define and call a function in Python?"
   ]
  },
  {
   "cell_type": "markdown",
   "id": "67335ada-d622-40b2-8060-6b5147d0df8f",
   "metadata": {},
   "source": [
    "Ans. Defining a Function:\n",
    "In Python, you define a function using the def keyword followed by the function name, parentheses containing the parameters (if any), and a colon. \n",
    "The function body, which contains the code to be executed, is indented."
   ]
  },
  {
   "cell_type": "code",
   "execution_count": 20,
   "id": "d7306480-2853-4cdd-b155-15bd9e6e175d",
   "metadata": {},
   "outputs": [
    {
     "name": "stdout",
     "output_type": "stream",
     "text": [
      "Hello, Arun!\n"
     ]
    }
   ],
   "source": [
    "#Example:\n",
    "def greet(name):\n",
    "    print(\"Hello, \" + name + \"!\")\n",
    "\n",
    "greet(\"Arun\")"
   ]
  },
  {
   "cell_type": "code",
   "execution_count": null,
   "id": "1719e9fc-9efe-48ac-bd35-135c1f2c1771",
   "metadata": {},
   "outputs": [],
   "source": [
    "# Calling a Function:\n",
    "#To call a function, you simply write its name followed by parentheses containing the arguments"
   ]
  },
  {
   "cell_type": "code",
   "execution_count": 21,
   "id": "7c536a51-bda8-49bb-b0b1-e74633ad79a7",
   "metadata": {},
   "outputs": [
    {
     "name": "stdout",
     "output_type": "stream",
     "text": [
      "8\n"
     ]
    }
   ],
   "source": [
    "def add(x, y):\n",
    "    return x + y\n",
    "\n",
    "result = add(3, 5)\n",
    "print(result)"
   ]
  },
  {
   "cell_type": "code",
   "execution_count": null,
   "id": "bd32773f-44cf-4184-88a7-ef05cebf6a71",
   "metadata": {},
   "outputs": [],
   "source": [
    "#Different Ways to Define and Call Functions:"
   ]
  },
  {
   "cell_type": "markdown",
   "id": "40b43b4d-49cd-43aa-ad34-1aa8ea2e2f07",
   "metadata": {},
   "source": [
    "1. Regular Functions:\n",
    "\n",
    "Defined using the def keyword.\n",
    "Can have parameters and a return value.\n",
    "Called by name with parentheses containing arguments."
   ]
  },
  {
   "cell_type": "code",
   "execution_count": 23,
   "id": "0b30a829-3e4b-45b0-9548-8b7f7eb0a62b",
   "metadata": {},
   "outputs": [
    {
     "name": "stdout",
     "output_type": "stream",
     "text": [
      "Hello, Arun Kumar Singh!\n"
     ]
    }
   ],
   "source": [
    "def greet(name):\n",
    "    return f\"Hello, {name}!\"\n",
    "message = greet(\"Arun Kumar Singh\")\n",
    "print(message)  # Output: Hello, Arun!\n"
   ]
  },
  {
   "cell_type": "markdown",
   "id": "b5002c94-dc2c-43a1-a373-f7f650f7d678",
   "metadata": {},
   "source": [
    "2. Lambda Functions (Anonymous Functions):\n",
    "   \n",
    "Defined using the lambda keyword.\n",
    "Can have multiple parameters but can only contain a single expression.\n",
    "Often used for short, simple functions."
   ]
  },
  {
   "cell_type": "code",
   "execution_count": 24,
   "id": "94293514-c390-4de3-8876-ab6491c7d7b4",
   "metadata": {},
   "outputs": [
    {
     "name": "stdout",
     "output_type": "stream",
     "text": [
      "8\n"
     ]
    }
   ],
   "source": [
    "add = lambda x, y: x + y\n",
    "result = add(3, 5)\n",
    "print(result)"
   ]
  },
  {
   "cell_type": "markdown",
   "id": "a388d68c-df89-4b82-9b1f-96b6ece255bd",
   "metadata": {},
   "source": [
    "3. Recursive Functions:\n",
    "\n",
    "Functions that call themselves directly or indirectly.\n",
    "Used to solve problems that can be broken down into smaller, similar subproblems."
   ]
  },
  {
   "cell_type": "code",
   "execution_count": 26,
   "id": "07e9736a-58fe-42cc-8d19-b6b51cec04bf",
   "metadata": {},
   "outputs": [
    {
     "name": "stdout",
     "output_type": "stream",
     "text": [
      "120\n"
     ]
    }
   ],
   "source": [
    "def factorial(n):\n",
    "    if n == 0:\n",
    "        return 1\n",
    "    else:\n",
    "        return n * factorial(n - 1)\n",
    "\n",
    "result = factorial(5)\n",
    "print(result)"
   ]
  },
  {
   "cell_type": "markdown",
   "id": "63017660-ea25-409b-8dda-07d7f234b4d2",
   "metadata": {},
   "source": [
    "4. Generator Functions:\n",
    "\n",
    "Functions that return iterators using the yield keyword.\n",
    "Used to create sequences of values on the fly, often for memory efficiency."
   ]
  },
  {
   "cell_type": "code",
   "execution_count": 27,
   "id": "6978f76b-2d5f-428f-b0be-4bd3d278a911",
   "metadata": {},
   "outputs": [
    {
     "name": "stdout",
     "output_type": "stream",
     "text": [
      "1\n",
      "2\n",
      "3\n",
      "4\n",
      "5\n"
     ]
    }
   ],
   "source": [
    "def count_up(start, stop):\n",
    "    while start <= stop:\n",
    "        yield start\n",
    "        start += 1\n",
    "\n",
    "for number in count_up(1, 5):\n",
    "    print(number)"
   ]
  },
  {
   "cell_type": "markdown",
   "id": "c1c16398-0532-415f-84d6-fab15d5c3b9f",
   "metadata": {},
   "source": [
    "5. Nested Functions:\n",
    "\n",
    "Functions can be defined inside other functions."
   ]
  },
  {
   "cell_type": "code",
   "execution_count": 35,
   "id": "06d3437a-af3d-44ff-b83d-dde585606c55",
   "metadata": {},
   "outputs": [
    {
     "name": "stdout",
     "output_type": "stream",
     "text": [
      "Hello from inner function\n"
     ]
    }
   ],
   "source": [
    "def outer_function():\n",
    "    def inner_function():\n",
    "        return \"Hello from inner function\"\n",
    "    return inner_function()\n",
    "print(outer_function())\n"
   ]
  },
  {
   "cell_type": "markdown",
   "id": "efbf807d-4683-49df-82bd-245af670db81",
   "metadata": {},
   "source": [
    "6. Decorator Functions:\n",
    "\n",
    "Decorator functions are a special type of nested function designed to modify or enhance other functions. A decorator takes a function as input, wraps it with additional functionality (like logging or timing), and returns a new function with the same interface but enhanced behavior. Decorators are commonly used to reuse logic without altering the original function.\n",
    "\n",
    "Characteristics of Decorator Functions:\n",
    "Take a function as an argument: The decorator accepts another function and modifies its behavior.\n",
    "Return a new function: The decorator returns a wrapper function, which contains additional functionality before or after calling the original function.\n",
    "Reusable across multiple functions: Decorators can be applied to multiple functions without modifying the core logic of the decorated functions."
   ]
  },
  {
   "cell_type": "code",
   "execution_count": 36,
   "id": "72f8d828-10fe-466f-96d0-52492f845ce9",
   "metadata": {},
   "outputs": [
    {
     "name": "stdout",
     "output_type": "stream",
     "text": [
      "Code before the function call.\n",
      "Hello, Arun!\n",
      "Code after the function call.\n"
     ]
    }
   ],
   "source": [
    "def decorator_function(original_function):\n",
    "    def wrapper_function():\n",
    "        print(\"Code before the function call.\")\n",
    "        original_function()\n",
    "        print(\"Code after the function call.\")\n",
    "    return wrapper_function\n",
    "\n",
    "@decorator_function\n",
    "def greet():\n",
    "    print(\"Hello, Arun!\")\n",
    "\n",
    "greet()\n"
   ]
  },
  {
   "cell_type": "code",
   "execution_count": null,
   "id": "818ab637-3639-4140-98dc-8944ef3b1122",
   "metadata": {},
   "outputs": [],
   "source": [
    "#Q4. What is the purpose of the `return` statement in a Python function?"
   ]
  },
  {
   "cell_type": "markdown",
   "id": "6359cd1f-6d4d-43ef-a064-a48773f47b3a",
   "metadata": {},
   "source": [
    "Ans. The return statement in a Python function is used to exit the function and send a value back to the caller. \n",
    "It terminates the function's execution and optionally passes an expression or value as the result. \n",
    "If no return statement is used, the function will return None by default."
   ]
  },
  {
   "cell_type": "code",
   "execution_count": 39,
   "id": "ce204f08-c543-4556-87ff-724328d57e68",
   "metadata": {},
   "outputs": [
    {
     "name": "stdout",
     "output_type": "stream",
     "text": [
      "15\n"
     ]
    }
   ],
   "source": [
    "# Example:\n",
    "\n",
    "def add(a, b):\n",
    "    return a + b  # This returns the sum of a and b\n",
    "\n",
    "result = add(10, 5)\n",
    "print(result)  # Output will be 15\n",
    "\n",
    "#In this example, the return statement sends the result of a + b back to where the function was called."
   ]
  },
  {
   "cell_type": "code",
   "execution_count": null,
   "id": "09e83038-6a6f-4a58-917f-e0b9f43f0142",
   "metadata": {},
   "outputs": [],
   "source": [
    "#5. What are iterators in Python and how do they differ from iterables?"
   ]
  },
  {
   "cell_type": "markdown",
   "id": "36bd7cba-76f6-48df-9158-b5e53ccc6c0a",
   "metadata": {},
   "source": [
    "Ans. Iterators vs. Iterables in Python\n",
    "\n",
    "Iterators and iterables are two fundamental concepts in Python that enable efficient iteration over sequences of elements. While they may sound similar, they have distinct roles and characteristics."
   ]
  },
  {
   "cell_type": "markdown",
   "id": "4489b192-8568-4456-8bee-47d5cc503f76",
   "metadata": {},
   "source": [
    "Iterables:\n",
    "\n",
    "An iterable is any Python object capable of returning its elements one at a time. Common examples include lists, tuples, strings, and dictionaries. These objects have an __iter__() method, which returns an iterator.\n",
    "An iterable can be passed to a for loop to go over its elements, but it doesn’t track its current position. You need to explicitly create an iterator to handle this.\n"
   ]
  },
  {
   "cell_type": "code",
   "execution_count": 41,
   "id": "4efc22e5-8286-4306-9218-fabf549ce4f4",
   "metadata": {},
   "outputs": [
    {
     "name": "stdout",
     "output_type": "stream",
     "text": [
      "1\n",
      "2\n",
      "3\n",
      "4\n",
      "5\n"
     ]
    }
   ],
   "source": [
    "Examples of iterables:\n",
    "\n",
    "#List\n",
    "\n",
    "my_list = [1, 2, 3, 4, 5]\n",
    "for item in my_list:\n",
    "    print(item)"
   ]
  },
  {
   "cell_type": "code",
   "execution_count": 42,
   "id": "438854a0-6ac7-4fd4-bc78-0f4395a6330c",
   "metadata": {},
   "outputs": [
    {
     "name": "stdout",
     "output_type": "stream",
     "text": [
      "10\n",
      "20\n",
      "30\n"
     ]
    }
   ],
   "source": [
    "#Tuple:\n",
    "\n",
    "my_tuple = (10, 20, 30)\n",
    "for item in my_tuple:\n",
    "    print(item)\n"
   ]
  },
  {
   "cell_type": "code",
   "execution_count": 43,
   "id": "3469aad8-5260-4607-83b8-53b94540b36b",
   "metadata": {},
   "outputs": [
    {
     "name": "stdout",
     "output_type": "stream",
     "text": [
      "P\n",
      "y\n",
      "t\n",
      "h\n",
      "o\n",
      "n\n"
     ]
    }
   ],
   "source": [
    "# String:\n",
    "\n",
    "my_string = \"Python\"\n",
    "for char in my_string:\n",
    "    print(char)\n"
   ]
  },
  {
   "cell_type": "code",
   "execution_count": 44,
   "id": "5a470438-51b5-4515-92b1-9959e9fe3545",
   "metadata": {},
   "outputs": [
    {
     "name": "stdout",
     "output_type": "stream",
     "text": [
      "a 1\n",
      "b 2\n",
      "c 3\n"
     ]
    }
   ],
   "source": [
    "# Dictionary (iterating through keys):\n",
    "\n",
    "my_dict = {'a': 1, 'b': 2, 'c': 3}\n",
    "for key in my_dict:\n",
    "    print(key, my_dict[key])\n"
   ]
  },
  {
   "cell_type": "code",
   "execution_count": 45,
   "id": "032a6700-de57-4bfe-911f-7ba727ee2dd2",
   "metadata": {},
   "outputs": [
    {
     "name": "stdout",
     "output_type": "stream",
     "text": [
      "1\n",
      "2\n",
      "3\n",
      "4\n",
      "5\n"
     ]
    }
   ],
   "source": [
    "# Set\n",
    "\n",
    "my_set = {1, 2, 3, 4, 5}\n",
    "for item in my_set:\n",
    "    print(item)\n"
   ]
  },
  {
   "cell_type": "markdown",
   "id": "07103eec-7c37-4eda-9496-b1fb03a3a1a4",
   "metadata": {},
   "source": [
    "Iterators:\n",
    "\n",
    "An iterator is an object that represents a stream of data. It has two key methods: __iter__() (returns the iterator object itself) and __next__() (returns the next item in the sequence). When __next__() is called and there are no more items, it raises a StopIteration exception to signal that iteration is done.\n",
    "The iterator keeps track of its current position in the sequence, allowing it to return the next element each time next() is called."
   ]
  },
  {
   "cell_type": "code",
   "execution_count": 47,
   "id": "1607ec82-1a69-432a-b4fb-3fb8671c22f9",
   "metadata": {},
   "outputs": [
    {
     "name": "stdout",
     "output_type": "stream",
     "text": [
      "1\n",
      "2\n",
      "3\n"
     ]
    }
   ],
   "source": [
    "my_list = [1, 2, 3]\n",
    "iterator = iter(my_list)  # Create an iterator from the list\n",
    "\n",
    "print(next(iterator))  # Output: 1\n",
    "print(next(iterator))  # Output: 2\n",
    "print(next(iterator))  # Output: 3\n",
    "\n",
    "#In this case, my_list is an iterable, but iterator is the actual iterator object that allows you to retrieve the elements one by one using next()."
   ]
  },
  {
   "cell_type": "markdown",
   "id": "032f4313-fa9b-4e10-b1a0-9b5cb7a9fb63",
   "metadata": {},
   "source": [
    "Key difference: An iterable is an object that you can iterate over (using a loop), while an iterator is the object that actually performs the iteration, one element at a time."
   ]
  },
  {
   "cell_type": "code",
   "execution_count": null,
   "id": "f82a4713-ba01-4fd0-a4b4-8cce07e22824",
   "metadata": {},
   "outputs": [],
   "source": [
    "#6. Explain the concept of generators in Python and how they are defined."
   ]
  },
  {
   "cell_type": "markdown",
   "id": "42265698-3bd9-4460-ae0b-d19f84d80042",
   "metadata": {},
   "source": [
    "Ans. Generators are a special type of function in Python that return an iterator object. Unlike regular functions that return a single value at a time, generators return a sequence of values one at a time, on demand. This makes them efficient for dealing with large datasets or infinite sequences.\n",
    "\n",
    "How generators are defined:\n",
    "\n",
    "Use the yield keyword: Instead of using return to return a value, generators use yield. Each time yield is encountered, the generator's execution is paused, and the current value is returned to the caller. When the caller asks for the next value, the generator resumes execution from where it left off.\n",
    "Define a function: Create a regular function that contains yield statements.\n",
    "Call the function: When you call the generator function, it returns an iterator object.\n",
    "Iterate over the iterator: You can use a loop or other iteration methods to access the values generated by the iterator."
   ]
  },
  {
   "cell_type": "code",
   "execution_count": 49,
   "id": "5e01e4d5-15a5-48fc-941a-59424e5a8169",
   "metadata": {},
   "outputs": [
    {
     "name": "stdout",
     "output_type": "stream",
     "text": [
      "1\n",
      "2\n",
      "3\n"
     ]
    }
   ],
   "source": [
    "# Example 1: Basic Generator Function\n",
    "\n",
    "def my_generator():\n",
    "    yield 1\n",
    "    yield 2\n",
    "    yield 3\n",
    "\n",
    "gen = my_generator()\n",
    "\n",
    "# Iterating over the generator\n",
    "for value in gen:\n",
    "    print(value)\n"
   ]
  },
  {
   "cell_type": "code",
   "execution_count": null,
   "id": "8ffd9035-08aa-4e9e-9a02-22d044d163b3",
   "metadata": {},
   "outputs": [],
   "source": [
    "'''In this example:\n",
    "\n",
    "The function my_generator yields values one at a time.\n",
    "Each time yield is encountered, the function's state is saved, and the value is returned.\n",
    "When you iterate over the generator, it produces values on demand.'''"
   ]
  },
  {
   "cell_type": "code",
   "execution_count": 50,
   "id": "fe634f66-ffbe-4d94-990a-443b9d31c504",
   "metadata": {},
   "outputs": [
    {
     "name": "stdout",
     "output_type": "stream",
     "text": [
      "0\n",
      "1\n",
      "2\n",
      "3\n",
      "4\n"
     ]
    }
   ],
   "source": [
    "#Example 2: Generator for Infinite Sequence\n",
    "def infinite_sequence():\n",
    "    num = 0\n",
    "    while True:\n",
    "        yield num\n",
    "        num += 1\n",
    "\n",
    "gen = infinite_sequence()\n",
    "\n",
    "# Get the first 5 values from the generator\n",
    "for _ in range(5):\n",
    "    print(next(gen))\n"
   ]
  },
  {
   "cell_type": "code",
   "execution_count": null,
   "id": "51ee323c-4748-482c-8461-5642d3dfdc1b",
   "metadata": {},
   "outputs": [],
   "source": [
    "'''Here, infinite_sequence() is an infinite generator, and next(gen) is used to get the next value in the sequence.'''"
   ]
  },
  {
   "cell_type": "code",
   "execution_count": 51,
   "id": "bfb23cd9-dafa-486c-af60-6127cb782f44",
   "metadata": {},
   "outputs": [
    {
     "name": "stdout",
     "output_type": "stream",
     "text": [
      "0\n",
      "1\n",
      "4\n",
      "9\n",
      "16\n"
     ]
    }
   ],
   "source": [
    "# Example 3: Generator Expression\n",
    "#A generator can also be created using a generator expression, which is similar to list comprehension but uses parentheses instead of square brackets.\n",
    "\n",
    "gen_exp = (x**2 for x in range(5))\n",
    "\n",
    "for value in gen_exp:\n",
    "    print(value)\n"
   ]
  },
  {
   "cell_type": "code",
   "execution_count": null,
   "id": "ee72b543-4f8d-4333-8e6e-0467660ff457",
   "metadata": {},
   "outputs": [],
   "source": [
    "\"\"\"This is a memory-efficient way to compute large sequences, as values are generated on the fly instead of all at once.'''"
   ]
  },
  {
   "cell_type": "code",
   "execution_count": null,
   "id": "e0893287-b2e6-4316-af5b-13187d22e83b",
   "metadata": {},
   "outputs": [],
   "source": [
    "#Q7. What are the advantages of using generators over regular functions?"
   ]
  },
  {
   "cell_type": "markdown",
   "id": "13032ce6-22c5-46d7-9c75-0d98ea2c818e",
   "metadata": {},
   "source": [
    "Ans. Generators offer several key advantages over regular functions, particularly in terms of memory efficiency, lazy evaluation, and performance. Here's a breakdown with an example to illustrate these advantages:"
   ]
  },
  {
   "cell_type": "markdown",
   "id": "d7680999-04ba-43a6-881b-dfadeaf934bc",
   "metadata": {},
   "source": [
    "Advantages:\n",
    "Memory Efficiency: Regular functions return all values at once, which can consume a lot of memory if the dataset is large. Generators, on the other hand, yield values one by one without storing the entire sequence in memory.\n",
    "\n",
    "Lazy Evaluation: Generators produce values only when needed. This is useful when working with large data sets or streams where you don’t need all the data at once. It helps in reducing unnecessary computations and memory use.\n",
    "\n",
    "Improved Performance: Because generators yield values lazily, they tend to be faster and more efficient for tasks where partial results are needed immediately.\n",
    "\n",
    "Simpler Code for Iteration: Generators make it easier to write iterators in a more concise and readable manner, as they manage state between iterations internally.\n",
    "\n",
    "Infinite Sequences: Generators are well-suited for representing potentially infinite sequences (like streams of data or unbounded ranges), since they don't need to store all the values at once.\n",
    "\n"
   ]
  },
  {
   "cell_type": "code",
   "execution_count": null,
   "id": "eba6e5fe-d397-4986-9810-9072d77beb92",
   "metadata": {},
   "outputs": [],
   "source": [
    "#Example:\n",
    "#Suppose we want to generate the first 1 thousand numbers. Using a regular function would consume a lot of memory, while a generator handles this more efficiently."
   ]
  },
  {
   "cell_type": "code",
   "execution_count": 62,
   "id": "7f5b42de-b1d4-4587-878d-442202c87936",
   "metadata": {},
   "outputs": [
    {
     "name": "stdout",
     "output_type": "stream",
     "text": [
      "[0, 1, 2, 3, 4, 5, 6, 7, 8, 9, 10, 11, 12, 13, 14, 15, 16, 17, 18, 19, 20, 21, 22, 23, 24, 25, 26, 27, 28, 29, 30, 31, 32, 33, 34, 35, 36, 37, 38, 39, 40, 41, 42, 43, 44, 45, 46, 47, 48, 49, 50, 51, 52, 53, 54, 55, 56, 57, 58, 59, 60, 61, 62, 63, 64, 65, 66, 67, 68, 69, 70, 71, 72, 73, 74, 75, 76, 77, 78, 79, 80, 81, 82, 83, 84, 85, 86, 87, 88, 89, 90, 91, 92, 93, 94, 95, 96, 97, 98, 99, 100, 101, 102, 103, 104, 105, 106, 107, 108, 109, 110, 111, 112, 113, 114, 115, 116, 117, 118, 119, 120, 121, 122, 123, 124, 125, 126, 127, 128, 129, 130, 131, 132, 133, 134, 135, 136, 137, 138, 139, 140, 141, 142, 143, 144, 145, 146, 147, 148, 149, 150, 151, 152, 153, 154, 155, 156, 157, 158, 159, 160, 161, 162, 163, 164, 165, 166, 167, 168, 169, 170, 171, 172, 173, 174, 175, 176, 177, 178, 179, 180, 181, 182, 183, 184, 185, 186, 187, 188, 189, 190, 191, 192, 193, 194, 195, 196, 197, 198, 199, 200, 201, 202, 203, 204, 205, 206, 207, 208, 209, 210, 211, 212, 213, 214, 215, 216, 217, 218, 219, 220, 221, 222, 223, 224, 225, 226, 227, 228, 229, 230, 231, 232, 233, 234, 235, 236, 237, 238, 239, 240, 241, 242, 243, 244, 245, 246, 247, 248, 249, 250, 251, 252, 253, 254, 255, 256, 257, 258, 259, 260, 261, 262, 263, 264, 265, 266, 267, 268, 269, 270, 271, 272, 273, 274, 275, 276, 277, 278, 279, 280, 281, 282, 283, 284, 285, 286, 287, 288, 289, 290, 291, 292, 293, 294, 295, 296, 297, 298, 299, 300, 301, 302, 303, 304, 305, 306, 307, 308, 309, 310, 311, 312, 313, 314, 315, 316, 317, 318, 319, 320, 321, 322, 323, 324, 325, 326, 327, 328, 329, 330, 331, 332, 333, 334, 335, 336, 337, 338, 339, 340, 341, 342, 343, 344, 345, 346, 347, 348, 349, 350, 351, 352, 353, 354, 355, 356, 357, 358, 359, 360, 361, 362, 363, 364, 365, 366, 367, 368, 369, 370, 371, 372, 373, 374, 375, 376, 377, 378, 379, 380, 381, 382, 383, 384, 385, 386, 387, 388, 389, 390, 391, 392, 393, 394, 395, 396, 397, 398, 399, 400, 401, 402, 403, 404, 405, 406, 407, 408, 409, 410, 411, 412, 413, 414, 415, 416, 417, 418, 419, 420, 421, 422, 423, 424, 425, 426, 427, 428, 429, 430, 431, 432, 433, 434, 435, 436, 437, 438, 439, 440, 441, 442, 443, 444, 445, 446, 447, 448, 449, 450, 451, 452, 453, 454, 455, 456, 457, 458, 459, 460, 461, 462, 463, 464, 465, 466, 467, 468, 469, 470, 471, 472, 473, 474, 475, 476, 477, 478, 479, 480, 481, 482, 483, 484, 485, 486, 487, 488, 489, 490, 491, 492, 493, 494, 495, 496, 497, 498, 499, 500, 501, 502, 503, 504, 505, 506, 507, 508, 509, 510, 511, 512, 513, 514, 515, 516, 517, 518, 519, 520, 521, 522, 523, 524, 525, 526, 527, 528, 529, 530, 531, 532, 533, 534, 535, 536, 537, 538, 539, 540, 541, 542, 543, 544, 545, 546, 547, 548, 549, 550, 551, 552, 553, 554, 555, 556, 557, 558, 559, 560, 561, 562, 563, 564, 565, 566, 567, 568, 569, 570, 571, 572, 573, 574, 575, 576, 577, 578, 579, 580, 581, 582, 583, 584, 585, 586, 587, 588, 589, 590, 591, 592, 593, 594, 595, 596, 597, 598, 599, 600, 601, 602, 603, 604, 605, 606, 607, 608, 609, 610, 611, 612, 613, 614, 615, 616, 617, 618, 619, 620, 621, 622, 623, 624, 625, 626, 627, 628, 629, 630, 631, 632, 633, 634, 635, 636, 637, 638, 639, 640, 641, 642, 643, 644, 645, 646, 647, 648, 649, 650, 651, 652, 653, 654, 655, 656, 657, 658, 659, 660, 661, 662, 663, 664, 665, 666, 667, 668, 669, 670, 671, 672, 673, 674, 675, 676, 677, 678, 679, 680, 681, 682, 683, 684, 685, 686, 687, 688, 689, 690, 691, 692, 693, 694, 695, 696, 697, 698, 699, 700, 701, 702, 703, 704, 705, 706, 707, 708, 709, 710, 711, 712, 713, 714, 715, 716, 717, 718, 719, 720, 721, 722, 723, 724, 725, 726, 727, 728, 729, 730, 731, 732, 733, 734, 735, 736, 737, 738, 739, 740, 741, 742, 743, 744, 745, 746, 747, 748, 749, 750, 751, 752, 753, 754, 755, 756, 757, 758, 759, 760, 761, 762, 763, 764, 765, 766, 767, 768, 769, 770, 771, 772, 773, 774, 775, 776, 777, 778, 779, 780, 781, 782, 783, 784, 785, 786, 787, 788, 789, 790, 791, 792, 793, 794, 795, 796, 797, 798, 799, 800, 801, 802, 803, 804, 805, 806, 807, 808, 809, 810, 811, 812, 813, 814, 815, 816, 817, 818, 819, 820, 821, 822, 823, 824, 825, 826, 827, 828, 829, 830, 831, 832, 833, 834, 835, 836, 837, 838, 839, 840, 841, 842, 843, 844, 845, 846, 847, 848, 849, 850, 851, 852, 853, 854, 855, 856, 857, 858, 859, 860, 861, 862, 863, 864, 865, 866, 867, 868, 869, 870, 871, 872, 873, 874, 875, 876, 877, 878, 879, 880, 881, 882, 883, 884, 885, 886, 887, 888, 889, 890, 891, 892, 893, 894, 895, 896, 897, 898, 899, 900, 901, 902, 903, 904, 905, 906, 907, 908, 909, 910, 911, 912, 913, 914, 915, 916, 917, 918, 919, 920, 921, 922, 923, 924, 925, 926, 927, 928, 929, 930, 931, 932, 933, 934, 935, 936, 937, 938, 939, 940, 941, 942, 943, 944, 945, 946, 947, 948, 949, 950, 951, 952, 953, 954, 955, 956, 957, 958, 959, 960, 961, 962, 963, 964, 965, 966, 967, 968, 969, 970, 971, 972, 973, 974, 975, 976, 977, 978, 979, 980, 981, 982, 983, 984, 985, 986, 987, 988, 989, 990, 991, 992, 993, 994, 995, 996, 997, 998, 999]\n"
     ]
    }
   ],
   "source": [
    "# Regular function example:\n",
    "\n",
    "def generate_numbers(n):\n",
    "    numbers = []\n",
    "    for i in range(n):\n",
    "        numbers.append(i)\n",
    "    return numbers\n",
    "\n",
    "numbers = generate_numbers(1000)\n",
    "print(numbers)"
   ]
  },
  {
   "cell_type": "code",
   "execution_count": null,
   "id": "67fea14f-b8da-4ae2-afe6-8145a65d13be",
   "metadata": {},
   "outputs": [],
   "source": [
    "'''In this example, the entire list of 1 thousands numbers is generated and stored in memory, which is memory-intensive.'''"
   ]
  },
  {
   "cell_type": "code",
   "execution_count": 75,
   "id": "4f7e7766-485c-46f0-964e-23b32342c601",
   "metadata": {},
   "outputs": [
    {
     "name": "stdout",
     "output_type": "stream",
     "text": [
      "0\n",
      "1\n",
      "2\n",
      "3\n",
      "4\n",
      "5\n",
      "6\n",
      "7\n",
      "8\n",
      "9\n",
      "10\n",
      "11\n",
      "12\n",
      "13\n",
      "14\n",
      "15\n",
      "16\n",
      "17\n",
      "18\n",
      "19\n",
      "20\n",
      "21\n",
      "22\n",
      "23\n",
      "24\n",
      "25\n",
      "26\n",
      "27\n",
      "28\n",
      "29\n",
      "30\n",
      "31\n",
      "32\n",
      "33\n",
      "34\n",
      "35\n",
      "36\n",
      "37\n",
      "38\n",
      "39\n",
      "40\n",
      "41\n",
      "42\n",
      "43\n",
      "44\n",
      "45\n",
      "46\n",
      "47\n",
      "48\n",
      "49\n",
      "50\n",
      "51\n",
      "52\n",
      "53\n",
      "54\n",
      "55\n",
      "56\n",
      "57\n",
      "58\n",
      "59\n",
      "60\n",
      "61\n",
      "62\n",
      "63\n",
      "64\n",
      "65\n",
      "66\n",
      "67\n",
      "68\n",
      "69\n",
      "70\n",
      "71\n",
      "72\n",
      "73\n",
      "74\n",
      "75\n",
      "76\n",
      "77\n",
      "78\n",
      "79\n",
      "80\n",
      "81\n",
      "82\n",
      "83\n",
      "84\n",
      "85\n",
      "86\n",
      "87\n",
      "88\n",
      "89\n",
      "90\n",
      "91\n",
      "92\n",
      "93\n",
      "94\n",
      "95\n",
      "96\n",
      "97\n",
      "98\n",
      "99\n",
      "100\n",
      "101\n",
      "102\n",
      "103\n",
      "104\n",
      "105\n",
      "106\n",
      "107\n",
      "108\n",
      "109\n",
      "110\n",
      "111\n",
      "112\n",
      "113\n",
      "114\n",
      "115\n",
      "116\n",
      "117\n",
      "118\n",
      "119\n",
      "120\n",
      "121\n",
      "122\n",
      "123\n",
      "124\n",
      "125\n",
      "126\n",
      "127\n",
      "128\n",
      "129\n",
      "130\n",
      "131\n",
      "132\n",
      "133\n",
      "134\n",
      "135\n",
      "136\n",
      "137\n",
      "138\n",
      "139\n",
      "140\n",
      "141\n",
      "142\n",
      "143\n",
      "144\n",
      "145\n",
      "146\n",
      "147\n",
      "148\n",
      "149\n",
      "150\n",
      "151\n",
      "152\n",
      "153\n",
      "154\n",
      "155\n",
      "156\n",
      "157\n",
      "158\n",
      "159\n",
      "160\n",
      "161\n",
      "162\n",
      "163\n",
      "164\n",
      "165\n",
      "166\n",
      "167\n",
      "168\n",
      "169\n",
      "170\n",
      "171\n",
      "172\n",
      "173\n",
      "174\n",
      "175\n",
      "176\n",
      "177\n",
      "178\n",
      "179\n",
      "180\n",
      "181\n",
      "182\n",
      "183\n",
      "184\n",
      "185\n",
      "186\n",
      "187\n",
      "188\n",
      "189\n",
      "190\n",
      "191\n",
      "192\n",
      "193\n",
      "194\n",
      "195\n",
      "196\n",
      "197\n",
      "198\n",
      "199\n",
      "200\n",
      "201\n",
      "202\n",
      "203\n",
      "204\n",
      "205\n",
      "206\n",
      "207\n",
      "208\n",
      "209\n",
      "210\n",
      "211\n",
      "212\n",
      "213\n",
      "214\n",
      "215\n",
      "216\n",
      "217\n",
      "218\n",
      "219\n",
      "220\n",
      "221\n",
      "222\n",
      "223\n",
      "224\n",
      "225\n",
      "226\n",
      "227\n",
      "228\n",
      "229\n",
      "230\n",
      "231\n",
      "232\n",
      "233\n",
      "234\n",
      "235\n",
      "236\n",
      "237\n",
      "238\n",
      "239\n",
      "240\n",
      "241\n",
      "242\n",
      "243\n",
      "244\n",
      "245\n",
      "246\n",
      "247\n",
      "248\n",
      "249\n",
      "250\n",
      "251\n",
      "252\n",
      "253\n",
      "254\n",
      "255\n",
      "256\n",
      "257\n",
      "258\n",
      "259\n",
      "260\n",
      "261\n",
      "262\n",
      "263\n",
      "264\n",
      "265\n",
      "266\n",
      "267\n",
      "268\n",
      "269\n",
      "270\n",
      "271\n",
      "272\n",
      "273\n",
      "274\n",
      "275\n",
      "276\n",
      "277\n",
      "278\n",
      "279\n",
      "280\n",
      "281\n",
      "282\n",
      "283\n",
      "284\n",
      "285\n",
      "286\n",
      "287\n",
      "288\n",
      "289\n",
      "290\n",
      "291\n",
      "292\n",
      "293\n",
      "294\n",
      "295\n",
      "296\n",
      "297\n",
      "298\n",
      "299\n",
      "300\n",
      "301\n",
      "302\n",
      "303\n",
      "304\n",
      "305\n",
      "306\n",
      "307\n",
      "308\n",
      "309\n",
      "310\n",
      "311\n",
      "312\n",
      "313\n",
      "314\n",
      "315\n",
      "316\n",
      "317\n",
      "318\n",
      "319\n",
      "320\n",
      "321\n",
      "322\n",
      "323\n",
      "324\n",
      "325\n",
      "326\n",
      "327\n",
      "328\n",
      "329\n",
      "330\n",
      "331\n",
      "332\n",
      "333\n",
      "334\n",
      "335\n",
      "336\n",
      "337\n",
      "338\n",
      "339\n",
      "340\n",
      "341\n",
      "342\n",
      "343\n",
      "344\n",
      "345\n",
      "346\n",
      "347\n",
      "348\n",
      "349\n",
      "350\n",
      "351\n",
      "352\n",
      "353\n",
      "354\n",
      "355\n",
      "356\n",
      "357\n",
      "358\n",
      "359\n",
      "360\n",
      "361\n",
      "362\n",
      "363\n",
      "364\n",
      "365\n",
      "366\n",
      "367\n",
      "368\n",
      "369\n",
      "370\n",
      "371\n",
      "372\n",
      "373\n",
      "374\n",
      "375\n",
      "376\n",
      "377\n",
      "378\n",
      "379\n",
      "380\n",
      "381\n",
      "382\n",
      "383\n",
      "384\n",
      "385\n",
      "386\n",
      "387\n",
      "388\n",
      "389\n",
      "390\n",
      "391\n",
      "392\n",
      "393\n",
      "394\n",
      "395\n",
      "396\n",
      "397\n",
      "398\n",
      "399\n",
      "400\n",
      "401\n",
      "402\n",
      "403\n",
      "404\n",
      "405\n",
      "406\n",
      "407\n",
      "408\n",
      "409\n",
      "410\n",
      "411\n",
      "412\n",
      "413\n",
      "414\n",
      "415\n",
      "416\n",
      "417\n",
      "418\n",
      "419\n",
      "420\n",
      "421\n",
      "422\n",
      "423\n",
      "424\n",
      "425\n",
      "426\n",
      "427\n",
      "428\n",
      "429\n",
      "430\n",
      "431\n",
      "432\n",
      "433\n",
      "434\n",
      "435\n",
      "436\n",
      "437\n",
      "438\n",
      "439\n",
      "440\n",
      "441\n",
      "442\n",
      "443\n",
      "444\n",
      "445\n",
      "446\n",
      "447\n",
      "448\n",
      "449\n",
      "450\n",
      "451\n",
      "452\n",
      "453\n",
      "454\n",
      "455\n",
      "456\n",
      "457\n",
      "458\n",
      "459\n",
      "460\n",
      "461\n",
      "462\n",
      "463\n",
      "464\n",
      "465\n",
      "466\n",
      "467\n",
      "468\n",
      "469\n",
      "470\n",
      "471\n",
      "472\n",
      "473\n",
      "474\n",
      "475\n",
      "476\n",
      "477\n",
      "478\n",
      "479\n",
      "480\n",
      "481\n",
      "482\n",
      "483\n",
      "484\n",
      "485\n",
      "486\n",
      "487\n",
      "488\n",
      "489\n",
      "490\n",
      "491\n",
      "492\n",
      "493\n",
      "494\n",
      "495\n",
      "496\n",
      "497\n",
      "498\n",
      "499\n",
      "500\n",
      "501\n",
      "502\n",
      "503\n",
      "504\n",
      "505\n",
      "506\n",
      "507\n",
      "508\n",
      "509\n",
      "510\n",
      "511\n",
      "512\n",
      "513\n",
      "514\n",
      "515\n",
      "516\n",
      "517\n",
      "518\n",
      "519\n",
      "520\n",
      "521\n",
      "522\n",
      "523\n",
      "524\n",
      "525\n",
      "526\n",
      "527\n",
      "528\n",
      "529\n",
      "530\n",
      "531\n",
      "532\n",
      "533\n",
      "534\n",
      "535\n",
      "536\n",
      "537\n",
      "538\n",
      "539\n",
      "540\n",
      "541\n",
      "542\n",
      "543\n",
      "544\n",
      "545\n",
      "546\n",
      "547\n",
      "548\n",
      "549\n",
      "550\n",
      "551\n",
      "552\n",
      "553\n",
      "554\n",
      "555\n",
      "556\n",
      "557\n",
      "558\n",
      "559\n",
      "560\n",
      "561\n",
      "562\n",
      "563\n",
      "564\n",
      "565\n",
      "566\n",
      "567\n",
      "568\n",
      "569\n",
      "570\n",
      "571\n",
      "572\n",
      "573\n",
      "574\n",
      "575\n",
      "576\n",
      "577\n",
      "578\n",
      "579\n",
      "580\n",
      "581\n",
      "582\n",
      "583\n",
      "584\n",
      "585\n",
      "586\n",
      "587\n",
      "588\n",
      "589\n",
      "590\n",
      "591\n",
      "592\n",
      "593\n",
      "594\n",
      "595\n",
      "596\n",
      "597\n",
      "598\n",
      "599\n",
      "600\n",
      "601\n",
      "602\n",
      "603\n",
      "604\n",
      "605\n",
      "606\n",
      "607\n",
      "608\n",
      "609\n",
      "610\n",
      "611\n",
      "612\n",
      "613\n",
      "614\n",
      "615\n",
      "616\n",
      "617\n",
      "618\n",
      "619\n",
      "620\n",
      "621\n",
      "622\n",
      "623\n",
      "624\n",
      "625\n",
      "626\n",
      "627\n",
      "628\n",
      "629\n",
      "630\n",
      "631\n",
      "632\n",
      "633\n",
      "634\n",
      "635\n",
      "636\n",
      "637\n",
      "638\n",
      "639\n",
      "640\n",
      "641\n",
      "642\n",
      "643\n",
      "644\n",
      "645\n",
      "646\n",
      "647\n",
      "648\n",
      "649\n",
      "650\n",
      "651\n",
      "652\n",
      "653\n",
      "654\n",
      "655\n",
      "656\n",
      "657\n",
      "658\n",
      "659\n",
      "660\n",
      "661\n",
      "662\n",
      "663\n",
      "664\n",
      "665\n",
      "666\n",
      "667\n",
      "668\n",
      "669\n",
      "670\n",
      "671\n",
      "672\n",
      "673\n",
      "674\n",
      "675\n",
      "676\n",
      "677\n",
      "678\n",
      "679\n",
      "680\n",
      "681\n",
      "682\n",
      "683\n",
      "684\n",
      "685\n",
      "686\n",
      "687\n",
      "688\n",
      "689\n",
      "690\n",
      "691\n",
      "692\n",
      "693\n",
      "694\n",
      "695\n",
      "696\n",
      "697\n",
      "698\n",
      "699\n",
      "700\n",
      "701\n",
      "702\n",
      "703\n",
      "704\n",
      "705\n",
      "706\n",
      "707\n",
      "708\n",
      "709\n",
      "710\n",
      "711\n",
      "712\n",
      "713\n",
      "714\n",
      "715\n",
      "716\n",
      "717\n",
      "718\n",
      "719\n",
      "720\n",
      "721\n",
      "722\n",
      "723\n",
      "724\n",
      "725\n",
      "726\n",
      "727\n",
      "728\n",
      "729\n",
      "730\n",
      "731\n",
      "732\n",
      "733\n",
      "734\n",
      "735\n",
      "736\n",
      "737\n",
      "738\n",
      "739\n",
      "740\n",
      "741\n",
      "742\n",
      "743\n",
      "744\n",
      "745\n",
      "746\n",
      "747\n",
      "748\n",
      "749\n",
      "750\n",
      "751\n",
      "752\n",
      "753\n",
      "754\n",
      "755\n",
      "756\n",
      "757\n",
      "758\n",
      "759\n",
      "760\n",
      "761\n",
      "762\n",
      "763\n",
      "764\n",
      "765\n",
      "766\n",
      "767\n",
      "768\n",
      "769\n",
      "770\n",
      "771\n",
      "772\n",
      "773\n",
      "774\n",
      "775\n",
      "776\n",
      "777\n",
      "778\n",
      "779\n",
      "780\n",
      "781\n",
      "782\n",
      "783\n",
      "784\n",
      "785\n",
      "786\n",
      "787\n",
      "788\n",
      "789\n",
      "790\n",
      "791\n",
      "792\n",
      "793\n",
      "794\n",
      "795\n",
      "796\n",
      "797\n",
      "798\n",
      "799\n",
      "800\n",
      "801\n",
      "802\n",
      "803\n",
      "804\n",
      "805\n",
      "806\n",
      "807\n",
      "808\n",
      "809\n",
      "810\n",
      "811\n",
      "812\n",
      "813\n",
      "814\n",
      "815\n",
      "816\n",
      "817\n",
      "818\n",
      "819\n",
      "820\n",
      "821\n",
      "822\n",
      "823\n",
      "824\n",
      "825\n",
      "826\n",
      "827\n",
      "828\n",
      "829\n",
      "830\n",
      "831\n",
      "832\n",
      "833\n",
      "834\n",
      "835\n",
      "836\n",
      "837\n",
      "838\n",
      "839\n",
      "840\n",
      "841\n",
      "842\n",
      "843\n",
      "844\n",
      "845\n",
      "846\n",
      "847\n",
      "848\n",
      "849\n",
      "850\n",
      "851\n",
      "852\n",
      "853\n",
      "854\n",
      "855\n",
      "856\n",
      "857\n",
      "858\n",
      "859\n",
      "860\n",
      "861\n",
      "862\n",
      "863\n",
      "864\n",
      "865\n",
      "866\n",
      "867\n",
      "868\n",
      "869\n",
      "870\n",
      "871\n",
      "872\n",
      "873\n",
      "874\n",
      "875\n",
      "876\n",
      "877\n",
      "878\n",
      "879\n",
      "880\n",
      "881\n",
      "882\n",
      "883\n",
      "884\n",
      "885\n",
      "886\n",
      "887\n",
      "888\n",
      "889\n",
      "890\n",
      "891\n",
      "892\n",
      "893\n",
      "894\n",
      "895\n",
      "896\n",
      "897\n",
      "898\n",
      "899\n",
      "900\n",
      "901\n",
      "902\n",
      "903\n",
      "904\n",
      "905\n",
      "906\n",
      "907\n",
      "908\n",
      "909\n",
      "910\n",
      "911\n",
      "912\n",
      "913\n",
      "914\n",
      "915\n",
      "916\n",
      "917\n",
      "918\n",
      "919\n",
      "920\n",
      "921\n",
      "922\n",
      "923\n",
      "924\n",
      "925\n",
      "926\n",
      "927\n",
      "928\n",
      "929\n",
      "930\n",
      "931\n",
      "932\n",
      "933\n",
      "934\n",
      "935\n",
      "936\n",
      "937\n",
      "938\n",
      "939\n",
      "940\n",
      "941\n",
      "942\n",
      "943\n",
      "944\n",
      "945\n",
      "946\n",
      "947\n",
      "948\n",
      "949\n",
      "950\n",
      "951\n",
      "952\n",
      "953\n",
      "954\n",
      "955\n",
      "956\n",
      "957\n",
      "958\n",
      "959\n",
      "960\n",
      "961\n",
      "962\n",
      "963\n",
      "964\n",
      "965\n",
      "966\n",
      "967\n",
      "968\n",
      "969\n",
      "970\n",
      "971\n",
      "972\n",
      "973\n",
      "974\n",
      "975\n",
      "976\n",
      "977\n",
      "978\n",
      "979\n",
      "980\n",
      "981\n",
      "982\n",
      "983\n",
      "984\n",
      "985\n",
      "986\n",
      "987\n",
      "988\n",
      "989\n",
      "990\n",
      "991\n",
      "992\n",
      "993\n",
      "994\n",
      "995\n",
      "996\n",
      "997\n",
      "998\n",
      "999\n"
     ]
    }
   ],
   "source": [
    "# Generator example:\n",
    "\n",
    "def generate_numbers(n):\n",
    "    for i in range(n):\n",
    "        yield i\n",
    "\n",
    "numbers = generate_numbers(1000)\n",
    "\n",
    "for number in generate_numbers(1000):\n",
    "    print(number)\n"
   ]
  },
  {
   "cell_type": "code",
   "execution_count": null,
   "id": "8df49778-1ac1-4507-8b8c-09a5d40b3c40",
   "metadata": {},
   "outputs": [],
   "source": [
    "'''Here, the generator yields one value at a time, significantly reducing memory consumption.'''"
   ]
  },
  {
   "cell_type": "code",
   "execution_count": null,
   "id": "75616237-4227-4edf-95c3-f6688ccd339f",
   "metadata": {},
   "outputs": [],
   "source": [
    "''' In conclusion \n",
    "A regular function returns all values at once, consuming a lot of memory if the data set is large.\n",
    "A generator yields values one at a time, providing better memory efficiency and lazy evaluation, especially useful for large or infinite data sequences.'''"
   ]
  },
  {
   "cell_type": "code",
   "execution_count": null,
   "id": "397e81a0-d743-45bd-8e04-222df95e02b6",
   "metadata": {},
   "outputs": [],
   "source": [
    "#8. What is a lambda function in Python and when is it typically used?"
   ]
  },
  {
   "cell_type": "markdown",
   "id": "f1680f4b-4ae3-4eb9-be57-b81eae6bb308",
   "metadata": {},
   "source": [
    "Ans. A lambda function is a small, anonymous function defined using the lambda keyword. It's often referred to as a \"lambda expression\" or \"anonymous function.\" Unlike named functions, lambda functions don't have a specific name.\n",
    "\n",
    "When to Use Lambda Functions:\n",
    "\n",
    "Short, one-line functions: Lambda functions are ideal for concise, single-line functions that perform a simple task.\n",
    "Passing functions as arguments: They are often used as arguments to functions that expect functions as input, such as map, filter, reduce, and sorted.\n",
    "Creating temporary functions: Lambda functions can be used to create temporary functions that are only needed in a specific context."
   ]
  },
  {
   "cell_type": "code",
   "execution_count": 64,
   "id": "d63a632d-b62b-4e94-bf31-225fb21a2ff0",
   "metadata": {},
   "outputs": [
    {
     "name": "stdout",
     "output_type": "stream",
     "text": [
      "25\n"
     ]
    }
   ],
   "source": [
    "# A regular function to square a number\n",
    "def square(x):\n",
    "    return x * x\n",
    "\n",
    "# A lambda function to square a number\n",
    "square_lambda = lambda x: x * x\n",
    "\n",
    "# Using the lambda function\n",
    "result = square_lambda(5)\n",
    "print(result)  # Output: 25"
   ]
  },
  {
   "cell_type": "code",
   "execution_count": null,
   "id": "b58b35f8-5507-4864-917c-315548a07f81",
   "metadata": {},
   "outputs": [],
   "source": [
    "'''Key Points:\n",
    "\n",
    "Lambda functions are often used for functional programming paradigms.\n",
    "They can make code more concise and readable, especially when dealing with simple functions.\n",
    "However, for more complex functions, it's usually better to define a named function for better readability and maintainability.'''"
   ]
  },
  {
   "cell_type": "code",
   "execution_count": 68,
   "id": "672eb701-bd82-4d9f-8ad3-4207e23523d7",
   "metadata": {},
   "outputs": [
    {
     "name": "stdout",
     "output_type": "stream",
     "text": [
      "[(1, 'apple'), (2, 'orange'), (3, 'banana')]\n"
     ]
    }
   ],
   "source": [
    "#Common Use Cases of lambda function:\n",
    "\n",
    "#Sorting lists:\n",
    "data = [(1, 'apple'), (3, 'banana'), (2, 'orange')]\n",
    "data.sort(key=lambda x: x[0]) \n",
    "print(data)"
   ]
  },
  {
   "cell_type": "code",
   "execution_count": 69,
   "id": "cc408270-16d2-4425-b31b-fb0160ab8f5e",
   "metadata": {},
   "outputs": [
    {
     "name": "stdout",
     "output_type": "stream",
     "text": [
      "[2, 4]\n"
     ]
    }
   ],
   "source": [
    "# Filtering lists:\n",
    "\n",
    "numbers = [1, 2, 3, 4, 5]\n",
    "even_numbers = list(filter(lambda x: x % 2 == 0, numbers))\n",
    "print(even_numbers)"
   ]
  },
  {
   "cell_type": "code",
   "execution_count": 70,
   "id": "74c86bec-e319-46ce-9dae-f488732602f7",
   "metadata": {},
   "outputs": [
    {
     "name": "stdout",
     "output_type": "stream",
     "text": [
      "[1, 4, 9]\n"
     ]
    }
   ],
   "source": [
    "# Mapping values:\n",
    "\n",
    "numbers = [1, 2, 3]\n",
    "squared_numbers = list(map(lambda x: x * x, numbers))\n",
    "print(squared_numbers)"
   ]
  },
  {
   "cell_type": "code",
   "execution_count": null,
   "id": "f1ab4308-5683-40b0-b097-47d84513cf8f",
   "metadata": {},
   "outputs": [],
   "source": [
    "#Q9. Explain the purpose and usage of the `map()` function in Python."
   ]
  },
  {
   "cell_type": "markdown",
   "id": "713f4c43-2c25-4ed1-98d9-631738808e6e",
   "metadata": {},
   "source": [
    "Ans. The map() function in Python is a built-in function that applies a given function to each item of an iterable (like a list, tuple, or dictionary) and returns a new iterable containing the results. This is particularly useful for performing the same operation on multiple elements of a sequence.\n",
    "\n",
    "Purpose:\n",
    "\n",
    "To apply a function to each element of an iterable.\n",
    "To create a new iterable containing the results of the function application.\n",
    "\n",
    "Usage:\n",
    "\n",
    "The map() function in Python is used to apply a specified function to every item in an iterable (such as a list, tuple, or set) and returns a map object (an iterator). It allows you to transform data by applying the same operation to each element without using explicit loops."
   ]
  },
  {
   "cell_type": "code",
   "execution_count": 71,
   "id": "bf187240-1409-40de-ad39-da5239aa2b7e",
   "metadata": {},
   "outputs": [
    {
     "name": "stdout",
     "output_type": "stream",
     "text": [
      "[1, 4, 9, 16]\n"
     ]
    }
   ],
   "source": [
    "#Example of usage\n",
    "\n",
    "def square(x):\n",
    "    return x * x\n",
    "\n",
    "numbers = [1, 2, 3, 4]\n",
    "result = map(square, numbers)\n",
    "print(list(result))  # Output: [1, 4, 9, 16]\n"
   ]
  },
  {
   "cell_type": "code",
   "execution_count": null,
   "id": "e17b8926-8912-4a29-9a4e-75c5f99b1694",
   "metadata": {},
   "outputs": [],
   "source": [
    "#Q10. What is the difference between `map()`, `reduce()`, and `filter()` functions in Python?"
   ]
  },
  {
   "cell_type": "markdown",
   "id": "ac6b419a-3af2-4fd9-b5d8-5cd2017ed1dc",
   "metadata": {},
   "source": [
    "Ans.  In Python, map(), reduce(), and filter() are functional programming tools that allow you to process collections of data in a concise and expressive way. Here’s a breakdown of each:"
   ]
  },
  {
   "cell_type": "code",
   "execution_count": 72,
   "id": "418ffcc3-3800-4cdc-afbd-d94ad1aa2ec7",
   "metadata": {},
   "outputs": [
    {
     "name": "stdout",
     "output_type": "stream",
     "text": [
      "[1, 4, 9, 16]\n"
     ]
    }
   ],
   "source": [
    "# map()\n",
    "# Purpose: Apply a function to each item in an iterable (like a list or tuple) and return an iterable (map object) of the results.\n",
    "# Example:\n",
    "numbers = [1, 2, 3, 4]\n",
    "squared = map(lambda x: x ** 2, numbers)\n",
    "print(list(squared))  # Output: [1, 4, 9, 16]\n"
   ]
  },
  {
   "cell_type": "code",
   "execution_count": 73,
   "id": "fa911f60-95b4-4e39-9e3a-4b7141240e44",
   "metadata": {},
   "outputs": [
    {
     "name": "stdout",
     "output_type": "stream",
     "text": [
      "[2, 4]\n"
     ]
    }
   ],
   "source": [
    "# filter()\n",
    "# Purpose: Apply a function to each item in an iterable and return an iterable (filter object) containing only the items for which the function returns True.\n",
    "\n",
    "# Example:\n",
    "\n",
    "numbers = [1, 2, 3, 4, 5]\n",
    "even_numbers = filter(lambda x: x % 2 == 0, numbers)\n",
    "print(list(even_numbers))  # Output: [2, 4]\n"
   ]
  },
  {
   "cell_type": "code",
   "execution_count": 74,
   "id": "01a3ee68-9fc7-49bf-9d95-d52159b02e43",
   "metadata": {},
   "outputs": [
    {
     "name": "stdout",
     "output_type": "stream",
     "text": [
      "24\n"
     ]
    }
   ],
   "source": [
    "# reduce()\n",
    "# Purpose: Apply a binary function (a function that takes two arguments) cumulatively to the items in an iterable, from left to right, so as to reduce the iterable to a single value.\n",
    "\n",
    "# Example:\n",
    "from functools import reduce\n",
    "\n",
    "numbers = [1, 2, 3, 4]\n",
    "product = reduce(lambda x, y: x * y, numbers)\n",
    "print(product)  # Output: 24\n"
   ]
  },
  {
   "cell_type": "code",
   "execution_count": null,
   "id": "f042501d-f0c5-482a-9e7d-69a4a99d9d16",
   "metadata": {},
   "outputs": [],
   "source": [
    "# Q11. Using pen & Paper write the internal mechanism for sum operation using  reduce function on this given\n",
    "list:[47,11,42,13]; "
   ]
  },
  {
   "cell_type": "markdown",
   "id": "3929508e-07fd-4322-98f1-dc61c8d58f4e",
   "metadata": {},
   "source": [
    "Ans. Attached paper image for this answer in doc."
   ]
  },
  {
   "cell_type": "code",
   "execution_count": null,
   "id": "95890bde-3527-4eaf-8ede-45ecaf8ee8c4",
   "metadata": {},
   "outputs": [],
   "source": [
    "'Practical Questions of assignment:'"
   ]
  },
  {
   "cell_type": "code",
   "execution_count": null,
   "id": "2575d97b-e580-4074-99b2-5849c89f6908",
   "metadata": {},
   "outputs": [],
   "source": [
    "#Q1. Write a Python function that takes a list of numbers as input and returns the sum of all even numbers in\n",
    "the list."
   ]
  },
  {
   "cell_type": "code",
   "execution_count": 76,
   "id": "78be6d0a-8d97-4858-a2ae-1ce1980682d0",
   "metadata": {},
   "outputs": [
    {
     "name": "stdout",
     "output_type": "stream",
     "text": [
      "20\n"
     ]
    }
   ],
   "source": [
    "def sum_even_numbers(numbers):\n",
    "  \"\"\"Calculates the sum of even numbers in a list.\n",
    "\n",
    "  Args:\n",
    "    numbers: A list of numbers.\n",
    "\n",
    "  Returns:\n",
    "    The sum of even numbers in the list.\n",
    "  \"\"\"\n",
    "\n",
    "  sum_even = 0\n",
    "  for num in numbers:\n",
    "    if num % 2 == 0:\n",
    "      sum_even += num\n",
    "  return sum_even\n",
    "\n",
    "# Example usage:\n",
    "numbers = [1, 2, 3, 4, 5, 6, 7, 8]\n",
    "result = sum_even_numbers(numbers)\n",
    "print(result)  # Output: 20"
   ]
  },
  {
   "cell_type": "code",
   "execution_count": null,
   "id": "4a11a2ed-e44c-46e0-b03b-ee44e4d7e356",
   "metadata": {},
   "outputs": [],
   "source": [
    "#Q2. Create a Python function that accepts a string and returns the reverse of that string."
   ]
  },
  {
   "cell_type": "code",
   "execution_count": 78,
   "id": "8b92de38-ad36-475d-8eb4-5c8f0441a67f",
   "metadata": {},
   "outputs": [
    {
     "name": "stdout",
     "output_type": "stream",
     "text": [
      "hgniS ramuK nurA\n"
     ]
    }
   ],
   "source": [
    "def reverse_string(string):\n",
    "  \"\"\"Reverses a given string.\n",
    "\n",
    "  Args:\n",
    "    string: The string to be reversed.\n",
    "\n",
    "  Returns:\n",
    "    The reversed string.\n",
    "  \"\"\"\n",
    "\n",
    "  reversed_string = \"\"\n",
    "  for char in string:\n",
    "    reversed_string = char + reversed_string\n",
    "  return reversed_string\n",
    "\n",
    "# Example usage:\n",
    "string = \"Arun Kumar Singh\"\n",
    "reversed_string = reverse_string(string)\n",
    "print(reversed_string) "
   ]
  },
  {
   "cell_type": "code",
   "execution_count": null,
   "id": "fc7f4625-764c-4173-8486-ba2895476d04",
   "metadata": {},
   "outputs": [],
   "source": [
    "#Q3. Implement a Python function that takes a list of integers and returns a new list containing the squares of each number."
   ]
  },
  {
   "cell_type": "code",
   "execution_count": 79,
   "id": "82db37d0-9775-462e-be6a-abb94b7c400c",
   "metadata": {},
   "outputs": [
    {
     "name": "stdout",
     "output_type": "stream",
     "text": [
      "[1, 4, 9, 16, 25]\n"
     ]
    }
   ],
   "source": [
    "def square_numbers(numbers):\n",
    "  \"\"\"Squares each number in a list.\n",
    "\n",
    "  Args:\n",
    "    numbers: A list of integers.\n",
    "\n",
    "  Returns:\n",
    "    A new list containing the squares of each number.\n",
    "  \"\"\"\n",
    "\n",
    "  squared_numbers = []\n",
    "  for num in numbers:\n",
    "    squared_numbers.append(num * num)\n",
    "  return squared_numbers\n",
    "\n",
    "# Example usage:\n",
    "numbers = [1, 2, 3, 4, 5]\n",
    "squared_numbers = square_numbers(numbers)\n",
    "print(squared_numbers)  # Output: [1, 4, 9, 16, 25]"
   ]
  },
  {
   "cell_type": "code",
   "execution_count": null,
   "id": "84bcc2f7-d726-4468-953d-e15596f112e5",
   "metadata": {},
   "outputs": [],
   "source": [
    "#Q4. Write a Python function that checks if a given number is prime or not from 1 to 200."
   ]
  },
  {
   "cell_type": "code",
   "execution_count": 82,
   "id": "e71eb4e9-d01f-41c5-9937-c1b4f2dd7a72",
   "metadata": {},
   "outputs": [
    {
     "name": "stdout",
     "output_type": "stream",
     "text": [
      "2 is prime\n",
      "3 is prime\n",
      "5 is prime\n",
      "7 is prime\n",
      "11 is prime\n",
      "13 is prime\n",
      "17 is prime\n",
      "19 is prime\n",
      "23 is prime\n",
      "29 is prime\n",
      "31 is prime\n",
      "37 is prime\n",
      "41 is prime\n",
      "43 is prime\n",
      "47 is prime\n",
      "53 is prime\n",
      "59 is prime\n",
      "61 is prime\n",
      "67 is prime\n",
      "71 is prime\n",
      "73 is prime\n",
      "79 is prime\n",
      "83 is prime\n",
      "89 is prime\n",
      "97 is prime\n",
      "101 is prime\n",
      "103 is prime\n",
      "107 is prime\n",
      "109 is prime\n",
      "113 is prime\n",
      "127 is prime\n",
      "131 is prime\n",
      "137 is prime\n",
      "139 is prime\n",
      "149 is prime\n",
      "151 is prime\n",
      "157 is prime\n",
      "163 is prime\n",
      "167 is prime\n",
      "173 is prime\n",
      "179 is prime\n",
      "181 is prime\n",
      "191 is prime\n",
      "193 is prime\n",
      "197 is prime\n",
      "199 is prime\n"
     ]
    }
   ],
   "source": [
    "def is_prime(number):\n",
    "  \"\"\"Checks if a given number is prime.\n",
    "\n",
    "  Args:\n",
    "    number: The number to check.\n",
    "\n",
    "  Returns:\n",
    "    True if the number is prime, False otherwise.\n",
    "  \"\"\"\n",
    "\n",
    "  if number <= 1:\n",
    "    return False\n",
    "  if number <= 3:\n",
    "    return True\n",
    "  if number % 2 == 0 or number % 3 == 0:\n",
    "    return False\n",
    "\n",
    "  i = 5\n",
    "  while i * i <= number:\n",
    "    if number % i == 0 or number % (i + 2) == 0:\n",
    "      return False\n",
    "    i += 6\n",
    "\n",
    "  return True\n",
    "\n",
    "# Example usage:\n",
    "for number in range(1, 201):\n",
    "  if is_prime(number):\n",
    "    print(number, \"is prime\")\n"
   ]
  },
  {
   "cell_type": "code",
   "execution_count": null,
   "id": "affc064a-377f-4fb3-a604-816788ea46a0",
   "metadata": {},
   "outputs": [],
   "source": [
    "#Q5. Create an iterator class in Python that generates the Fibonacci sequence up to a specified number of terms."
   ]
  },
  {
   "cell_type": "code",
   "execution_count": 83,
   "id": "f33bb4ee-e71d-4edf-af9e-4eb0145fed0b",
   "metadata": {},
   "outputs": [
    {
     "name": "stdout",
     "output_type": "stream",
     "text": [
      "1\n",
      "1\n",
      "2\n",
      "3\n",
      "5\n",
      "8\n",
      "13\n",
      "21\n",
      "34\n",
      "55\n"
     ]
    }
   ],
   "source": [
    "class FibonacciIterator:\n",
    "  \"\"\"An iterator for the Fibonacci sequence.\"\"\"\n",
    "\n",
    "  def __init__(self, terms):\n",
    "    \"\"\"Initializes the Fibonacci iterator.\n",
    "\n",
    "    Args:\n",
    "      terms: The number of terms to generate.\n",
    "    \"\"\"\n",
    "\n",
    "    self.terms = terms\n",
    "    self.current_term = 0\n",
    "    self.a = 0\n",
    "    self.b = 1\n",
    "\n",
    "  def __iter__(self):\n",
    "    return self\n",
    "\n",
    "  def __next__(self):\n",
    "    if self.current_term < self.terms:\n",
    "      self.current_term += 1\n",
    "      self.a, self.b = self.b, self.a + self.b\n",
    "      return self.a\n",
    "    else:\n",
    "      raise StopIteration\n",
    "\n",
    "# Example usage:\n",
    "terms = 10\n",
    "fibonacci_iterator = FibonacciIterator(terms)\n",
    "for number in fibonacci_iterator:\n",
    "  print(number)"
   ]
  },
  {
   "cell_type": "code",
   "execution_count": null,
   "id": "613ba4f5-84c5-4331-b35b-ead5fe10f03b",
   "metadata": {},
   "outputs": [],
   "source": [
    "#Q6. Write a generator function in Python that yields the powers of 2 up to a given exponent."
   ]
  },
  {
   "cell_type": "code",
   "execution_count": 84,
   "id": "0894317d-9e03-417d-b812-e3f88db8d760",
   "metadata": {},
   "outputs": [
    {
     "name": "stdout",
     "output_type": "stream",
     "text": [
      "1\n",
      "2\n",
      "4\n",
      "8\n",
      "16\n",
      "32\n"
     ]
    }
   ],
   "source": [
    "def powers_of_two(exponent):\n",
    "  \"\"\"Generates powers of 2 up to a given exponent.\n",
    "\n",
    "  Args:\n",
    "    exponent: The maximum exponent.\n",
    "\n",
    "  Yields:\n",
    "    Powers of 2 up to the given exponent.\n",
    "  \"\"\"\n",
    "\n",
    "  power = 1\n",
    "  for _ in range(exponent + 1):\n",
    "    yield power\n",
    "    power *= 2\n",
    "\n",
    "# Example usage:\n",
    "exponent = 5\n",
    "for power in powers_of_two(exponent):\n",
    "  print(power)"
   ]
  },
  {
   "cell_type": "code",
   "execution_count": null,
   "id": "4c5de425-f483-44b9-9bba-a7395428dcf4",
   "metadata": {},
   "outputs": [],
   "source": [
    "#Q7. Implement a generator function that reads a file line by line and yields each line as a string."
   ]
  },
  {
   "cell_type": "code",
   "execution_count": null,
   "id": "a1a5792b-05c8-4c7f-8fcf-cb0dfdbddf9f",
   "metadata": {},
   "outputs": [],
   "source": [
    "\n",
    "def read_file_lines(file_path):\n",
    "    \"\"\"\n",
    "    A generator function that reads a file line by line and yields each line as a string.\n",
    "    \n",
    "    Parameters:\n",
    "    file_path (str): The path to the file to read.\n",
    "    \n",
    "    Yields:\n",
    "    str: Each line of the file as a string.\n",
    "    \"\"\"\n",
    "    try:\n",
    "        with open(file_path, 'r') as file:\n",
    "            for line in file:\n",
    "                yield line.strip()  # Yield each line with trailing newlines removed\n",
    "    except FileNotFoundError:\n",
    "        print(f\"Error: The file at {file_path} does not exist.\")\n",
    "    except IOError:\n",
    "        print(f\"Error: An IOError occurred while trying to read the file at {file_path}.\")\n",
    "\n",
    "# Example usage:\n",
    "file_path = 'C:\\Users\\Arun Kumar Singh\\Desktop\\Hello.txt'  # Replace with your file path\n",
    "for line in read_file_lines(file_path):\n",
    "    print(line)"
   ]
  },
  {
   "cell_type": "code",
   "execution_count": null,
   "id": "43646400-e626-45f8-9f88-7b136e300456",
   "metadata": {},
   "outputs": [],
   "source": [
    "#Q8. Use a lambda function in Python to sort a list of tuples based on the second element of each tuple."
   ]
  },
  {
   "cell_type": "code",
   "execution_count": 91,
   "id": "b3f4dee0-32bc-4c70-bdc9-defafb0e2394",
   "metadata": {},
   "outputs": [
    {
     "name": "stdout",
     "output_type": "stream",
     "text": [
      "[(4, 2), (1, 3), (2, 5)]\n"
     ]
    }
   ],
   "source": [
    "tuples = [(1, 3), (4, 2), (2, 5)]\n",
    "\n",
    "# Sort the tuples based on the second element using a lambda function\n",
    "sorted_tuples = sorted(tuples, key=lambda x: x[1])\n",
    "\n",
    "print(sorted_tuples)"
   ]
  },
  {
   "cell_type": "code",
   "execution_count": null,
   "id": "ed91d14e-07cf-4cc0-8280-f1f3559bca56",
   "metadata": {},
   "outputs": [],
   "source": [
    "#Q9. Write a Python program that uses `map()` to convert a list of temperatures from Celsius to Fahrenheit."
   ]
  },
  {
   "cell_type": "code",
   "execution_count": 92,
   "id": "f3de5ae2-d41c-4d06-8f1f-7162e44253bd",
   "metadata": {},
   "outputs": [
    {
     "name": "stdout",
     "output_type": "stream",
     "text": [
      "[77.0, 86.0, 95.0, 104.0]\n"
     ]
    }
   ],
   "source": [
    "def celsius_to_fahrenheit(celsius):\n",
    "  \"\"\"Converts Celsius to Fahrenheit.\n",
    "\n",
    "  Args:\n",
    "    celsius: The temperature in Celsius.\n",
    "\n",
    "  Returns:\n",
    "    The temperature in Fahrenheit.\n",
    "  \"\"\"\n",
    "\n",
    "  return (celsius * 9/5) + 32\n",
    "\n",
    "temperatures_celsius = [25, 30, 35, 40]\n",
    "\n",
    "# Use map() to convert temperatures from Celsius to Fahrenheit\n",
    "temperatures_fahrenheit = list(map(celsius_to_fahrenheit, temperatures_celsius))\n",
    "\n",
    "print(temperatures_fahrenheit)"
   ]
  },
  {
   "cell_type": "code",
   "execution_count": null,
   "id": "8edb6b6b-4e40-4986-84aa-8efab2bea60f",
   "metadata": {},
   "outputs": [],
   "source": [
    "#Q10. Create a Python program that uses `filter()` to remove all the vowels from a given string."
   ]
  },
  {
   "cell_type": "code",
   "execution_count": 93,
   "id": "a5e5f148-69a3-45c5-a453-36b6ba9a2ad2",
   "metadata": {},
   "outputs": [
    {
     "name": "stdout",
     "output_type": "stream",
     "text": [
      "Hll, Wrld!\n"
     ]
    }
   ],
   "source": [
    "def remove_vowels(char):\n",
    "  \"\"\"Checks if a character is a vowel.\n",
    "\n",
    "  Args:\n",
    "    char: The character to check.\n",
    "\n",
    "  Returns:\n",
    "    True if the character is a vowel, False otherwise.\n",
    "  \"\"\"\n",
    "\n",
    "  vowels = ['a', 'e', 'i', 'o', 'u']\n",
    "  return char.lower() not in vowels\n",
    "\n",
    "string = \"Hello, World!\"\n",
    "\n",
    "# Use filter() to remove vowels from the string\n",
    "filtered_string = ''.join(filter(remove_vowels, string))\n",
    "\n",
    "print(filtered_string)  # Output: Hll, Wrld!"
   ]
  },
  {
   "attachments": {},
   "cell_type": "markdown",
   "id": "2ccab2cb-3234-440f-8858-b672404102c1",
   "metadata": {},
   "source": [
    "#Q11) Imagine an accounting routine used in a book shop. It works on a list with sublists, which look like this:\n",
    "\n",
    "Order Number\tBook Title and Author\t            Quantity\tPrice per Item\t\n",
    "34587\t        Learning Python, Mark Lutz\t           4\t    40.95\t\n",
    "98762\t        Progranvning Python, Mark Lutz\t       5\t    56.80\t\n",
    "77226\t        Head First Python, Paul Barry\t       3\t    32.95\t\n",
    "88112\t        Einfuhrung in Python3, Bernd Klein\t   3\t    24.99\t\n",
    "\n",
    "Write a Python program, which returns a list with 2-tuples. Each tuple consists of the order number and the\n",
    "product of the price per item and the quantity. The product should be increased by 10,- € if the value of the\n",
    "order is smaller than 100,00 €.\n",
    "\n",
    "Write a Python program using lambda and map."
   ]
  },
  {
   "cell_type": "code",
   "execution_count": 99,
   "id": "3912917c-7d4e-47a7-9c08-581b96627744",
   "metadata": {},
   "outputs": [
    {
     "name": "stdout",
     "output_type": "stream",
     "text": [
      "[(34587, 163.8), (98762, 284.0), (77226, 108.85000000000001), (88112, 84.97)]\n"
     ]
    }
   ],
   "source": [
    "def calculate_order_value(order):\n",
    "    \"\"\"Calculates the total value of an order, including a 10€ surcharge if the value is less than 100€.\n",
    "\n",
    "    Args:\n",
    "      order: A list representing an order, with elements for order number, book title, author, quantity, and price per item.\n",
    "\n",
    "    Returns:\n",
    "      A tuple containing the order number and the total value of the order.\n",
    "    \"\"\"\n",
    "    try:\n",
    "        order_number, _, _, quantity, price_per_item = order\n",
    "        total_value = quantity * price_per_item\n",
    "        if total_value < 100:\n",
    "            total_value += 10\n",
    "        return order_number, total_value\n",
    "    except ValueError as e:\n",
    "        print(f\"Error processing order {order}: {e}\")\n",
    "        return None\n",
    "\n",
    "orders = [\n",
    "    [34587, \"Learning Python, Mark Lutz\", \"Mark Lutz\", 4, 40.95],\n",
    "    [98762, \"Programming Python, Mark Lutz\", \"Mark Lutz\", 5, 56.80],\n",
    "    [77226, \"Head First Python, Paul Barry\", \"Paul Barry\", 3, 32.95],\n",
    "    [88112, \"Einfuhrung in Python3, Bernd Klein\", \"Bernd Klein\", 3, 24.99],\n",
    "]\n",
    "\n",
    "# Use map() and a lambda function to calculate the order values\n",
    "result = list(map(lambda order: calculate_order_value(order), orders))\n",
    "\n",
    "print(result)\n"
   ]
  },
  {
   "cell_type": "code",
   "execution_count": null,
   "id": "b59e5472-2c90-4a9d-8456-cfa63bf15b67",
   "metadata": {},
   "outputs": [],
   "source": []
  }
 ],
 "metadata": {
  "kernelspec": {
   "display_name": "Python 3 (ipykernel)",
   "language": "python",
   "name": "python3"
  },
  "language_info": {
   "codemirror_mode": {
    "name": "ipython",
    "version": 3
   },
   "file_extension": ".py",
   "mimetype": "text/x-python",
   "name": "python",
   "nbconvert_exporter": "python",
   "pygments_lexer": "ipython3",
   "version": "3.12.3"
  }
 },
 "nbformat": 4,
 "nbformat_minor": 5
}

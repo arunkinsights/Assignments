{
 "cells": [
  {
   "cell_type": "code",
   "execution_count": null,
   "id": "86afd15e-7598-40a4-9389-ba958a414b67",
   "metadata": {},
   "outputs": [],
   "source": [
    "# Q1. Discuss string slicing and provide examples."
   ]
  },
  {
   "cell_type": "markdown",
   "id": "be71f846-e5da-4512-aeb4-1b962042b90f",
   "metadata": {},
   "source": [
    "Ans: String slicing is a powerful technique in Python that allows you to extract specific portions of a string. \n",
    "String slicing in Python allows you to access a subset of characters from a string by specifying a range of indices. This is a powerful tool for manipulating text data."
   ]
  },
  {
   "cell_type": "code",
   "execution_count": 10,
   "id": "c70e352b-80b9-40e9-b801-c4b3dc1eea9c",
   "metadata": {},
   "outputs": [
    {
     "name": "stdout",
     "output_type": "stream",
     "text": [
      "Arun \n",
      "Kumar Singh\n",
      "Arun \n"
     ]
    }
   ],
   "source": [
    "# Examples of String Slicing:\n",
    "# 1. Basic Slicing:-\n",
    "string = \"Arun Kumar Singh\"\n",
    "# Extract characters from index 0 (inclusive) to index 5 (exclusive)\n",
    "substring = string[0:5]\n",
    "print(substring)\n",
    "\n",
    "# Extract characters from index 5 (inclusive) to the end of the string\n",
    "substring = string[5:]\n",
    "print(substring)\n",
    "\n",
    "# Extract characters from the beginning of the string to index 5 (exclusive)\n",
    "substring = string[:5]\n",
    "print(substring)"
   ]
  },
  {
   "cell_type": "code",
   "execution_count": 11,
   "id": "43113bda-4875-447f-bc67-6fae436a57fb",
   "metadata": {},
   "outputs": [
    {
     "name": "stdout",
     "output_type": "stream",
     "text": [
      " Sing\n"
     ]
    }
   ],
   "source": [
    "#2. Slicing with Negative Indices:-\n",
    "text = \"Arun Kumar Singh\"\n",
    "sliced_text = text[-6:-1]\n",
    "print(sliced_text)\n"
   ]
  },
  {
   "cell_type": "code",
   "execution_count": 14,
   "id": "c80d584d-38e7-4216-a7f1-c726291293d6",
   "metadata": {},
   "outputs": [
    {
     "name": "stdout",
     "output_type": "stream",
     "text": [
      "Au ua \n"
     ]
    }
   ],
   "source": [
    "#3. Slicing with Step:-\n",
    "text = \"Arun Kumar Singh\"\n",
    "sliced_text = text[0:12:2] #The step value of 2 means every second character is taken.\n",
    "print(sliced_text)\n"
   ]
  },
  {
   "cell_type": "code",
   "execution_count": 13,
   "id": "07a53b04-36d8-41b1-a93e-578ab2e86c3e",
   "metadata": {},
   "outputs": [
    {
     "name": "stdout",
     "output_type": "stream",
     "text": [
      "hgniS ramuK nurA\n"
     ]
    }
   ],
   "source": [
    "#4. Reversing a String:-\n",
    "text = \"Arun Kumar Singh\"\n",
    "reversed_text = text[::-1]\n",
    "print(reversed_text)"
   ]
  },
  {
   "cell_type": "code",
   "execution_count": null,
   "id": "e962e3cf-4cbd-45ee-a6f7-34e96d77d355",
   "metadata": {},
   "outputs": [],
   "source": [
    "# Q2. Explain the key features of lists in Python."
   ]
  },
  {
   "cell_type": "markdown",
   "id": "adb563ea-6e9b-44e2-ab68-2f5d519b7b64",
   "metadata": {},
   "source": [
    "Ans. Lists are one of the most versatile data structures in Python, offering a flexible way to store and manipulate collections of elements.\n",
    "Here are some of its key features:"
   ]
  },
  {
   "cell_type": "code",
   "execution_count": 16,
   "id": "70e1ddab-e9ed-40d0-b9c4-2d04cc627945",
   "metadata": {},
   "outputs": [
    {
     "name": "stdout",
     "output_type": "stream",
     "text": [
      "10\n"
     ]
    }
   ],
   "source": [
    "#1. Ordered:-\n",
    "#Lists maintain the order of the elements as they are inserted.\n",
    "#Each element in a list has a specific index, starting from 0. You can access elements using their index.\n",
    "#You can extract a subset of elements from a list using slicing, specifying the starting and ending indices.\n",
    "my_list = [10, 20, 30, 40]\n",
    "print(my_list[0])\n"
   ]
  },
  {
   "cell_type": "code",
   "execution_count": 18,
   "id": "1cdaad71-5d74-418b-89e0-468569680f31",
   "metadata": {},
   "outputs": [
    {
     "name": "stdout",
     "output_type": "stream",
     "text": [
      "[10, 25, 30]\n"
     ]
    }
   ],
   "source": [
    "#2. Mutable:-\n",
    "#Lists are mutable, meaning you can change their content by adding, removing, or modifying elements after the list is created.\n",
    "my_list = [10, 20, 30]\n",
    "my_list[1] = 25\n",
    "print(my_list)\n"
   ]
  },
  {
   "cell_type": "code",
   "execution_count": 19,
   "id": "da95f43c-321f-43a5-8a16-be28687b9cdd",
   "metadata": {},
   "outputs": [
    {
     "name": "stdout",
     "output_type": "stream",
     "text": [
      "[10, 'Hello', 3.14, [1, 2, 3]]\n"
     ]
    }
   ],
   "source": [
    "#3. Heterogeneous Elements:-\n",
    "# A list can contain elements of different data types, such as integers, strings, floats, and even other lists.\n",
    "my_list = [10, \"Hello\", 3.14, [1, 2, 3]]\n",
    "print(my_list)\n"
   ]
  },
  {
   "cell_type": "code",
   "execution_count": 20,
   "id": "70e9c0ca-4592-43bc-86ad-f2c68518c609",
   "metadata": {},
   "outputs": [
    {
     "name": "stdout",
     "output_type": "stream",
     "text": [
      "[10, 20, 30, 40]\n"
     ]
    }
   ],
   "source": [
    "#4. Dynamic Size:-\n",
    "# Lists in Python can grow or shrink dynamically as you add or remove elements. There’s no need to declare the size of a list in advance.\n",
    "my_list = [10, 20, 30]\n",
    "my_list.append(40)\n",
    "print(my_list)\n"
   ]
  },
  {
   "cell_type": "code",
   "execution_count": 21,
   "id": "a78e4f84-2dac-4c12-aca3-cb63ac566bbc",
   "metadata": {},
   "outputs": [
    {
     "name": "stdout",
     "output_type": "stream",
     "text": [
      "30\n",
      "[20, 30, 40]\n",
      "50\n"
     ]
    }
   ],
   "source": [
    "#5. Indexing and Slicing:-\n",
    "# You can access individual elements using their index, or you can access a subset of the list using slicing.\n",
    "my_list = [10, 20, 30, 40, 50]\n",
    "print(my_list[2])\n",
    "print(my_list[1:4])\n",
    "print(my_list[-1])\n"
   ]
  },
  {
   "cell_type": "code",
   "execution_count": 24,
   "id": "6f93a824-9775-447d-b250-e49562d642a7",
   "metadata": {},
   "outputs": [
    {
     "name": "stdout",
     "output_type": "stream",
     "text": [
      "[10, 20, 30, 40]\n"
     ]
    }
   ],
   "source": [
    "#6. Methods for Modification:-\n",
    "#  Python provides a variety of built-in methods to modify lists, such as append(), extend(), insert(), remove(), pop(), and sort()\n",
    "my_list = [10, 20, 30]\n",
    "my_list.append(40)      # Adds 40 to the end\n",
    "print(my_list)"
   ]
  },
  {
   "cell_type": "code",
   "execution_count": 36,
   "id": "44b32ef9-a726-48f5-86ca-f1131fd3d2bf",
   "metadata": {},
   "outputs": [
    {
     "name": "stdout",
     "output_type": "stream",
     "text": [
      "[1, 2, 3, 4, 5, 6]\n"
     ]
    }
   ],
   "source": [
    "list1 = [1, 2, 3]\n",
    "list2 = [4, 5, 6]\n",
    "list1.extend(list2)\n",
    "print(list1)"
   ]
  },
  {
   "cell_type": "code",
   "execution_count": 37,
   "id": "98e06d21-d044-448c-8be6-23a224d4a48b",
   "metadata": {},
   "outputs": [
    {
     "name": "stdout",
     "output_type": "stream",
     "text": [
      "[1, 2, 3, 5]\n"
     ]
    }
   ],
   "source": [
    "my_list = [1, 3, 5]\n",
    "my_list.insert(1, 2)\n",
    "print(my_list)"
   ]
  },
  {
   "cell_type": "code",
   "execution_count": 38,
   "id": "4294d239-09f6-4dbf-b083-2c4b7b6d6e0b",
   "metadata": {},
   "outputs": [
    {
     "name": "stdout",
     "output_type": "stream",
     "text": [
      "[10, 30]\n"
     ]
    }
   ],
   "source": [
    "my_list = [10, 20, 30]\n",
    "my_list.remove(20) \n",
    "print(my_list)"
   ]
  },
  {
   "cell_type": "code",
   "execution_count": 39,
   "id": "5f3d3509-4893-4e7c-892a-6963f70130fd",
   "metadata": {},
   "outputs": [
    {
     "name": "stdout",
     "output_type": "stream",
     "text": [
      "3\n",
      "[1, 2, 4, 5]\n"
     ]
    }
   ],
   "source": [
    "my_list = [1, 2, 3, 4, 5]\n",
    "removed_element = my_list.pop(2)  # Removes the element at index 2\n",
    "print(removed_element)\n",
    "print(my_list)"
   ]
  },
  {
   "cell_type": "code",
   "execution_count": 40,
   "id": "876e4d04-ee6a-41ed-9efe-3de1c6dfd467",
   "metadata": {},
   "outputs": [
    {
     "name": "stdout",
     "output_type": "stream",
     "text": [
      "[1, 1, 2, 3, 4, 5, 5, 6, 9]\n"
     ]
    }
   ],
   "source": [
    "my_list = [3, 1, 4, 1, 5, 9, 2, 6, 5]\n",
    "my_list.sort()\n",
    "print(my_list)"
   ]
  },
  {
   "cell_type": "code",
   "execution_count": 42,
   "id": "ba75d464-7df5-43c0-9e8b-10eb380b33fd",
   "metadata": {},
   "outputs": [
    {
     "name": "stdout",
     "output_type": "stream",
     "text": [
      "[[1, 2, 3], [4, 5, 6], [7, 8, 9]]\n"
     ]
    }
   ],
   "source": [
    "# 7. Nested Lists:-\n",
    "# Lists can contain other lists as elements, allowing for the creation of multi-dimensional data structures like matrices.\n",
    "nested_list = [[1, 2, 3], [4, 5, 6], [7, 8, 9]]\n",
    "print(nested_list)"
   ]
  },
  {
   "cell_type": "code",
   "execution_count": 43,
   "id": "3574adb6-994d-42f2-8d74-fdb1411fed6a",
   "metadata": {},
   "outputs": [
    {
     "name": "stdout",
     "output_type": "stream",
     "text": [
      "10\n",
      "20\n",
      "30\n"
     ]
    }
   ],
   "source": [
    "#8. Support for Iteration:-\n",
    "# Lists can be easily iterated over using loops, making them suitable for tasks where you need to process each element.\n",
    "my_list = [10, 20, 30]\n",
    "for item in my_list:\n",
    "    print(item)"
   ]
  },
  {
   "cell_type": "code",
   "execution_count": null,
   "id": "91e915ff-1b0e-42ee-9fb1-84ee2b3e0b0f",
   "metadata": {},
   "outputs": [],
   "source": [
    "#Q3. Describe how to access, modify, and delete elements in a list with examples."
   ]
  },
  {
   "cell_type": "markdown",
   "id": "c1d4bbf5-04bc-4784-9439-e372778c53ec",
   "metadata": {},
   "source": [
    "Ans: In Python, accessing, modifying, and deleting elements in a list are fundamental operations. Below is an explanation of how to perform each of these actions with examples."
   ]
  },
  {
   "cell_type": "code",
   "execution_count": 45,
   "id": "bb331115-c73f-404f-a021-7b1820bdf148",
   "metadata": {},
   "outputs": [
    {
     "name": "stdout",
     "output_type": "stream",
     "text": [
      "30\n"
     ]
    }
   ],
   "source": [
    "# 1. Accessing Elements:\n",
    "#You can access elements in a list using their index. Python uses zero-based indexing, meaning the first element is at index 0.\n",
    "# Accessing a Single Element:\n",
    "my_list = [10, 20, 30, 40, 50]\n",
    "print(my_list[2]) #The element at index 2 is 30."
   ]
  },
  {
   "cell_type": "code",
   "execution_count": 46,
   "id": "d4bf9d32-0afe-425a-aea2-3f39de3ae0df",
   "metadata": {},
   "outputs": [
    {
     "name": "stdout",
     "output_type": "stream",
     "text": [
      "[20, 30, 40]\n"
     ]
    }
   ],
   "source": [
    "#Accessing Multiple Elements (Slicing):\n",
    "my_list = [10, 20, 30, 40, 50]\n",
    "print(my_list[1:4]) #The slice my_list[1:4] returns elements from index 1 to 3.\n"
   ]
  },
  {
   "cell_type": "code",
   "execution_count": 47,
   "id": "141a1f0e-8d22-46b2-826c-cc3642aa82f2",
   "metadata": {},
   "outputs": [
    {
     "name": "stdout",
     "output_type": "stream",
     "text": [
      "50\n"
     ]
    }
   ],
   "source": [
    "# Accessing with Negative Index:\n",
    "my_list = [10, 20, 30, 40, 50]\n",
    "print(my_list[-1])  # -1 refers to the last element in the list, which is 50.\n"
   ]
  },
  {
   "cell_type": "code",
   "execution_count": null,
   "id": "b92f8add-ad48-40f7-9851-857302b45441",
   "metadata": {},
   "outputs": [],
   "source": [
    "# 2. Modifying Elements:-\n",
    "#You can modify elements in a list by assigning a new value to an index.\n"
   ]
  },
  {
   "cell_type": "code",
   "execution_count": 50,
   "id": "e992997c-722e-4ce9-8170-607fbf322b82",
   "metadata": {},
   "outputs": [
    {
     "name": "stdout",
     "output_type": "stream",
     "text": [
      "[10, 20, 35, 40, 50]\n"
     ]
    }
   ],
   "source": [
    "# Modifying a Single Element:\n",
    "my_list = [10, 20, 30, 40, 50]\n",
    "my_list[2] = 35 #The element at index 2 is changed from 30 to 35.\n",
    "print(my_list)\n"
   ]
  },
  {
   "cell_type": "code",
   "execution_count": 49,
   "id": "7b90e3b5-af3d-4609-996d-bfb4845bda82",
   "metadata": {},
   "outputs": [
    {
     "name": "stdout",
     "output_type": "stream",
     "text": [
      "[10, 25, 35, 40, 50]\n"
     ]
    }
   ],
   "source": [
    "# Modifying Multiple Elements (Slicing):\n",
    "my_list = [10, 20, 30, 40, 50]\n",
    "my_list[1:3] = [25, 35] #Elements from index 1 to 2 are replaced with [25, 35]\n",
    "print(my_list)\n"
   ]
  },
  {
   "cell_type": "code",
   "execution_count": null,
   "id": "1075d1f3-3305-4c22-bd4d-fbd0cca0fbb1",
   "metadata": {},
   "outputs": [],
   "source": [
    "# 3. Deleting Elements:-\n",
    "# You can delete elements from a list using the del keyword, the remove() method, or the pop() method."
   ]
  },
  {
   "cell_type": "code",
   "execution_count": 51,
   "id": "eae235f8-edc1-45be-be46-4ce20c5953a1",
   "metadata": {},
   "outputs": [
    {
     "name": "stdout",
     "output_type": "stream",
     "text": [
      "[10, 20, 40, 50]\n"
     ]
    }
   ],
   "source": [
    "#Deleting a Single Element with del:\n",
    "my_list = [10, 20, 30, 40, 50]\n",
    "del my_list[2]\n",
    "print(my_list)"
   ]
  },
  {
   "cell_type": "code",
   "execution_count": null,
   "id": "e7f65958-ad17-4b31-996b-c31eda421a60",
   "metadata": {},
   "outputs": [],
   "source": [
    "# Deleting Multiple Elements with del (Slicing):\n",
    "my_list = [10, 20, 30, 40, 50]\n",
    "del my_list[1:3]\n",
    "print(my_list)\n"
   ]
  },
  {
   "cell_type": "code",
   "execution_count": 52,
   "id": "f75d7b30-6cc1-4242-8433-f378b14ff47a",
   "metadata": {},
   "outputs": [
    {
     "name": "stdout",
     "output_type": "stream",
     "text": [
      "[10, 20, 40, 50]\n"
     ]
    }
   ],
   "source": [
    "#Deleting an Element by Value with remove():\n",
    "my_list = [10, 20, 30, 40, 50]\n",
    "my_list.remove(30)\n",
    "print(my_list) \n"
   ]
  },
  {
   "cell_type": "code",
   "execution_count": 54,
   "id": "048e0246-d794-4811-be18-d8b373fa2fbf",
   "metadata": {},
   "outputs": [
    {
     "name": "stdout",
     "output_type": "stream",
     "text": [
      "[10, 20, 30, 40]\n"
     ]
    }
   ],
   "source": [
    "#Deleting the Last Element with pop():\n",
    "my_list = [10, 20, 30, 40, 50]\n",
    "my_list.pop()\n",
    "print(my_list)"
   ]
  },
  {
   "cell_type": "code",
   "execution_count": 55,
   "id": "c0d1bfc6-9e0e-484d-a1b5-fde421efac1d",
   "metadata": {},
   "outputs": [
    {
     "name": "stdout",
     "output_type": "stream",
     "text": [
      "[10, 30, 40, 50]\n"
     ]
    }
   ],
   "source": [
    "#Deleting an Element at a Specific Index with pop():\n",
    "my_list = [10, 20, 30, 40, 50]\n",
    "my_list.pop(1)\n",
    "print(my_list)\n"
   ]
  },
  {
   "cell_type": "code",
   "execution_count": null,
   "id": "6cc1e55c-d315-42ce-b357-92df80623bce",
   "metadata": {},
   "outputs": [],
   "source": [
    "# Q4. Compare and contrast tuples and lists with example."
   ]
  },
  {
   "cell_type": "markdown",
   "id": "7d8b8688-bec3-40ff-b802-4059a7e15a99",
   "metadata": {},
   "source": [
    "Ans. Tuples and lists are both data structures in Python that allow you to store multiple items in a single variable. However, they have some key differences in terms of mutability, syntax, and usage."
   ]
  },
  {
   "cell_type": "code",
   "execution_count": null,
   "id": "757d44b9-7ef7-44b3-8d13-0db5c24b78b2",
   "metadata": {},
   "outputs": [],
   "source": [
    "# 1. Mutability:-\n",
    "#Lists: Mutable, meaning you can change, add, or remove elements after the list is created.\n",
    "#Tuples: Immutable, meaning once a tuple is created, you cannot modify its elements."
   ]
  },
  {
   "cell_type": "code",
   "execution_count": 56,
   "id": "7f0982ef-f87d-41df-aae8-c38da4cc90e9",
   "metadata": {},
   "outputs": [
    {
     "name": "stdout",
     "output_type": "stream",
     "text": [
      "[10, 2, 3]\n"
     ]
    }
   ],
   "source": [
    "# List Example\n",
    "my_list = [1, 2, 3]\n",
    "my_list[0] = 10  # This is allowed\n",
    "print(my_list)\n"
   ]
  },
  {
   "cell_type": "code",
   "execution_count": 59,
   "id": "79ca31b5-b829-4c1e-986d-8c1030c07f39",
   "metadata": {},
   "outputs": [
    {
     "ename": "TypeError",
     "evalue": "'tuple' object does not support item assignment",
     "output_type": "error",
     "traceback": [
      "\u001b[1;31m---------------------------------------------------------------------------\u001b[0m",
      "\u001b[1;31mTypeError\u001b[0m                                 Traceback (most recent call last)",
      "Cell \u001b[1;32mIn[59], line 3\u001b[0m\n\u001b[0;32m      1\u001b[0m \u001b[38;5;66;03m# Tuple Example\u001b[39;00m\n\u001b[0;32m      2\u001b[0m my_tuple \u001b[38;5;241m=\u001b[39m (\u001b[38;5;241m1\u001b[39m, \u001b[38;5;241m2\u001b[39m, \u001b[38;5;241m3\u001b[39m)\n\u001b[1;32m----> 3\u001b[0m \u001b[43mmy_tuple\u001b[49m\u001b[43m[\u001b[49m\u001b[38;5;241;43m0\u001b[39;49m\u001b[43m]\u001b[49m \u001b[38;5;241m=\u001b[39m \u001b[38;5;241m10\u001b[39m  \u001b[38;5;66;03m# This will raise an error as tuples are immutable\u001b[39;00m\n",
      "\u001b[1;31mTypeError\u001b[0m: 'tuple' object does not support item assignment"
     ]
    }
   ],
   "source": [
    "# Tuple Example\n",
    "my_tuple = (1, 2, 3)\n",
    "my_tuple[0] = 10  # This will raise an error as tuples are immutable"
   ]
  },
  {
   "cell_type": "code",
   "execution_count": null,
   "id": "1ee416d5-0dbe-462a-a3f2-2f2b9f540c3c",
   "metadata": {},
   "outputs": [],
   "source": [
    "# 2. Syntax:\n",
    "#Lists: Created using square brackets [].\n",
    "#Tuples: Created using parentheses ()."
   ]
  },
  {
   "cell_type": "code",
   "execution_count": 60,
   "id": "a0115cce-5033-4633-87f7-eed19aaa3a0e",
   "metadata": {},
   "outputs": [],
   "source": [
    "# List Example\n",
    "my_list = [1, 2, 3]\n",
    "\n",
    "# Tuple Example\n",
    "my_tuple = (1, 2, 3)\n"
   ]
  },
  {
   "cell_type": "code",
   "execution_count": null,
   "id": "5313638d-28f2-40ab-803f-bc7d5fe99854",
   "metadata": {},
   "outputs": [],
   "source": [
    "#3. Use Cases:\n",
    "#Lists: Used when you need a collection of items that may change over time, such as a list of tasks or items in a shopping cart.\n",
    "#Tuples: Used when you need a fixed collection of items, such as coordinates (x, y) or the days of the week."
   ]
  },
  {
   "cell_type": "code",
   "execution_count": 63,
   "id": "8d70d500-74f6-4ad2-a860-9e1514e4548c",
   "metadata": {},
   "outputs": [
    {
     "name": "stdout",
     "output_type": "stream",
     "text": [
      "['apple', 'banana', 'orange', 'grape']\n"
     ]
    }
   ],
   "source": [
    "# List Example (Shopping Cart)\n",
    "shopping_cart = ['apple', 'banana', 'orange']\n",
    "shopping_cart.append('grape')  # You can add more items\n",
    "print(shopping_cart)"
   ]
  },
  {
   "cell_type": "code",
   "execution_count": 65,
   "id": "33111de8-6c4f-43cd-813a-32d9cd8cb416",
   "metadata": {},
   "outputs": [
    {
     "name": "stdout",
     "output_type": "stream",
     "text": [
      "(10, 20)\n"
     ]
    }
   ],
   "source": [
    "# Tuple Example (Coordinates)\n",
    "coordinates = (10, 20)  # Coordinates won't change, so a tuple is appropriate\n",
    "print(coordinates)"
   ]
  },
  {
   "cell_type": "code",
   "execution_count": null,
   "id": "3f05265d-35a9-428c-a605-256ca1d5fe9f",
   "metadata": {},
   "outputs": [],
   "source": [
    "# 4.  Performance:\n",
    "#Lists: Generally slower than tuples when it comes to iteration because of their mutability.\n",
    "#Tuples: Faster than lists as they are immutable, making them more memory-efficient."
   ]
  },
  {
   "cell_type": "code",
   "execution_count": null,
   "id": "2673c4a5-4b1a-4726-a1c0-100a369741de",
   "metadata": {},
   "outputs": [],
   "source": [
    "# 5. Methods:\n",
    "#Lists: Have many built-in methods like append(), remove(), pop(), etc.\n",
    "#Tuples: Have very few methods, primarily count() and index()."
   ]
  },
  {
   "cell_type": "code",
   "execution_count": 66,
   "id": "9c9da9dd-e79f-4435-a52e-0937b4004e88",
   "metadata": {},
   "outputs": [
    {
     "name": "stdout",
     "output_type": "stream",
     "text": [
      "[1, 2, 3, 4]\n"
     ]
    }
   ],
   "source": [
    "# List Methods Example\n",
    "my_list = [1, 2, 3]\n",
    "my_list.append(4)   # Adds 4 to the list\n",
    "print(my_list)      # Output: [1, 2, 3, 4]\n"
   ]
  },
  {
   "cell_type": "code",
   "execution_count": 67,
   "id": "7dca02bf-e280-4851-9b79-de56c2115697",
   "metadata": {},
   "outputs": [
    {
     "name": "stdout",
     "output_type": "stream",
     "text": [
      "2\n",
      "1\n"
     ]
    }
   ],
   "source": [
    "# Tuple Methods Example\n",
    "my_tuple = (1, 2, 3, 1)\n",
    "print(my_tuple.count(1))  # Output: 2 (counts the occurrences of 1)\n",
    "print(my_tuple.index(2))  # Output: 1 (returns the index of the first occurrence of 2)\n"
   ]
  },
  {
   "cell_type": "code",
   "execution_count": null,
   "id": "61606485-290f-4e5d-824b-c60e89416f06",
   "metadata": {},
   "outputs": [],
   "source": [
    "# 6. Immutability Implications:\n",
    "#Lists: Since they are mutable, lists can be altered in place without creating a new object.\n",
    "#Tuples: Being immutable, any operation that would modify a tuple will result in the creation of a new tuple object."
   ]
  },
  {
   "cell_type": "code",
   "execution_count": 68,
   "id": "e5d87a55-ab2d-4d44-8eaf-fc57372ffc40",
   "metadata": {},
   "outputs": [
    {
     "name": "stdout",
     "output_type": "stream",
     "text": [
      "[1, 20, 3]\n"
     ]
    }
   ],
   "source": [
    "# List Mutability\n",
    "my_list = [1, 2, 3]\n",
    "my_list[1] = 20\n",
    "print(my_list)\n"
   ]
  },
  {
   "cell_type": "code",
   "execution_count": 69,
   "id": "2574f19a-4e3a-4eab-beb3-d9faf682f5d6",
   "metadata": {},
   "outputs": [
    {
     "name": "stdout",
     "output_type": "stream",
     "text": [
      "(1, 2, 3, 4)\n"
     ]
    }
   ],
   "source": [
    "# Tuple Immutability\n",
    "my_tuple = (1, 2, 3)\n",
    "new_tuple = my_tuple + (4,)  # Concatenation creates a new tuple\n",
    "print(new_tuple)"
   ]
  },
  {
   "cell_type": "code",
   "execution_count": null,
   "id": "65252dbc-ccf9-4fd4-8cae-cba2e941a08b",
   "metadata": {},
   "outputs": [],
   "source": [
    "# Q5. Describe the key features of sets and provide example of their use."
   ]
  },
  {
   "cell_type": "markdown",
   "id": "7f429234-0c89-468f-ac65-e292b52e8b48",
   "metadata": {},
   "source": [
    "Ans. Key Features of Sets in Python\n",
    "Unordered Collection:\n",
    "Sets do not maintain any specific order of elements. Unlike lists or tuples, the elements in a set have no index. This means you cannot access elements using positions or slices.\n",
    "\n",
    "Unique Elements:\n",
    "A set automatically removes duplicate values. Each element in a set must be unique, so if you try to add a duplicate element, it will be ignored.\n",
    "\n",
    "Mutable:\n",
    "Sets are mutable, meaning you can add or remove elements after the set has been created. However, the elements themselves must be immutable (e.g., numbers, strings, tuples).\n",
    "\n",
    "Set Operations:\n",
    "Sets support mathematical operations like union, intersection, difference, and symmetric difference. These operations allow you to perform common set theory operations easily.\n",
    "\n",
    "No Indexing:\n",
    "Because sets are unordered, you cannot access or change elements by index. Operations are done using methods like add(), remove(), or through set operations.\n",
    "\n",
    "Performance:\n",
    "Sets are implemented using hash tables, which makes membership testing (in or not in) very efficient, typically O(1) time complexity."
   ]
  },
  {
   "cell_type": "code",
   "execution_count": 71,
   "id": "13b0907e-7ece-410a-9b7a-25f5e17cd9dd",
   "metadata": {},
   "outputs": [
    {
     "name": "stdout",
     "output_type": "stream",
     "text": [
      "{1, 2, 3, 4, 5, 6}\n",
      "{1, 2, 3, 4, 5, 6, 7}\n",
      "{1, 2, 4, 5, 6, 7}\n",
      "True\n",
      "{1, 2, 4, 5, 6, 7, 8, 9}\n",
      "{5, 6, 7}\n",
      "{1, 2, 4}\n"
     ]
    }
   ],
   "source": [
    "# Creating a set\n",
    "my_set = {1, 2, 3, 4, 5, 5, 6}\n",
    "print(my_set)  # Output: {1, 2, 3, 4, 5, 6} (duplicates removed)\n",
    "\n",
    "# Adding an element to the set\n",
    "my_set.add(7)\n",
    "print(my_set)  # Output: {1, 2, 3, 4, 5, 6, 7}\n",
    "\n",
    "# Removing an element from the set\n",
    "my_set.remove(3)\n",
    "print(my_set)  # Output: {1, 2, 4, 5, 6, 7}\n",
    "\n",
    "# Checking membership\n",
    "print(4 in my_set)  # Output: True\n",
    "\n",
    "# Set operations\n",
    "another_set = {5, 6, 7, 8, 9}\n",
    "\n",
    "# Union\n",
    "print(my_set | another_set)  # Output: {1, 2, 4, 5, 6, 7, 8, 9}\n",
    "\n",
    "# Intersection\n",
    "print(my_set & another_set)  # Output: {5, 6, 7}  intersection contains only the elements that are present in both set my_set  and another_set.\n",
    "\n",
    "# Difference\n",
    "print(my_set - another_set)  # Output: {1, 2, 4}\n",
    "\n",
    "#Difference in sets is a mathematical operation that involves removing elements from one set that are also present in another set. \n",
    "#It results in a new set containing only the elements that are unique to the first set.\n"
   ]
  },
  {
   "cell_type": "markdown",
   "id": "8832e2f4-7088-496d-b8ee-cce5a0ee617b",
   "metadata": {},
   "source": [
    "Practical Use Case of Set:\n",
    "Sets are particularly useful when you need to eliminate duplicates from a list or when you need to perform operations that involve unique elements. For example, if you have two lists of user IDs, you can use sets to quickly find common users, unique users, or users that belong to only one list."
   ]
  },
  {
   "cell_type": "code",
   "execution_count": null,
   "id": "d4bc7438-2c37-48cb-9db9-c9a0fafe6952",
   "metadata": {},
   "outputs": [],
   "source": [
    "# Q6. Discuss the use cased of tuples and sets in Python Programming"
   ]
  },
  {
   "cell_type": "markdown",
   "id": "f75a5575-b70b-4b38-a8b3-9de8d5cd54ad",
   "metadata": {},
   "source": [
    "Ans. \n",
    "\n",
    "#Use Cases of Tuples in Python:-\n",
    "\n",
    "1. Immutable Data Structures:\n",
    "Tuples are immutable, meaning once created, their values cannot be changed. This is useful for storing data that should not be modified throughout the program, such as configuration settings or constants.\n",
    "Example: Storing coordinates of a point (x, y).\n",
    "\n",
    "2. Heterogeneous Data Storage:\n",
    "Tuples can store multiple items of different data types. This is particularly useful when you want to return multiple values from a function.\n",
    "Example: Returning both the quotient and remainder from a division operation.\n",
    "\n",
    "3. Dictionary Keys:\n",
    "Tuples can be used as keys in a dictionary because they are hashable and immutable, unlike lists.\n",
    "Example: Using a tuple of (latitude, longitude) as a key to store location-based data.\n",
    "\n",
    "4. Efficient Data Storage:\n",
    "Tuples are more memory-efficient compared to lists, making them suitable for storing large datasets where immutability is required.\n",
    "Example: Storing a large sequence of constants.\n",
    "\n",
    "5. Function Argument Packing/Unpacking:\n",
    "Tuples are often used for packing and unpacking arguments in function calls.\n",
    "Example: *args in a function definition allows passing a variable number of arguments as a tuple.\n",
    "\n",
    "#Use Cases of Sets in Python:-\n",
    "\n",
    "1. Unique Data Storage:\n",
    "Sets automatically eliminate duplicate values, making them ideal for storing collections of unique items.\n",
    "Example: Storing a collection of unique user IDs or email addresses.\n",
    "\n",
    "2. Mathematical Set Operations:\n",
    "Sets support operations like union, intersection, difference, and symmetric difference, which are useful for comparing and combining datasets.\n",
    "Example: Finding common elements (intersection) or differences between two lists.\n",
    "\n",
    "3. Efficient Membership Testing:\n",
    "\n",
    "Sets provide fast membership testing, which is useful for checking the existence of an element in a collection.\n",
    "Example: Checking if an item is present in a large dataset, like a database of registered users.\n",
    "\n",
    "4. Removing Duplicates from a List:\n",
    "Converting a list to a set can be an easy way to remove duplicates.\n",
    "Example: Cleaning up a list of tags by removing duplicates.\n",
    "\n",
    "5. Handling Unordered Data:\n",
    "Sets are unordered collections, which means the order of elements is not maintained. This is useful when the order of data is not important, and only the existence of items matters.\n",
    "Example: Managing categories or tags where the order doesn’t matter."
   ]
  },
  {
   "cell_type": "code",
   "execution_count": 74,
   "id": "f8635d25-9280-4548-93f8-9e5f2b1db600",
   "metadata": {},
   "outputs": [
    {
     "name": "stdout",
     "output_type": "stream",
     "text": [
      "(3, 4)\n",
      "{'name': 'Alice', 'age': 30, 'coordinates': (3, 4)}\n"
     ]
    }
   ],
   "source": [
    "# Creating a tuple\n",
    "coordinates = (3, 4)\n",
    "print(coordinates)\n",
    "\n",
    "# Using a tuple as a key in a dictionary\n",
    "person = {\"name\": \"Alice\", \"age\": 30, \"coordinates\": coordinates}\n",
    "print(person)"
   ]
  },
  {
   "cell_type": "code",
   "execution_count": 77,
   "id": "f2aa9552-7e03-462d-b0fa-6d2a28949a2e",
   "metadata": {},
   "outputs": [
    {
     "name": "stdout",
     "output_type": "stream",
     "text": [
      "{'orange', 'banana', 'apple'}\n",
      "Apple is in the set\n",
      "{1, 2, 3}\n",
      "{1, 2, 3, 4, 5}\n"
     ]
    }
   ],
   "source": [
    "# Creating a set\n",
    "fruits = {\"apple\", \"banana\", \"orange\"}\n",
    "print(fruits)\n",
    "\n",
    "# Checking membership\n",
    "if \"apple\" in fruits:\n",
    "    print(\"Apple is in the set\")\n",
    "\n",
    "# Removing duplicates from a list\n",
    "numbers = [1, 2, 3, 2, 1]\n",
    "unique_numbers = set(numbers)\n",
    "print(unique_numbers)\n",
    "\n",
    "# Union of two sets\n",
    "set1 = {1, 2, 3}\n",
    "set2 = {3, 4, 5}\n",
    "union_set = set1 | set2\n",
    "print(union_set)"
   ]
  },
  {
   "cell_type": "code",
   "execution_count": null,
   "id": "98da51cc-7134-42f8-9516-f951b106798b",
   "metadata": {},
   "outputs": [],
   "source": [
    "Q7. Describe how to add, modify, and delete items in a dictionary with examples"
   ]
  },
  {
   "cell_type": "markdown",
   "id": "8418e34c-191e-4e10-8744-7bdb89132811",
   "metadata": {},
   "source": [
    "Ans. Dictionaries are mutable collections of key-value pairs. Each key must be unique, but the values can be of any data type and can be duplicated. Dictionaries are defined using curly braces {} with key-value pairs separated by a colon :."
   ]
  },
  {
   "cell_type": "code",
   "execution_count": 78,
   "id": "cc459c47-bb09-4f69-b0ad-75be3c571673",
   "metadata": {},
   "outputs": [
    {
     "name": "stdout",
     "output_type": "stream",
     "text": [
      "{'name': 'Arun', 'age': 30, 'location': 'New Delhi'}\n"
     ]
    }
   ],
   "source": [
    "# Adding Items to a Dictionary:\n",
    "# You can add a new key-value pair to a dictionary by assigning a value to a new key.\n",
    "\n",
    "# Creating an empty dictionary\n",
    "my_dict = {}\n",
    "\n",
    "# Adding items to the dictionary\n",
    "my_dict['name'] = 'Arun'\n",
    "my_dict['age'] = 30\n",
    "my_dict['location'] = 'New Delhi'\n",
    "\n",
    "print(my_dict)\n"
   ]
  },
  {
   "cell_type": "code",
   "execution_count": 79,
   "id": "a3b7b195-1b92-423e-ad7c-4ce78fe4656b",
   "metadata": {},
   "outputs": [
    {
     "name": "stdout",
     "output_type": "stream",
     "text": [
      "{'name': 'Arun', 'age': 31, 'location': 'Mumbai'}\n"
     ]
    }
   ],
   "source": [
    "# Modifying Items in a Dictionary:\n",
    "# To modify the value associated with a specific key, you simply assign a new value to that key.\n",
    "\n",
    "# Existing dictionary\n",
    "my_dict = {'name': 'Arun', 'age': 30, 'location': 'New Delhi'}\n",
    "\n",
    "# Modifying the value of an existing key\n",
    "my_dict['age'] = 31\n",
    "my_dict['location'] = 'Mumbai'\n",
    "\n",
    "print(my_dict)\n"
   ]
  },
  {
   "cell_type": "code",
   "execution_count": null,
   "id": "a52aa8c1-f598-425a-9f7c-25ca606b3641",
   "metadata": {},
   "outputs": [],
   "source": [
    "# Deleting Items from a Dictionary:\n",
    "# You can delete an item from a dictionary using the del statement, the pop() method, or the popitem() method.\n"
   ]
  },
  {
   "cell_type": "code",
   "execution_count": null,
   "id": "00f403be-0e33-421c-85a9-b6adc21c3f0d",
   "metadata": {},
   "outputs": [],
   "source": [
    "#1. Using del: Removes a key-value pair by specifying the key."
   ]
  },
  {
   "cell_type": "code",
   "execution_count": 80,
   "id": "d0756d36-5988-427a-9a31-6af2d61c1428",
   "metadata": {},
   "outputs": [
    {
     "name": "stdout",
     "output_type": "stream",
     "text": [
      "{'name': 'Arun', 'age': 31}\n"
     ]
    }
   ],
   "source": [
    "# Existing dictionary\n",
    "my_dict = {'name': 'Arun', 'age': 31, 'location': 'Mumbai'}\n",
    "\n",
    "# Deleting an item using del\n",
    "del my_dict['location']\n",
    "\n",
    "print(my_dict)\n"
   ]
  },
  {
   "cell_type": "code",
   "execution_count": null,
   "id": "fbfef3f8-408d-41f3-8de7-996d352e6204",
   "metadata": {},
   "outputs": [],
   "source": [
    "# 2. Using pop(): Removes the key-value pair and returns the value of the specified key."
   ]
  },
  {
   "cell_type": "code",
   "execution_count": 81,
   "id": "f72c7f49-99aa-4fd6-b1db-63c99a29f2e7",
   "metadata": {},
   "outputs": [
    {
     "name": "stdout",
     "output_type": "stream",
     "text": [
      "{'name': 'Arun', 'location': 'Mumbai'}\n",
      "Removed age: 31\n"
     ]
    }
   ],
   "source": [
    "# Existing dictionary\n",
    "my_dict = {'name': 'Arun', 'age': 31, 'location': 'Mumbai'}\n",
    "\n",
    "# Deleting an item using pop()\n",
    "age = my_dict.pop('age')\n",
    "\n",
    "print(my_dict)  # {'name': 'Arun', 'location': 'Mumbai'}\n",
    "print(f\"Removed age: {age}\")  # Removed age: 31\n"
   ]
  },
  {
   "cell_type": "code",
   "execution_count": null,
   "id": "16643049-98c8-4d7d-9c41-f78d7a4f2919",
   "metadata": {},
   "outputs": [],
   "source": [
    "#3. Using popitem(): Removes and returns the last key-value pair as a tuple."
   ]
  },
  {
   "cell_type": "code",
   "execution_count": 82,
   "id": "2f3ef0b9-63d3-4e73-b46a-fb8020a46714",
   "metadata": {},
   "outputs": [
    {
     "name": "stdout",
     "output_type": "stream",
     "text": [
      "{'name': 'Arun', 'age': 31}\n",
      "Removed item: ('location', 'Mumbai')\n"
     ]
    }
   ],
   "source": [
    "# Existing dictionary\n",
    "my_dict = {'name': 'Arun', 'age': 31, 'location': 'Mumbai'}\n",
    "\n",
    "# Deleting the last item using popitem()\n",
    "last_item = my_dict.popitem()\n",
    "\n",
    "print(my_dict)  # {'name': 'Arun', 'age': 31}\n",
    "print(f\"Removed item: {last_item}\")  # Removed item: ('location', 'Mumbai')\n"
   ]
  },
  {
   "cell_type": "code",
   "execution_count": null,
   "id": "ab5d85e3-d8d5-498a-8a34-8ad407c2195b",
   "metadata": {},
   "outputs": [],
   "source": [
    "# Q8. Discuss the importance of dictionary keys being immutable and provide examples"
   ]
  },
  {
   "cell_type": "markdown",
   "id": "d3efa6e2-069a-4edc-a126-e55c3d8cb764",
   "metadata": {},
   "source": [
    "Ans. Importance of Dictionary Keys Being Immutable\n",
    "In Python, dictionary keys must be immutable, meaning they cannot be changed after they are created. This is crucial because dictionaries are implemented using hash tables, where each key's hash value determines its position in memory. If a key were mutable, changing its value would change its hash, leading to inconsistencies in locating the key within the dictionary.\n",
    "\n",
    "Why Dictionary Keys Must Be Immutable\n",
    "\n",
    "1. Hashing Consistency:\n",
    "When you use a key in a dictionary, Python computes a hash value for that key to determine where to store the associated value. If the key were mutable and its content changed, its hash value would also change. This would make it impossible to retrieve the original value, as the dictionary would no longer know where to look.\n",
    "\n",
    "2. Performance:\n",
    "The immutability of keys ensures that the dictionary remains efficient and performant. Mutable keys could lead to unpredictable behavior and slow down operations like lookups, inserts, and deletions.\n",
    "\n",
    "3. Data Integrity:\n",
    "Immutability protects the integrity of the data in the dictionary. Since the keys cannot be altered, you can be confident that the association between keys and values remains stable throughout the program."
   ]
  },
  {
   "cell_type": "code",
   "execution_count": null,
   "id": "aa8e4f4f-d9ae-4ddc-bbb0-89eb536622d9",
   "metadata": {},
   "outputs": [],
   "source": [
    "#Examples of Immutable Keys:"
   ]
  },
  {
   "cell_type": "code",
   "execution_count": 86,
   "id": "ba40db5b-7b68-4f29-958e-ab82d234dff5",
   "metadata": {},
   "outputs": [
    {
     "name": "stdout",
     "output_type": "stream",
     "text": [
      "{'name': 'Arun', 'age': 30}\n"
     ]
    }
   ],
   "source": [
    "#Strings: Strings are immutable and commonly used as dictionary keys\n",
    "\n",
    "my_dict = {\"name\": \"Arun\", \"age\": 30}\n",
    "print(my_dict)"
   ]
  },
  {
   "cell_type": "code",
   "execution_count": 88,
   "id": "b3038c55-db16-4340-b539-3c17eeb95592",
   "metadata": {},
   "outputs": [
    {
     "name": "stdout",
     "output_type": "stream",
     "text": [
      "{(10, 20): 'Point A'}\n"
     ]
    }
   ],
   "source": [
    "#Tuples: Tuples are immutable and can be used as dictionary keys, particularly when you need to use multiple items as a composite key.\n",
    "point = (10, 20)\n",
    "coordinates_dict = {point: \"Point A\"}\n",
    "print(coordinates_dict)"
   ]
  },
  {
   "cell_type": "code",
   "execution_count": 89,
   "id": "47103e2f-ef7a-4986-ba00-5373e45d0c03",
   "metadata": {},
   "outputs": [
    {
     "ename": "TypeError",
     "evalue": "unhashable type: 'list'",
     "output_type": "error",
     "traceback": [
      "\u001b[1;31m---------------------------------------------------------------------------\u001b[0m",
      "\u001b[1;31mTypeError\u001b[0m                                 Traceback (most recent call last)",
      "Cell \u001b[1;32mIn[89], line 4\u001b[0m\n\u001b[0;32m      1\u001b[0m \u001b[38;5;66;03m# Example of Problems with Mutable Keys\u001b[39;00m\n\u001b[0;32m      2\u001b[0m \u001b[38;5;66;03m# Invalid example (would raise an error)\u001b[39;00m\n\u001b[0;32m      3\u001b[0m my_list \u001b[38;5;241m=\u001b[39m [\u001b[38;5;241m1\u001b[39m, \u001b[38;5;241m2\u001b[39m, \u001b[38;5;241m3\u001b[39m]\n\u001b[1;32m----> 4\u001b[0m my_dict \u001b[38;5;241m=\u001b[39m {my_list: \u001b[38;5;124m\"\u001b[39m\u001b[38;5;124mInitial value\u001b[39m\u001b[38;5;124m\"\u001b[39m}\n\u001b[0;32m      6\u001b[0m \u001b[38;5;66;03m# Attempting to change the key\u001b[39;00m\n\u001b[0;32m      7\u001b[0m my_list\u001b[38;5;241m.\u001b[39mappend(\u001b[38;5;241m4\u001b[39m)\n",
      "\u001b[1;31mTypeError\u001b[0m: unhashable type: 'list'"
     ]
    }
   ],
   "source": [
    "# Example of Problems with Mutable Keys\n",
    "# Invalid example (would raise an error)\n",
    "my_list = [1, 2, 3]\n",
    "my_dict = {my_list: \"Initial value\"}\n",
    "\n",
    "# Attempting to change the key\n",
    "my_list.append(4)\n",
    "\n",
    "# Now the key's hash has changed, and the dictionary can't find the original entry\n",
    "print(my_dict[my_list])  # This would cause an error if allowed\n"
   ]
  },
  {
   "cell_type": "code",
   "execution_count": null,
   "id": "4b89610d-cbb2-436d-8c9a-d2912f90a108",
   "metadata": {},
   "outputs": [],
   "source": [
    "# In conclusion Ensuring that dictionary keys are immutable is essential for maintaining the reliability, performance, and consistency of dictionaries in Python. \n",
    "#Immutable keys, like strings and tuples, provide a stable reference that ensures the integrity of the data stored in the dictionary."
   ]
  }
 ],
 "metadata": {
  "kernelspec": {
   "display_name": "Python 3 (ipykernel)",
   "language": "python",
   "name": "python3"
  },
  "language_info": {
   "codemirror_mode": {
    "name": "ipython",
    "version": 3
   },
   "file_extension": ".py",
   "mimetype": "text/x-python",
   "name": "python",
   "nbconvert_exporter": "python",
   "pygments_lexer": "ipython3",
   "version": "3.12.3"
  }
 },
 "nbformat": 4,
 "nbformat_minor": 5
}

{
 "cells": [
  {
   "cell_type": "code",
   "execution_count": null,
   "id": "52fa9dfe-8dc0-40a9-946c-792ae379ef81",
   "metadata": {},
   "outputs": [],
   "source": [
    "# Q1. 1. What are the five key concepts of Object-Oriented Programming (OOP)?"
   ]
  },
  {
   "cell_type": "markdown",
   "id": "3138aa65-a149-48c1-ab2f-f3bdcca9d7b4",
   "metadata": {},
   "source": [
    "Ans. The five key concepts of Object-Oriented Programming (OOP) are:\n",
    "\n",
    "1. Class:\n",
    "A class is a blueprint or template for creating objects. It defines the properties (attributes) and behaviors (methods) that the objects created from the class will have.\n",
    "Example: A Car class can define attributes like color, model, and methods like start() or stop().\n",
    "2. Object:\n",
    "An object is an instance of a class. Once a class is defined, objects can be created based on that class. Objects are individual instances that hold specific data and can perform the actions defined by the class.\n",
    "Example: my_car = Car() creates an object my_car from the Car class.\n",
    "3. Encapsulation:\n",
    "Encapsulation is the concept of bundling data (attributes) and methods (functions) into a single unit (class) and restricting direct access to some of the object’s components. This is done using access modifiers (like private and public) to control visibility.\n",
    "Example: Hiding the internal workings of a car engine while providing access to methods like start() and stop().\n",
    "4. Inheritance:\n",
    "Inheritance allows a new class (called a child or subclass) to inherit properties and methods from an existing class (called a parent or superclass). This promotes code reusability.\n",
    "Example: A Truck class can inherit from the Car class and reuse its properties and methods while adding new ones.\n",
    "5. Polymorphism:\n",
    "Polymorphism means \"many forms.\" It allows objects of different classes to be treated as objects of a common superclass. It also allows methods to have the same name but behave differently based on the object calling them.\n",
    "Example: The start() method may behave differently for a Car and a Motorbike object, even though they both inherit from a common Vehicle class.\n",
    "\n",
    "    hese five concepts — class, object, encapsulation, inheritance, and polymorphism — form the foundation of OOP, enabling modular, reusable, and maintainable code."
   ]
  },
  {
   "cell_type": "code",
   "execution_count": null,
   "id": "e305945d-e992-4803-a274-2b31a346be79",
   "metadata": {},
   "outputs": [],
   "source": [
    "#Q2. Write a Python class for a `Car` with attributes for `make`, `model`, and `year`. Include a method to display the car's information."
   ]
  },
  {
   "cell_type": "markdown",
   "id": "949092a0-c733-4bee-aa07-c075c4284a38",
   "metadata": {},
   "source": [
    "Ans. Here's a Python class for a Car with attributes for make, model, and year, along with a method to display the car's information:"
   ]
  },
  {
   "cell_type": "code",
   "execution_count": 1,
   "id": "3f69b602-3f74-40ff-81a0-01f90cc1e8a4",
   "metadata": {},
   "outputs": [
    {
     "name": "stdout",
     "output_type": "stream",
     "text": [
      "Car Information: 2021 Toyota Camry\n"
     ]
    }
   ],
   "source": [
    "class Car:\n",
    "    def __init__(self, make, model, year):\n",
    "        self.make = make\n",
    "        self.model = model\n",
    "        self.year = year\n",
    "\n",
    "    def display_info(self):\n",
    "        print(f\"Car Information: {self.year} {self.make} {self.model}\")\n",
    "\n",
    "# Example usage\n",
    "my_car = Car(\"Toyota\", \"Camry\", 2021)\n",
    "my_car.display_info()\n"
   ]
  },
  {
   "cell_type": "code",
   "execution_count": null,
   "id": "55541ab9-5bbb-4ad9-a22e-10db7c9851c0",
   "metadata": {},
   "outputs": [],
   "source": [
    "Q#3. Explain the difference between instance methods and class methods. Provide an example of each."
   ]
  },
  {
   "cell_type": "markdown",
   "id": "be5cd90a-eba7-4c73-878c-0ea00d47044d",
   "metadata": {},
   "source": [
    "Ans. Instance Methods vs. Class Methods:\n",
    "\n",
    "In object-oriented programming, both instance methods and class methods are functions associated with a class. However, they differ in how they are called and what kind of data they can access.\n",
    "\n",
    "Instance Methods:\n",
    "\n",
    "Binding: Bound to a specific instance of a class.\n",
    "Access: Can access both instance attributes and class attributes.\n",
    "Calling: Called on an object instance.\n",
    "Purpose: Typically used for operations that involve the state of an individual object."
   ]
  },
  {
   "cell_type": "code",
   "execution_count": 5,
   "id": "0f3ad675-af28-440d-864a-edb591de52a6",
   "metadata": {},
   "outputs": [
    {
     "name": "stdout",
     "output_type": "stream",
     "text": [
      "Hello, my name is Arun\n"
     ]
    }
   ],
   "source": [
    "class Person:\n",
    "    def __init__(self, name, age):\n",
    "        self.name = name\n",
    "        self.age = age\n",
    "\n",
    "    def greet(self):\n",
    "        print(\"Hello, my name is\", self.name)\n",
    "\n",
    "# Create an instance\n",
    "person1 = Person(\"Arun\", 35)\n",
    "\n",
    "# Call the instance method\n",
    "person1.greet()"
   ]
  },
  {
   "cell_type": "markdown",
   "id": "9b957243-01de-4917-9a9a-f581e5ee4745",
   "metadata": {},
   "source": [
    "Class Methods:\n",
    "\n",
    "Binding: Bound to the class itself, not a specific instance.\n",
    "Access: Can only access class attributes, not instance attributes.\n",
    "Calling: Called on the class itself, using the @classmethod decorator.\n",
    "Purpose: Often used for class-level operations, such as creating alternative constructors or factory methods."
   ]
  },
  {
   "cell_type": "code",
   "execution_count": 13,
   "id": "d644b5cb-6990-4840-a854-31fafbae1194",
   "metadata": {},
   "outputs": [
    {
     "name": "stdout",
     "output_type": "stream",
     "text": [
      "Arun\n",
      "35\n"
     ]
    }
   ],
   "source": [
    "class Person:\n",
    "    def __init__(self, name, age):\n",
    "        self.name = name\n",
    "        self.age = age\n",
    "\n",
    "    @classmethod\n",
    "    def from_string(cls, person_string):\n",
    "        name, age = person_string.split(\",\")\n",
    "        return cls(name, int(age))\n",
    "\n",
    "# Create an instance using the class method\n",
    "person1 = Person.from_string(\"Arun,35\")\n",
    "\n",
    "# Access attributes\n",
    "print(person1.name)  # Output: Arun\n",
    "print(person1.age)   # Output: 35\n"
   ]
  },
  {
   "cell_type": "code",
   "execution_count": null,
   "id": "d53b902e-6f3b-40c5-bf0b-6e1e13fcf259",
   "metadata": {},
   "outputs": [],
   "source": [
    "#Q4. How does Python implement method overloading? Give an example."
   ]
  },
  {
   "cell_type": "markdown",
   "id": "d9ef6778-4cc9-4de8-a60d-bcdfe4f78522",
   "metadata": {},
   "source": [
    "Ans. In Python, method overloading (where multiple methods have the same name but different parameters) is not supported directly as in languages like Java or C++. However, Python allows function arguments to have default values and use *args or **kwargs to handle variable numbers of arguments, which can simulate method overloading behavior."
   ]
  },
  {
   "cell_type": "code",
   "execution_count": 14,
   "id": "131d4b4d-3cc9-444a-ac70-7c951084b76a",
   "metadata": {},
   "outputs": [
    {
     "name": "stdout",
     "output_type": "stream",
     "text": [
      "10\n",
      "15\n",
      "17\n"
     ]
    }
   ],
   "source": [
    "# Example:\n",
    "\n",
    "class MathOperations:\n",
    "    def add(self, a, b=0, c=0):\n",
    "        return a + b + c\n",
    "\n",
    "# Creating an object of the class\n",
    "math_op = MathOperations()\n",
    "\n",
    "# Calling the 'add' method with different numbers of arguments\n",
    "print(math_op.add(10))         # Output: 10 (uses a only)\n",
    "print(math_op.add(10, 5))      # Output: 15 (uses a and b)\n",
    "print(math_op.add(10, 5, 2))   # Output: 17 (uses a, b, and c)\n"
   ]
  },
  {
   "cell_type": "code",
   "execution_count": 15,
   "id": "8da6d965-d5a0-446b-b34a-7cb86672b7b5",
   "metadata": {},
   "outputs": [
    {
     "name": "stdout",
     "output_type": "stream",
     "text": [
      "10\n",
      "15\n",
      "17\n"
     ]
    }
   ],
   "source": [
    "# Using *args: We can also use *args to accept a variable number of arguments.\n",
    "\n",
    "class MathOperations:\n",
    "    def add(self, *args):\n",
    "        return sum(args)\n",
    "\n",
    "# Creating an object of the class\n",
    "math_op = MathOperations()\n",
    "\n",
    "# Calling the 'add' method with different numbers of arguments\n",
    "print(math_op.add(10))         # Output: 10\n",
    "print(math_op.add(10, 5))      # Output: 15\n",
    "print(math_op.add(10, 5, 2))   # Output: 17\n"
   ]
  },
  {
   "cell_type": "markdown",
   "id": "ddbf5980-e83e-433c-88df-13c8d75f66b1",
   "metadata": {},
   "source": [
    "Here, *args allows the method to accept any number of arguments and add them together. This is a more flexible way to handle method overloading in Python."
   ]
  },
  {
   "cell_type": "code",
   "execution_count": null,
   "id": "f190c929-88f6-4d31-acf3-ad9dd9c677e6",
   "metadata": {},
   "outputs": [],
   "source": [
    "#Q5. What are the three types of access modifiers in Python? How are they denoted?"
   ]
  },
  {
   "cell_type": "markdown",
   "id": "9cb996f9-68ae-447a-a738-14bb32006911",
   "metadata": {},
   "source": [
    "Ans. In Python, there are three types of access modifiers that control the accessibility of class members (attributes and methods):"
   ]
  },
  {
   "cell_type": "code",
   "execution_count": 17,
   "id": "0b888bea-bd5a-4778-b887-086d18bb5347",
   "metadata": {},
   "outputs": [
    {
     "name": "stdout",
     "output_type": "stream",
     "text": [
      "10\n",
      "This is a public method.\n"
     ]
    }
   ],
   "source": [
    "# 1. Public: Accessible from anywhere within the program. No special keyword is required to denote public members.\n",
    "\n",
    "class MyClass:\n",
    "    public_attribute = 10\n",
    "\n",
    "    def public_method(self):\n",
    "        print(\"This is a public method.\")\n",
    "\n",
    "# Creating an instance of MyClass\n",
    "obj = MyClass()\n",
    "\n",
    "# Accessing the public attribute\n",
    "print(obj.public_attribute)  # Output: 10\n",
    "\n",
    "# Calling the public method\n",
    "obj.public_method()  # Output: This is a public method.\n"
   ]
  },
  {
   "cell_type": "code",
   "execution_count": 20,
   "id": "e5dbe8dd-e06b-409c-bd74-c7a64f7a9204",
   "metadata": {},
   "outputs": [
    {
     "name": "stdout",
     "output_type": "stream",
     "text": [
      "20\n",
      "This is a protected method.\n"
     ]
    }
   ],
   "source": [
    "# 2. Protected: Accessible only within the class itself and its subclasses. Denoted by prefixing the member name with a single underscore (_).\n",
    "\n",
    "class MyClass:\n",
    "    _protected_attribute = 20\n",
    "\n",
    "    def _protected_method(self):\n",
    "        print(\"This is a protected method.\")\n",
    "\n",
    "class Subclass(MyClass):\n",
    "    def access_protected_members(self):\n",
    "        # Accessing the protected attribute\n",
    "        print(self._protected_attribute)\n",
    "        # Calling the protected method\n",
    "        self._protected_method()\n",
    "\n",
    "# Creating an instance of Subclass\n",
    "subclass_instance = Subclass()\n",
    "\n",
    "# Accessing protected members from within Subclass\n",
    "subclass_instance.access_protected_members()\n",
    "    "
   ]
  },
  {
   "cell_type": "code",
   "execution_count": 24,
   "id": "64a39872-40f9-43d9-b073-a594d0ad7fc5",
   "metadata": {},
   "outputs": [
    {
     "name": "stdout",
     "output_type": "stream",
     "text": [
      "30\n",
      "This is a private method.\n"
     ]
    }
   ],
   "source": [
    "#3. Private: Accessible only within the class itself. Denoted by prefixing the member name with double underscores (__).\n",
    "\n",
    "class MyClass:\n",
    "    __private_attribute = 30\n",
    "\n",
    "    def __private_method(self):\n",
    "        print(\"This is a private method.\")\n",
    "\n",
    "    def access_private_members(self):\n",
    "        # Accessing private attribute and method from within the class\n",
    "        print(self.__private_attribute)\n",
    "        self.__private_method()\n",
    "\n",
    "# Creating an instance of MyClass\n",
    "obj = MyClass()\n",
    "\n",
    "# Accessing private members from within the class (via public method)\n",
    "obj.access_private_members()\n"
   ]
  },
  {
   "cell_type": "code",
   "execution_count": null,
   "id": "5f452218-7d55-4169-b5b3-196421cdd19a",
   "metadata": {},
   "outputs": [],
   "source": [
    "# Q6. Describe the five types of inheritance in Python. Provide a simple example of multiple inheritance."
   ]
  },
  {
   "cell_type": "markdown",
   "id": "4b6445c4-1553-4809-b009-c4f584198523",
   "metadata": {},
   "source": [
    "Ans. Inheritance is a fundamental concept in object-oriented programming that allows classes to inherit attributes and methods from other classes. This promotes code reusability and creates a hierarchical structure between classes. Python supports five types of inheritance:\n",
    "\n"
   ]
  },
  {
   "cell_type": "code",
   "execution_count": 25,
   "id": "1f55cd26-0530-4792-8457-25fcb6aca16a",
   "metadata": {},
   "outputs": [
    {
     "name": "stdout",
     "output_type": "stream",
     "text": [
      "Woof!\n"
     ]
    }
   ],
   "source": [
    "# 1. Single Inheritance\n",
    "#A class inherits from only one parent class. This is the most common type of inheritance.\n",
    "\n",
    "class Animal:\n",
    "    def __init__(self, name):\n",
    "        self.name = name\n",
    "\n",
    "    def speak(self):\n",
    "        print(\"Generic animal sound\")\n",
    "\n",
    "class Dog(Animal):\n",
    "    def speak(self):\n",
    "        print(\"Woof!\")\n",
    "\n",
    "# Create a Dog object\n",
    "dog = Dog(\"Buddy\")\n",
    "dog.speak()"
   ]
  },
  {
   "cell_type": "code",
   "execution_count": 26,
   "id": "d77e9118-6134-4f8f-bf12-a4c52ffd1655",
   "metadata": {},
   "outputs": [
    {
     "name": "stdout",
     "output_type": "stream",
     "text": [
      "Flying...\n",
      "Swimming...\n"
     ]
    }
   ],
   "source": [
    "# 2. Multiple Inheritance\n",
    "#A class inherits from more than one parent class.\n",
    "\n",
    "class Flyer:\n",
    "    def fly(self):\n",
    "        print(\"Flying...\")\n",
    "\n",
    "class Swimmer:\n",
    "    def swim(self):\n",
    "        print(\"Swimming...\")\n",
    "\n",
    "class FlyingFish(Flyer, Swimmer):\n",
    "    pass\n",
    "\n",
    "# Create a FlyingFish object\n",
    "fish = FlyingFish()\n",
    "fish.fly()  # Output: Flying...\n",
    "fish.swim()  # Output: Swimming..."
   ]
  },
  {
   "cell_type": "markdown",
   "id": "8023c8d4-d926-4ad3-8cd1-9627d3dec376",
   "metadata": {},
   "source": [
    "As demonstrated above, multiple inheritance allows a class to inherit attributes and methods from more than one parent class. This can be useful when a class needs to combine functionalities from different classes. For instance, a FlyingFish class can inherit the fly() method from a Flyer class and the swim() method from a Swimmer class."
   ]
  },
  {
   "cell_type": "code",
   "execution_count": 28,
   "id": "5c5e8b70-cc35-47a5-8050-e1cf5661558b",
   "metadata": {},
   "outputs": [
    {
     "name": "stdout",
     "output_type": "stream",
     "text": [
      "Blue\n",
      "Tesla\n",
      "75\n"
     ]
    }
   ],
   "source": [
    "#3. Multilevel Inheritance\n",
    "#A class inherits from a class that itself inherits from another class.\n",
    "\n",
    "class Vehicle:\n",
    "    def __init__(self, color):\n",
    "        self.color = color\n",
    "\n",
    "class Car(Vehicle):\n",
    "    def __init__(self, color, make):\n",
    "        super().__init__(color)\n",
    "        self.make = make\n",
    "\n",
    "class ElectricCar(Car):\n",
    "    def __init__(self, color, make, battery_capacity):\n",
    "        super().__init__(color, make)\n",
    "        self.battery_capacity = battery_capacity\n",
    "\n",
    "# Create an ElectricCar object\n",
    "electric_car = ElectricCar(\"Blue\", \"Tesla\", 75)\n",
    "print(electric_car.color)            # Output: Blue\n",
    "print(electric_car.make)             # Output: Tesla\n",
    "print(electric_car.battery_capacity) # Output: 75\n"
   ]
  },
  {
   "cell_type": "code",
   "execution_count": 35,
   "id": "b3f1a10a-077b-4025-832a-8244266072fc",
   "metadata": {},
   "outputs": [
    {
     "name": "stdout",
     "output_type": "stream",
     "text": [
      "Red\n",
      "5\n",
      "Blue\n",
      "4\n",
      "6\n"
     ]
    }
   ],
   "source": [
    "#4. Hierarchical Inheritance\n",
    "#Multiple classes inherit from a single parent class.\n",
    "\n",
    "class Shape:\n",
    "    def __init__(self, color):\n",
    "        self.color = color\n",
    "\n",
    "class Circle(Shape):\n",
    "    def __init__(self, color, radius):\n",
    "        super().__init__(color)\n",
    "        self.radius = radius\n",
    "\n",
    "class Rectangle(Shape):\n",
    "    def __init__(self, color, width, height):\n",
    "        super().__init__(color)\n",
    "        self.width = width\n",
    "        self.height = height\n",
    "circle = Circle(\"Red\", 5)\n",
    "rectangle = Rectangle(\"Blue\", 4, 6)\n",
    "print(circle.color)   # Output: Red\n",
    "print(circle.radius)  # Output: 5\n",
    "\n",
    "print(rectangle.color)  # Output: Blue\n",
    "print(rectangle.width)  # Output: 4\n",
    "print(rectangle.height) # Output: 6\n",
    "\n",
    "\n",
    "    "
   ]
  },
  {
   "cell_type": "code",
   "execution_count": 36,
   "id": "3e60f4d0-7db4-4753-aa6d-022c05c35319",
   "metadata": {},
   "outputs": [
    {
     "name": "stdout",
     "output_type": "stream",
     "text": [
      "Method from Parent1\n",
      "Method from Parent2\n"
     ]
    }
   ],
   "source": [
    "# 5. Hybrid Inheritance\n",
    "#A combination of multiple and multilevel inheritance. This form doesn't strictly belong to one of the other categories and can include various inheritance patterns.\n",
    "\n",
    "class Parent1:\n",
    "    def method1(self):\n",
    "        print(\"Method from Parent1\")\n",
    "\n",
    "class Parent2:\n",
    "    def method2(self):\n",
    "        print(\"Method from Parent2\")\n",
    "\n",
    "class Child1(Parent1):\n",
    "    pass\n",
    "\n",
    "class Child2(Parent1, Parent2):\n",
    "    pass\n",
    "\n",
    "obj = Child2()\n",
    "obj.method1()  # Output: Method from Parent1\n",
    "obj.method2()  # Output: Method from Parent2\n"
   ]
  },
  {
   "cell_type": "code",
   "execution_count": null,
   "id": "05dc44f4-3021-4ee4-87aa-d3aadd201ade",
   "metadata": {},
   "outputs": [],
   "source": [
    "# Q7. What is the Method Resolution Order (MRO) in Python? How can you retrieve it programmatically?"
   ]
  },
  {
   "cell_type": "markdown",
   "id": "6da83a6f-8a2c-40f6-bddf-4a6f36e66c42",
   "metadata": {},
   "source": [
    "Ans. The Method Resolution Order (MRO) in Python is the order in which methods are searched for when a method call is made on an object. It determines the method that will be executed if there are multiple methods with the same name in the object's class hierarchy.\n",
    "\n",
    "The MRO is calculated using a specific algorithm called C3 linearization, which ensures that the following principles are followed:\n",
    "\n",
    "Parent before child: Methods defined in a parent class are searched before methods defined in its child classes.\n",
    "Left before right: If a class has multiple parent classes, the leftmost parent is searched first.\n",
    "No repeated ancestors: A class cannot appear more than once in its MRO.\n",
    "To retrieve the MRO of a class programmatically in Python, you can use the __mro__ attribute. This attribute returns a tuple containing the classes in the MRO, starting with the class itself."
   ]
  },
  {
   "cell_type": "code",
   "execution_count": 37,
   "id": "0dc20997-f6fc-4002-a770-c7260660a96a",
   "metadata": {},
   "outputs": [
    {
     "name": "stdout",
     "output_type": "stream",
     "text": [
      "(<class '__main__.D'>, <class '__main__.B'>, <class '__main__.C'>, <class '__main__.A'>, <class 'object'>)\n"
     ]
    }
   ],
   "source": [
    "class A:\n",
    "    def method(self):\n",
    "        print(\"A.method\")\n",
    "\n",
    "class B(A):\n",
    "    pass\n",
    "\n",
    "class C(A):\n",
    "    def method(self):\n",
    "        print(\"C.method\")\n",
    "\n",
    "class D(B, C):\n",
    "    pass\n",
    "\n",
    "print(D.__mro__)"
   ]
  },
  {
   "cell_type": "markdown",
   "id": "1c266910-8a96-41a7-b882-4ae1536ff8df",
   "metadata": {},
   "source": [
    "As you can see, the MRO for class D is (<class '__main__.D'>, <class '__main__.B'>, <class '__main__.C'>, <class '__main__.A'>, <class 'object'>). This means that when a method call is made on an instance of D, the methods will be searched in this order."
   ]
  },
  {
   "cell_type": "code",
   "execution_count": null,
   "id": "65ca1287-f0e7-40a1-a169-d39098b3d5b1",
   "metadata": {},
   "outputs": [],
   "source": [
    "# Q8. Create an abstract base class `Shape` with an abstract method `area()`. Then create two subclasses `Circle` and `Rectangle` that implement the `area()` method."
   ]
  },
  {
   "cell_type": "code",
   "execution_count": 38,
   "id": "eb9c8b7f-813d-4215-886e-29aab7a5f63e",
   "metadata": {},
   "outputs": [
    {
     "name": "stdout",
     "output_type": "stream",
     "text": [
      "78.53975\n",
      "12\n"
     ]
    }
   ],
   "source": [
    "#Ans. Here’s how you can create an abstract base class Shape and its subclasses Circle and Rectangle in Python:\n",
    "\n",
    "from abc import ABC, abstractmethod\n",
    "\n",
    "class Shape(ABC):\n",
    "    @abstractmethod\n",
    "    def area(self):\n",
    "        pass\n",
    "\n",
    "class Circle(Shape):\n",
    "    def __init__(self, radius):\n",
    "        self.radius = radius\n",
    "\n",
    "    def area(self):\n",
    "        return 3.14159 * self.radius * self.radius\n",
    "\n",
    "class Rectangle(Shape):\n",
    "    def __init__(self, length, width):\n",
    "        self.length = length\n",
    "        self.width = width\n",
    "\n",
    "    def area(self):\n",
    "        return self.length * self.width\n",
    "\n",
    "# Example usage\n",
    "circle = Circle(5)\n",
    "rectangle = Rectangle(4, 3)\n",
    "\n",
    "print(circle.area())  # Output: 78.53975\n",
    "print(rectangle.area())  # Output: 12"
   ]
  },
  {
   "cell_type": "markdown",
   "id": "eb6693e5-fbea-48bc-99d5-bbf42952b701",
   "metadata": {},
   "source": [
    "In this code:\n",
    "\n",
    "We define an abstract base class Shape with an abstract method area(). This method is declared using the @abstractmethod decorator, indicating that it must be implemented by any subclass of Shape.\n",
    "We create two subclasses Circle and Rectangle that inherit from Shape.\n",
    "Both Circle and Rectangle implement the area() method, providing their own calculations for the area of a circle and a rectangle, respectively.\n",
    "We create instances of Circle and Rectangle and call their area() methods to calculate the area of each shape."
   ]
  },
  {
   "cell_type": "code",
   "execution_count": null,
   "id": "447f84b8-04aa-4084-a8b9-3ef642623b35",
   "metadata": {},
   "outputs": [],
   "source": [
    "#Q9. Demonstrate polymorphism by creating a function that can work with different shape objects to calculate and print their areas."
   ]
  },
  {
   "cell_type": "code",
   "execution_count": 43,
   "id": "b002e0f9-769b-48c1-80db-ef2d3d33fd88",
   "metadata": {},
   "outputs": [
    {
     "name": "stdout",
     "output_type": "stream",
     "text": [
      "The area of the shape is: 314.159\n",
      "The area of the shape is: 28\n"
     ]
    }
   ],
   "source": [
    "def calculate_and_print_area(shape):\n",
    "    print(f\"The area of the shape is: {shape.area()}\")\n",
    "\n",
    "# Example usage\n",
    "circle = Circle(10)\n",
    "rectangle = Rectangle(7, 4)\n",
    "\n",
    "calculate_and_print_area(circle)\n",
    "calculate_and_print_area(rectangle)"
   ]
  },
  {
   "cell_type": "markdown",
   "id": "aa9ce5b9-628e-4846-b54c-3d83e0c3274e",
   "metadata": {},
   "source": [
    "In this code:\n",
    "\n",
    "We define a function calculate_and_print_area() that takes a Shape object as an argument.\n",
    "Inside the function, we call the area() method of the passed shape object and print the result.\n",
    "We create instances of Circle and Rectangle.\n",
    "We call the calculate_and_print_area() function with each shape object as an argument.\n",
    "This demonstrates polymorphism because the calculate_and_print_area() function can work with different shape objects, and the appropriate area() method is called based on the object's type. This is possible because both Circle and Rectangle inherit from the Shape class and implement the area() method."
   ]
  },
  {
   "cell_type": "code",
   "execution_count": null,
   "id": "e57e693c-2123-4971-9584-eb01ed770406",
   "metadata": {},
   "outputs": [],
   "source": [
    "#Q10. Implement encapsulation in a `BankAccount` class with private attributes for `balance` and `account_number`. Include methods for deposit, withdrawal, and balance inquiry."
   ]
  },
  {
   "cell_type": "markdown",
   "id": "d60ab2ce-6251-408e-a8c0-7188eee513c3",
   "metadata": {},
   "source": [
    "Ans. Example of a BankAccount class in Python that implements encapsulation using private attributes for balance and account_number. The class includes methods for depositing, withdrawing, and checking the balance:"
   ]
  },
  {
   "cell_type": "code",
   "execution_count": 44,
   "id": "fd3c5cc3-fe03-4dd5-98f8-f9426fac520a",
   "metadata": {},
   "outputs": [
    {
     "name": "stdout",
     "output_type": "stream",
     "text": [
      "Deposited $50.00. New balance is $150.00.\n",
      "Withdrew $30.00. New balance is $120.00.\n",
      "Account Balance: $120.00\n",
      "Account Number: 123456789\n"
     ]
    }
   ],
   "source": [
    "class BankAccount:\n",
    "    def __init__(self, account_number, initial_balance=0):\n",
    "        # Private attributes\n",
    "        self.__account_number = account_number\n",
    "        self.__balance = initial_balance\n",
    "\n",
    "    def deposit(self, amount):\n",
    "        \"\"\"Deposit money into the account.\"\"\"\n",
    "        if amount > 0:\n",
    "            self.__balance += amount\n",
    "            print(f\"Deposited ${amount:.2f}. New balance is ${self.__balance:.2f}.\")\n",
    "        else:\n",
    "            print(\"Deposit amount must be positive.\")\n",
    "\n",
    "    def withdraw(self, amount):\n",
    "        \"\"\"Withdraw money from the account.\"\"\"\n",
    "        if amount > 0:\n",
    "            if amount <= self.__balance:\n",
    "                self.__balance -= amount\n",
    "                print(f\"Withdrew ${amount:.2f}. New balance is ${self.__balance:.2f}.\")\n",
    "            else:\n",
    "                print(\"Insufficient funds.\")\n",
    "        else:\n",
    "            print(\"Withdrawal amount must be positive.\")\n",
    "\n",
    "    def get_balance(self):\n",
    "        \"\"\"Return the current balance.\"\"\"\n",
    "        return self.__balance\n",
    "\n",
    "    def get_account_number(self):\n",
    "        \"\"\"Return the account number.\"\"\"\n",
    "        return self.__account_number\n",
    "\n",
    "# Example usage\n",
    "account = BankAccount(\"123456789\", 100)\n",
    "account.deposit(50)\n",
    "account.withdraw(30)\n",
    "print(f\"Account Balance: ${account.get_balance():.2f}\")\n",
    "print(f\"Account Number: {account.get_account_number()}\")\n"
   ]
  },
  {
   "cell_type": "code",
   "execution_count": null,
   "id": "33b12ba3-8f71-491c-bd8a-104216fc9398",
   "metadata": {},
   "outputs": [],
   "source": [
    "#Q11. Write a class that overrides the `__str__` and `__add__` magic methods. What will these methods allow you to do?"
   ]
  },
  {
   "cell_type": "code",
   "execution_count": 46,
   "id": "1826e73c-9aa0-4dac-8e47-59fce1a6b990",
   "metadata": {},
   "outputs": [
    {
     "name": "stdout",
     "output_type": "stream",
     "text": [
      "MyCustomClass object with value: 10\n",
      "MyCustomClass object with value: 30\n"
     ]
    }
   ],
   "source": [
    "class MyCustomClass:\n",
    "    def __init__(self, value):\n",
    "        self.value = value\n",
    "\n",
    "    def __str__(self):\n",
    "        return f\"MyCustomClass object with value: {self.value}\"\n",
    "\n",
    "    def __add__(self, other):\n",
    "        if isinstance(other, MyCustomClass):\n",
    "            return MyCustomClass(self.value + other.value)\n",
    "        else:\n",
    "            raise TypeError(\"Can only add MyCustomClass objects\")\n",
    "\n",
    "# Example usage\n",
    "obj1 = MyCustomClass(10)\n",
    "obj2 = MyCustomClass(20)\n",
    "\n",
    "print(obj1)\n",
    "print(obj1 + obj2)"
   ]
  },
  {
   "cell_type": "markdown",
   "id": "e488655c-4b68-49d6-b02d-b0b5ffe1debf",
   "metadata": {},
   "source": [
    "In this code:\n",
    "\n",
    "We define the MyCustomClass class with a value attribute.\n",
    "We override the __str__ method to provide a custom string representation of the object. This allows us to print the object in a human-readable format.\n",
    "We override the __add__ method to define how addition should work for objects of this class. This allows us to add two MyCustomClass objects together and get a new MyCustomClass object with the sum of their values.\n",
    "By overriding these magic methods, we can customize the behavior of our class objects when they are printed or added together. This can be useful for creating more intuitive and expressive classes.\n"
   ]
  },
  {
   "cell_type": "code",
   "execution_count": null,
   "id": "135f8e05-0526-45d9-8eb9-5dd9516ef303",
   "metadata": {},
   "outputs": [],
   "source": [
    "# Q12. Create a decorator that measures and prints the execution time of a function."
   ]
  },
  {
   "cell_type": "code",
   "execution_count": 47,
   "id": "e15b8a77-7b7d-4534-87d0-f777aa5c2c2e",
   "metadata": {},
   "outputs": [
    {
     "name": "stdout",
     "output_type": "stream",
     "text": [
      "my_function took 2.00259 seconds to execute.\n"
     ]
    }
   ],
   "source": [
    "import time\n",
    "\n",
    "def measure_time(func):\n",
    "    def wrapper(*args, **kwargs):\n",
    "        start_time = time.time()\n",
    "        result = func(*args, **kwargs)\n",
    "        end_time = time.time()\n",
    "        execution_time = end_time - start_time\n",
    "        print(f\"{func.__name__} took {execution_time:.5f} seconds to execute.\")\n",
    "        return result\n",
    "    return wrapper\n",
    "\n",
    "@measure_time\n",
    "def my_function():\n",
    "    # Some code here\n",
    "    time.sleep(2)\n",
    "\n",
    "my_function()"
   ]
  },
  {
   "cell_type": "markdown",
   "id": "cd3e35f0-65c5-44f7-b678-7a2208135ed9",
   "metadata": {},
   "source": [
    "This code defines a decorator named measure_time that wraps the given function. The wrapper function measures the execution time by recording the start and end times, calculates the difference, and prints the result. The original function is then called, and its return value is returned.\n",
    "\n",
    "The decorator is applied to the my_function using the @measure_time syntax. When my_function is called, the measure_time decorator will wrap it, measure its execution time, and print the result."
   ]
  },
  {
   "cell_type": "code",
   "execution_count": null,
   "id": "56c54ff9-ee44-4e70-a6a2-faeb4e732d6b",
   "metadata": {},
   "outputs": [],
   "source": [
    "# Q13. Explain the concept of the Diamond Problem in multiple inheritance. How does Python resolve it?"
   ]
  },
  {
   "cell_type": "markdown",
   "id": "2994daf2-1643-46ef-9ac8-b1852e00ba68",
   "metadata": {},
   "source": [
    "Ans. The Diamond Problem in multiple inheritance occurs when a class inherits from two classes that both inherit from the same base class. This creates a diamond-shaped inheritance structure, hence the name. The issue arises when a method or attribute from the base class is called, and it is unclear which path the method should follow: should it inherit from the first parent class, the second, or directly from the base class?"
   ]
  },
  {
   "cell_type": "code",
   "execution_count": 48,
   "id": "d806a848-a3db-45b9-9efc-11a760644da5",
   "metadata": {},
   "outputs": [
    {
     "name": "stdout",
     "output_type": "stream",
     "text": [
      "Hello from B\n"
     ]
    }
   ],
   "source": [
    "#Example of the Diamond Problem:\n",
    "\n",
    "class A:\n",
    "    def greet(self):\n",
    "        print(\"Hello from A\")\n",
    "\n",
    "class B(A):\n",
    "    def greet(self):\n",
    "        print(\"Hello from B\")\n",
    "\n",
    "class C(A):\n",
    "    def greet(self):\n",
    "        print(\"Hello from C\")\n",
    "\n",
    "class D(B, C):  # D inherits from both B and C\n",
    "    pass\n",
    "\n",
    "d = D()\n",
    "d.greet()  # Which greet method will be called?\n"
   ]
  },
  {
   "cell_type": "markdown",
   "id": "f2ac614e-cf32-42f1-9771-882d1a6b3749",
   "metadata": {},
   "source": [
    "In this example, class D inherits from both B and C, which both inherit from class A. If D calls the greet() method, it’s unclear whether it should use the method from B, C, or directly from A."
   ]
  },
  {
   "cell_type": "markdown",
   "id": "3be37c50-88d8-42c8-8a25-1eeaead18614",
   "metadata": {},
   "source": [
    "How Python Resolves the Diamond Problem:\n",
    "Python uses a method called Method Resolution Order (MRO) to resolve this. The MRO determines the order in which base classes are searched when executing a method. Python uses the C3 linearization algorithm to compute the MRO, ensuring that:\n",
    "\n",
    "A class’s own methods are prioritized over inherited methods.\n",
    "Parent classes are looked up in the order they are listed in the class definition.\n",
    "No base class is looked up more than once.\n",
    "You can inspect the MRO of a class using the __mro__ attribute or the mro() method:"
   ]
  },
  {
   "cell_type": "code",
   "execution_count": 49,
   "id": "43460068-e2be-41df-ba38-1a676a60c267",
   "metadata": {},
   "outputs": [
    {
     "name": "stdout",
     "output_type": "stream",
     "text": [
      "[<class '__main__.D'>, <class '__main__.B'>, <class '__main__.C'>, <class '__main__.A'>, <class 'object'>]\n"
     ]
    }
   ],
   "source": [
    "print(D.mro())\n"
   ]
  },
  {
   "cell_type": "markdown",
   "id": "b4b09c82-c980-43e9-a5e4-a1cb7869eee0",
   "metadata": {},
   "source": [
    "In this case, Python will first check D, then B, then C, and finally A. So, D will use the greet() method from B because B comes before C in the MRO.\n",
    "\n",
    "This ensures that Python resolves the Diamond Problem in a clear and predictable manner."
   ]
  },
  {
   "cell_type": "code",
   "execution_count": null,
   "id": "ce2afba2-bc5b-458e-9b2b-4cb275be5a43",
   "metadata": {},
   "outputs": [],
   "source": [
    "#Q14. Write a class method that keeps track of the number of instances created from a class."
   ]
  },
  {
   "cell_type": "code",
   "execution_count": 51,
   "id": "18d9053c-00ea-4725-9723-461384715105",
   "metadata": {},
   "outputs": [
    {
     "name": "stdout",
     "output_type": "stream",
     "text": [
      "3\n"
     ]
    }
   ],
   "source": [
    "class InstanceCounter:\n",
    "    \"\"\"A class that keeps track of the number of instances created.\"\"\"\n",
    "\n",
    "    _instance_count = 0\n",
    "\n",
    "    def __init__(self):\n",
    "        InstanceCounter._instance_count += 1\n",
    "\n",
    "    @classmethod\n",
    "    def get_instance_count(cls):\n",
    "        \"\"\"Returns the total number of instances created.\"\"\"\n",
    "        return cls._instance_count\n",
    "obj1 = InstanceCounter()\n",
    "obj2 = InstanceCounter()\n",
    "obj3 = InstanceCounter()\n",
    "\n",
    "print(InstanceCounter.get_instance_count())  # Output: 3"
   ]
  },
  {
   "cell_type": "code",
   "execution_count": null,
   "id": "d9b0d22b-4d93-4487-8d7d-9a085f3cf30b",
   "metadata": {},
   "outputs": [],
   "source": [
    "#Q15. Implement a static method in a class that checks if a given year is a leap year."
   ]
  },
  {
   "cell_type": "markdown",
   "id": "e8680bc4-2eef-492f-82c4-3d7f9bdb1678",
   "metadata": {},
   "source": [
    "To determine whether a given year is a leap year, you can follow these rules:\n",
    "\n",
    "A year is a leap year if it is divisible by 4.\n",
    "However, if it is divisible by 100, it is not a leap year, unless:\n",
    "It is also divisible by 400, in which case it is a leap year.\n",
    "Here’s how we can implement a static method in a class to check if a year is a leap year in Python:"
   ]
  },
  {
   "cell_type": "code",
   "execution_count": 52,
   "id": "135c287b-caeb-49c7-bbbb-02c9184b3f24",
   "metadata": {},
   "outputs": [
    {
     "name": "stdout",
     "output_type": "stream",
     "text": [
      "Is 2024 a leap year? True\n",
      "Is 1900 a leap year? False\n",
      "Is 2000 a leap year? True\n"
     ]
    }
   ],
   "source": [
    "class YearUtils:\n",
    "    @staticmethod\n",
    "    def is_leap_year(year):\n",
    "        # A year is a leap year if it is divisible by 4\n",
    "        # But not divisible by 100 unless it is also divisible by 400\n",
    "        if (year % 4 == 0 and year % 100 != 0) or (year % 400 == 0):\n",
    "            return True\n",
    "        else:\n",
    "            return False\n",
    "\n",
    "# Example usage:\n",
    "year = 2024\n",
    "print(f\"Is {year} a leap year? {YearUtils.is_leap_year(year)}\")\n",
    "\n",
    "year = 1900\n",
    "print(f\"Is {year} a leap year? {YearUtils.is_leap_year(year)}\")\n",
    "\n",
    "year = 2000\n",
    "print(f\"Is {year} a leap year? {YearUtils.is_leap_year(year)}\")\n"
   ]
  },
  {
   "cell_type": "code",
   "execution_count": null,
   "id": "cf6aeb4e-c37b-43e2-89dd-d7e2b29522d6",
   "metadata": {},
   "outputs": [],
   "source": []
  }
 ],
 "metadata": {
  "kernelspec": {
   "display_name": "Python 3 (ipykernel)",
   "language": "python",
   "name": "python3"
  },
  "language_info": {
   "codemirror_mode": {
    "name": "ipython",
    "version": 3
   },
   "file_extension": ".py",
   "mimetype": "text/x-python",
   "name": "python",
   "nbconvert_exporter": "python",
   "pygments_lexer": "ipython3",
   "version": "3.12.3"
  }
 },
 "nbformat": 4,
 "nbformat_minor": 5
}

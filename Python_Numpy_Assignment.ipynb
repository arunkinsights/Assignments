{
 "cells": [
  {
   "cell_type": "code",
   "execution_count": null,
   "id": "cef95928-6cb0-4758-b964-4f217c948757",
   "metadata": {},
   "outputs": [],
   "source": [
    "'Theoretical Questions:'"
   ]
  },
  {
   "cell_type": "markdown",
   "id": "67ddae93-5f4f-4a4c-9268-ac0fc0df340e",
   "metadata": {},
   "source": [
    "Q1. Explain the purpose and advantages of NumPy in scientific computing and data analysis. How does it enhance Python's capabilities for numerical operations?\n",
    "\n",
    "Ans. NumPy (Numerical Python) is a powerful library in Python used for numerical computing and data analysis. Its primary purpose is to provide support for large, multi-dimensional arrays and matrices, along with a vast collection of high-level mathematical functions to operate on these arrays. Here’s how NumPy enhances Python's capabilities and its advantages in scientific computing and data analysis:\n",
    "\n",
    "Purpose of NumPy:\n",
    "Efficient Handling of Arrays and Matrices: NumPy provides a powerful data structure called ndarray (N-dimensional array) that allows efficient storage and manipulation of large datasets. This is essential for handling arrays, matrices, and multi-dimensional data, which are common in data analysis and scientific computing.\n",
    "\n",
    "Mathematical and Statistical Functions: NumPy comes with a large library of functions for performing mathematical operations, such as linear algebra, Fourier transformations, and statistical operations, making it a core tool in scientific computing.\n",
    "\n",
    "Interoperability with Other Libraries: Many Python libraries for data science (like pandas, scikit-learn, and TensorFlow) are built on top of NumPy or are highly compatible with it. This makes it a key component in Python’s data analysis ecosystem.\n",
    "\n",
    "Advantages of NumPy:\n",
    "\n",
    "Speed and Performance:\n",
    "NumPy arrays are more efficient and faster than Python lists because they are implemented in C and optimized for performance. This leads to significant speedups in numerical calculations, which are critical in data-heavy applications.\n",
    "Vectorized operations allow for element-wise computation on arrays, avoiding the need for loops and further speeding up code execution.\n",
    "\n",
    "Memory Efficiency:\n",
    "NumPy arrays consume less memory than Python lists because they store data in contiguous memory blocks, and they store elements of the same data type, reducing the memory overhead associated with Python’s flexible object model.\n",
    "Broadcasting:\n",
    "\n",
    "NumPy supports broadcasting, a powerful feature that allows arrays of different shapes to be combined in operations without explicitly reshaping them. This enables cleaner and more intuitive code for matrix manipulations.\n",
    "Mathematical Flexibility:\n",
    "\n",
    "With its built-in functions for linear algebra (e.g., matrix multiplication, inversion, eigenvalues), statistical analysis (e.g., mean, standard deviation), and random number generation, NumPy simplifies complex scientific and mathematical computations.\n",
    "Data Handling Capabilities:\n",
    "\n",
    "NumPy facilitates easy data manipulation such as reshaping, slicing, and indexing of arrays. This is highly beneficial when working with large datasets, especially in machine learning, image processing, and simulations.\n",
    "Cross-Language Compatibility:\n",
    "\n",
    "NumPy arrays can be easily integrated with C, C++, and Fortran, making it possible to offload performance-critical parts of the code to these languages for even greater speed improvements.\n",
    "\n",
    "How NumPy Enhances Python’s Capabilities:\n",
    "\n",
    "Numerical Precision: While Python has basic capabilities for numbers, NumPy provides more precise tools for floating-point arithmetic and large-scale matrix operations, which are crucial in scientific computing.\n",
    "\n",
    "Parallelization and Efficiency: NumPy can leverage multi-core CPUs and vectorized operations, providing faster execution of mathematical operations compared to pure Python.\n",
    "\n",
    "Data Structures for Scientific Work: Python’s native data structures (like lists or dictionaries) are not designed for numerical computation, whereas NumPy’s ndarray is optimized for numerical tasks and scientific data.\n",
    "\n",
    "In summary, NumPy is essential in scientific computing and data analysis because it boosts Python's capabilities with efficient numerical operations, speed, memory management, and ease of integration with other libraries and languages. This makes it a go-to tool for professionals in data science, engineering, and other technical fields.\n"
   ]
  },
  {
   "cell_type": "markdown",
   "id": "c824c0f4-7d76-44c0-9f27-b2cda88ec1b1",
   "metadata": {},
   "source": [
    "Q2. Compare and contrast np.mean() and np.average() functions in NumPy. When would you use one over the\n",
    "other?\n",
    "\n",
    "Ans. np.mean() and np.average() in NumPy are both used to calculate the average value of an array. However, they have subtle differences in their behavior, especially when dealing with weights.\n",
    "\n",
    "np.mean() calculates the arithmetic mean, which is the sum of all elements divided by the number of elements. This function assumes that all elements contribute equally to the average.\n",
    "\n",
    "np.average() is more flexible and allows you to specify weights for each element. If you provide a weights array, the function calculates a weighted average, where each element's contribution to the average is proportional to its weight.\n",
    "\n",
    "When to use np.mean():\n",
    "\n",
    "- When you want to calculate the simple arithmetic mean of an array and all elements contribute equally.\n",
    "- When you don't need to assign different weights to elements.\n",
    "\n",
    "    When to use np.average():\n",
    "\n",
    "- When you want to calculate a weighted average where different elements have different levels of importance.\n",
    "- For example, in statistics, you might use weighted averages to account for different sample sizes or variances."
   ]
  },
  {
   "cell_type": "code",
   "execution_count": 2,
   "id": "93bf2184-13ac-4cba-a60e-96b6a450d092",
   "metadata": {},
   "outputs": [
    {
     "name": "stdout",
     "output_type": "stream",
     "text": [
      "Arithmetic mean: 3.0\n",
      "Weighted average: 3.6666666666666665\n"
     ]
    }
   ],
   "source": [
    "import numpy as np\n",
    "\n",
    "data = np.array([1, 2, 3, 4, 5])\n",
    "weights = np.array([1, 2, 3, 4, 5])\n",
    "\n",
    "# Simple arithmetic mean\n",
    "arithmetic_mean = np.mean(data)\n",
    "print(\"Arithmetic mean:\", arithmetic_mean)\n",
    "\n",
    "# Weighted average\n",
    "weighted_average = np.average(data, weights=weights)\n",
    "print(\"Weighted average:\", weighted_average)"
   ]
  },
  {
   "cell_type": "markdown",
   "id": "ef44049c-41f1-42b8-a5fb-9986c8e84bad",
   "metadata": {},
   "source": [
    "In summary, np.mean() is appropriate for simple arithmetic averages, while np.average() is more versatile for calculating weighted averages when you need to account for different element contributions."
   ]
  },
  {
   "cell_type": "markdown",
   "id": "70b3de67-6767-4a69-bbb1-b49f92d9b7e5",
   "metadata": {},
   "source": [
    "Q3. Describe the methods for reversing a NumPy array along different axes. Provide examples for 1D and 2D\n",
    "arrays.\n",
    "\n",
    "Ans. Reversing a NumPy array involves changing the order of its elements along a specific axis. NumPy provides the flip() function to accomplish this.\n",
    "\n",
    "Reversing a 1D array:\n",
    "To reverse a 1D array, simply pass it to the flip() function. This will reverse the order of elements from the beginning to the end."
   ]
  },
  {
   "cell_type": "code",
   "execution_count": 3,
   "id": "9a02d8e7-9f04-43ca-8b6a-d5b8b8631dfc",
   "metadata": {},
   "outputs": [
    {
     "name": "stdout",
     "output_type": "stream",
     "text": [
      "[5 4 3 2 1]\n"
     ]
    }
   ],
   "source": [
    "import numpy as np\n",
    "\n",
    "array1d = np.array([1, 2, 3, 4, 5])\n",
    "reversed_array1d = np.flip(array1d)\n",
    "\n",
    "print(reversed_array1d)  # Output: [5 4 3 2 1]"
   ]
  },
  {
   "cell_type": "markdown",
   "id": "64f99d25-b8f0-4611-92ab-a4a8b93f38be",
   "metadata": {},
   "source": [
    "Reversing a 2D array:\n",
    "For 2D arrays, you can specify the axis along which you want to reverse the elements. Using axis=0 will reverse the rows, and axis=1 will reverse the columns."
   ]
  },
  {
   "cell_type": "code",
   "execution_count": 4,
   "id": "c35f5e4b-9099-4660-9432-deae42ee960b",
   "metadata": {},
   "outputs": [
    {
     "name": "stdout",
     "output_type": "stream",
     "text": [
      "[[7 8 9]\n",
      " [4 5 6]\n",
      " [1 2 3]]\n",
      "[[3 2 1]\n",
      " [6 5 4]\n",
      " [9 8 7]]\n"
     ]
    }
   ],
   "source": [
    "array2d = np.array([[1, 2, 3],\n",
    "                   [4, 5, 6],\n",
    "                   [7, 8, 9]])\n",
    "\n",
    "# Reversing rows\n",
    "reversed_rows = np.flip(array2d, axis=0)\n",
    "print(reversed_rows)  # Output: [[7 8 9], [4 5 6], [1 2 3]]\n",
    "\n",
    "# Reversing columns\n",
    "reversed_columns = np.flip(array2d, axis=1)\n",
    "print(reversed_columns)  # Output: [[3 2 1], [6 5 4], [9 8 7]]"
   ]
  },
  {
   "cell_type": "markdown",
   "id": "a984e8dc-e068-432e-ad57-14e45c29dd16",
   "metadata": {},
   "source": [
    "Reversing along multiple axes:\n",
    "You can also reverse the array along multiple axes by passing a tuple of axes to the flip() function."
   ]
  },
  {
   "cell_type": "code",
   "execution_count": 5,
   "id": "5622e6f2-2a05-469f-956f-40d83780598f",
   "metadata": {},
   "outputs": [
    {
     "name": "stdout",
     "output_type": "stream",
     "text": [
      "[[9 8 7]\n",
      " [6 5 4]\n",
      " [3 2 1]]\n"
     ]
    }
   ],
   "source": [
    "# Reversing both rows and columns\n",
    "reversed_both = np.flip(array2d, axis=(0, 1))\n",
    "print(reversed_both)  # Output: [[9 8 7], [6 5 4], [3 2 1]]"
   ]
  },
  {
   "cell_type": "markdown",
   "id": "82f8700e-b77e-48e4-b066-f485bc2c1f7c",
   "metadata": {},
   "source": [
    "Q4. How can you determine the data type of elements in a NumPy array? Discuss the importance of data types\n",
    "in memory management and performance.\n",
    "\n",
    "Ans. Determining the Data Type of Elements in a NumPy Array\n",
    "\n",
    "NumPy provides the dtype attribute to access the data type of the elements in an array. This attribute returns a NumPy data type object, which represents the type of data stored in the array."
   ]
  },
  {
   "cell_type": "code",
   "execution_count": 7,
   "id": "650b37d8-d520-46e2-b382-8af23c586395",
   "metadata": {},
   "outputs": [
    {
     "name": "stdout",
     "output_type": "stream",
     "text": [
      "int32\n"
     ]
    }
   ],
   "source": [
    "import numpy as np\n",
    "\n",
    "array = np.array([1, 2, 3, 4, 5])\n",
    "data_type = array.dtype\n",
    "\n",
    "print(data_type)"
   ]
  },
  {
   "cell_type": "code",
   "execution_count": null,
   "id": "0d794ab2-6b38-4114-81b8-af22d2491709",
   "metadata": {},
   "outputs": [],
   "source": [
    "#In the example above, the output int32 indicates that the elements in the array are 32-bit integers."
   ]
  },
  {
   "cell_type": "markdown",
   "id": "fc35b88c-df94-4b5c-9f5f-0509407294bc",
   "metadata": {},
   "source": [
    "Importance of Data Types in Memory Management and Performance\n",
    "\n",
    "Understanding and choosing the appropriate data type for your NumPy arrays is crucial for efficient memory management and performance:\n",
    "\n",
    "Memory Usage:\n",
    "\n",
    "Correct data type: Using the correct data type ensures that only the necessary amount of memory is allocated for each element. For example, using int8 for small integers instead of int64 can significantly reduce memory consumption.\n",
    "Avoid unnecessary conversions: Performing unnecessary data type conversions can be computationally expensive and can impact performance.\n",
    "Performance:\n",
    "\n",
    "Optimized operations: NumPy operations are often optimized for specific data types. Using the correct data type can lead to faster calculations.\n",
    "Memory access patterns: The data type can influence how elements are stored in memory, which can affect memory access patterns and performance. For example, arrays with elements that are multiples of 64 bits (e.g., int64, float64) can benefit from efficient memory access.\n",
    "Best Practices:\n",
    "\n",
    "Use the appropriate data type: Choose the data type that best represents the range and precision of your data.\n",
    "Avoid unnecessary conversions: Try to perform operations directly on arrays with compatible data types to minimize conversions.\n",
    "\n",
    "Be aware of memory limitations: Consider the memory requirements of your arrays, especially when working with large datasets.\n"
   ]
  },
  {
   "cell_type": "markdown",
   "id": "0a7f6cea-884b-476d-bcd5-24f39b63c729",
   "metadata": {},
   "source": [
    "Q5. Define ndarrays in NumPy and explain their key features. How do they differ from standard Python lists?\n",
    "\n",
    "Ans. NumPy arrays, or ndarrays, are multi-dimensional arrays that provide efficient storage and manipulation of numerical data in Python. They are the fundamental data structure in NumPy and offer several advantages over standard Python lists.\n",
    "\n",
    "Key Features of ndarrays:\n",
    "\n",
    "Homogeneous Data Type: All elements in an ndarray must be of the same data type (e.g., int, float, bool).\n",
    "Fixed Size: The size of an ndarray cannot be changed after creation.\n",
    "Efficient Operations: NumPy provides optimized functions for various mathematical operations, making it much faster than using Python lists for numerical computations.\n",
    "\n",
    "Broadcasting: NumPy supports broadcasting, which allows for element-wise operations between arrays of different shapes.\n",
    "Indexing and Slicing: ndarrays can be indexed and sliced to access or modify specific elements or subsets of the array.\n",
    "\n",
    "Vectorization: Many operations in NumPy can be vectorized, meaning they can be performed on entire arrays at once, leading to significant performance improvements.\n",
    "\n",
    "Shape and Dimensions: ndarrays have a shape attribute that specifies the number of elements along each axis.\n",
    "\n",
    "Differences from Standard Python Lists:\n",
    "\n",
    "Data Type Homogeneity: Python lists can store elements of different data types, while ndarrays require all elements to be of the same type.\n",
    "Fixed Size: Python lists are dynamic and can change size during runtime, while ndarrays have a fixed size.\n",
    "\n",
    "Performance: NumPy ndarrays are optimized for numerical operations and are generally much faster than Python lists, especially for large datasets.\n",
    "Vectorization: Python lists do not support vectorization, making them less efficient for numerical computations.\n",
    "\n",
    "Indexing and Slicing: While both ndarrays and lists support indexing and slicing, ndarrays often have more flexible indexing options.\n",
    "Shape and Dimensions: ndarrays have a well-defined shape and can be multi-dimensional, while Python lists are essentially one-dimensional.\n",
    "\n",
    "In summary, ndarrays in NumPy offer a powerful and efficient way to work with numerical data in Python. Their homogeneity, fixed size, optimized operations, and other features make them a valuable tool for scientific computing, data analysis, and machine learning.\n"
   ]
  },
  {
   "cell_type": "markdown",
   "id": "10368bc6-d22a-4756-a24f-ea6ebd0481f7",
   "metadata": {},
   "source": [
    "Q6. Analyze the performance benefits of NumPy arrays over Python lists for large-scale numerical operations.\n",
    "\n",
    "Ans. NumPy arrays offer significant performance benefits over Python lists for large-scale numerical operations due to the following factors:\n",
    "Vectorization:\n",
    "•\tNumPy operations are designed to be vectorized, meaning they can operate on entire arrays at once, avoiding costly element-wise loops. This leads to dramatic performance improvements, especially for large datasets.\n",
    "Memory Efficiency:\n",
    "•\tNumPy arrays are stored in contiguous memory blocks, which allows for efficient memory access. This is in contrast to Python lists, which can have scattered memory allocations, leading to slower access times.\n",
    "•\tNumPy arrays also have a fixed size, which can help to avoid unnecessary memory reallocations that can occur with Python lists.\n",
    "Optimized Algorithms:\n",
    "•\tNumPy is built on highly optimized C and Fortran libraries, which provide efficient implementations of many mathematical operations. This means that NumPy functions are often significantly faster than their Python equivalents.\n",
    "Data Type Homogeneity:\n",
    "•\tNumPy arrays require all elements to be of the same data type, which allows for more efficient memory usage and optimized operations. Python lists, on the other hand, can store elements of different data types, which can lead to overhead and slower performance.\n",
    "Examples of Performance Gains:\n",
    "•\tMatrix Multiplication: NumPy's dot function for matrix multiplication is significantly faster than using nested loops in Python.\n",
    "•\tElement-wise Operations: Arithmetic operations like addition, subtraction, multiplication, and division can be performed on entire NumPy arrays at once, leading to substantial speedups.\n",
    "•\tTrigonometric Functions: NumPy provides optimized implementations of trigonometric functions, which can be significantly faster than using Python's built-in functions.\n",
    "In conclusion, NumPy arrays offer substantial performance advantages over Python lists for large-scale numerical operations due to their vectorization, memory efficiency, optimized algorithms, and data type homogeneity. By using NumPy, you can significantly improve the speed and efficiency of your numerical computations.\n"
   ]
  },
  {
   "cell_type": "markdown",
   "id": "13e49976-432a-4686-83bd-4832e9a48959",
   "metadata": {},
   "source": [
    "Q7. Compare vstack() and hstack() functions in NumPy. Provide examples demonstrating their usage and\n",
    "output\n",
    "\n",
    "Ans. vstack() and hstack() are two functions in NumPy used to vertically and horizontally stack arrays, respectively.\n",
    "\n",
    "vstack()\n",
    "\n",
    "- Stacks arrays vertically, meaning it appends the arrays one below the other.\n",
    "- The arrays must have the same number of columns."
   ]
  },
  {
   "cell_type": "code",
   "execution_count": 8,
   "id": "07d965f4-9d92-473b-9901-f759fcc998a3",
   "metadata": {},
   "outputs": [
    {
     "name": "stdout",
     "output_type": "stream",
     "text": [
      "[[1 2]\n",
      " [3 4]\n",
      " [5 6]\n",
      " [7 8]]\n"
     ]
    }
   ],
   "source": [
    "import numpy as np\n",
    "\n",
    "array1 = np.array([[1, 2],\n",
    "                  [3, 4]])\n",
    "\n",
    "array2 = np.array([[5, 6],\n",
    "                  [7, 8]])\n",
    "\n",
    "stacked_array = np.vstack((array1, array2))\n",
    "\n",
    "print(stacked_array)"
   ]
  },
  {
   "cell_type": "markdown",
   "id": "1791e801-ff9c-4f1c-8243-05dda7147cab",
   "metadata": {},
   "source": [
    "hstack()\n",
    "\n",
    "- Stacks arrays horizontally, meaning it appends the arrays side by side.\n",
    "- The arrays must have the same number of rows."
   ]
  },
  {
   "cell_type": "code",
   "execution_count": 9,
   "id": "2e707c28-4f82-4e5c-ba1c-3c6e29c2bc45",
   "metadata": {},
   "outputs": [
    {
     "name": "stdout",
     "output_type": "stream",
     "text": [
      "[[1 2 5 6]\n",
      " [3 4 7 8]]\n"
     ]
    }
   ],
   "source": [
    "array1 = np.array([[1, 2],\n",
    "                  [3, 4]])\n",
    "\n",
    "array2 = np.array([[5, 6],\n",
    "                  [7, 8]])\n",
    "\n",
    "stacked_array = np.hstack((array1, array2))\n",
    "\n",
    "print(stacked_array)"
   ]
  },
  {
   "cell_type": "markdown",
   "id": "813e142c-1cb5-47a0-98e7-17f13e76571e",
   "metadata": {},
   "source": [
    "Q8. Explain the differences between fliplr() and flipud() methods in NumPy, including their effects on various\n",
    "array dimensions.\n",
    "\n",
    "Ans. fliplr() and flipud() are two functions in NumPy used to flip arrays along specific axes:\n",
    "\n",
    "fliplr()\n",
    "\n",
    "Flips an array along the left-right axis (axis 1).\n",
    "This means that the columns of the array are reversed."
   ]
  },
  {
   "cell_type": "code",
   "execution_count": 10,
   "id": "e6ef3679-d92c-4dd7-a80b-6ecb5244e4af",
   "metadata": {},
   "outputs": [
    {
     "name": "stdout",
     "output_type": "stream",
     "text": [
      "[[3 2 1]\n",
      " [6 5 4]]\n"
     ]
    }
   ],
   "source": [
    "import numpy as np\n",
    "\n",
    "array = np.array([[1, 2, 3],\n",
    "                  [4, 5, 6]])\n",
    "\n",
    "flipped_array = np.fliplr(array)\n",
    "\n",
    "print(flipped_array)"
   ]
  },
  {
   "cell_type": "markdown",
   "id": "9d66d046-c0e4-4661-8a9e-183a0f6e27fa",
   "metadata": {},
   "source": [
    "flipud()\n",
    "\n",
    "Flips an array along the up-down axis (axis 0).\n",
    "This means that the rows of the array are reversed."
   ]
  },
  {
   "cell_type": "code",
   "execution_count": 11,
   "id": "cd496572-9ce3-4f0a-9fd4-4d82e417dfaf",
   "metadata": {},
   "outputs": [
    {
     "name": "stdout",
     "output_type": "stream",
     "text": [
      "[[4 5 6]\n",
      " [1 2 3]]\n"
     ]
    }
   ],
   "source": [
    "array = np.array([[1, 2, 3],\n",
    "                  [4, 5, 6]])\n",
    "\n",
    "flipped_array = np.flipud(array)\n",
    "\n",
    "print(flipped_array)"
   ]
  },
  {
   "cell_type": "markdown",
   "id": "9b7ad22e-ebbd-4909-af72-0eb48d68b65b",
   "metadata": {},
   "source": [
    "Effects on Various Array Dimensions:\n",
    "\n",
    "1D arrays: Both fliplr() and flipud() have the same effect on 1D arrays, which is to reverse the order of elements.\n",
    "2D arrays: fliplr() reverses the columns, while flipud() reverses the rows.\n",
    "3D arrays: fliplr() reverses the elements along the second axis (columns), and flipud() reverses the elements along the first axis (rows).\n",
    "\n",
    "In summary, fliplr() and flipud() provide convenient ways to reverse the elements of an array along specific axes, which can be useful for various data manipulation tasks."
   ]
  },
  {
   "cell_type": "markdown",
   "id": "f2859741-fad1-47c7-87b7-787ba46e37ee",
   "metadata": {},
   "source": [
    "Q9. Discuss the functionality of the array_split() method in NumPy. How does it handle uneven splits?\n",
    "\n",
    "Ans. array_split() in NumPy is a function used to split an array into a specified number of sub-arrays. It is a versatile tool for dividing data into smaller, manageable chunks.\n",
    "Functionality:\n",
    "•\tTakes an array and an integer sections as input.\n",
    "•\tSplits the array into sections sub-arrays.\n",
    "•\tThe sub-arrays are approximately equal in size.\n",
    "•\tIf the array cannot be evenly divided, the last sub-array will be smaller than the others.\n",
    "Uneven Splits:\n",
    "•\tWhen the array cannot be evenly divided, array_split() ensures that the sub-arrays are as evenly distributed as possible.\n",
    "•\tThe last sub-array will contain the remaining elements.\n",
    "\n"
   ]
  },
  {
   "cell_type": "code",
   "execution_count": 12,
   "id": "56e092f6-d784-4c2e-8439-0e350dc70f22",
   "metadata": {},
   "outputs": [
    {
     "name": "stdout",
     "output_type": "stream",
     "text": [
      "[array([0, 1, 2, 3]), array([4, 5, 6]), array([7, 8, 9])]\n",
      "[array([0, 1, 2]), array([3, 4, 5]), array([6, 7]), array([8, 9])]\n"
     ]
    }
   ],
   "source": [
    "import numpy as np\n",
    "\n",
    "array = np.arange(10)\n",
    "\n",
    "# Split into 3 sub-arrays\n",
    "sub_arrays1 = np.array_split(array, 3)\n",
    "\n",
    "print(sub_arrays1)\n",
    "\n",
    "# Split into 4 sub-arrays\n",
    "sub_arrays2 = np.array_split(array, 4)\n",
    "\n",
    "print(sub_arrays2)"
   ]
  },
  {
   "cell_type": "markdown",
   "id": "6e1444ad-a1b0-44d7-a7b9-cfad0fc3f671",
   "metadata": {},
   "source": [
    "Q10. Explain the concepts of vectorization and broadcasting in NumPy. How do they contribute to efficient array\n",
    "operations?\n",
    "\n",
    "Ans. In NumPy, two important concepts that significantly enhance the performance of array operations are vectorization and broadcasting. These concepts allow for more efficient computation by avoiding the need for explicit loops and enabling operations on arrays of different shapes.\n",
    "\n",
    "1. Vectorization:\n",
    "Vectorization refers to the process of applying operations on entire arrays (or large chunks of data) at once, rather than processing individual elements via loops. This is possible because NumPy internally uses optimized, low-level C code to handle array operations, making these operations much faster than if they were implemented using Python loops.\n",
    "\n",
    "For example, consider two arrays a and b, each containing 1 million elements. To add them element-wise, you can simply use:\n"
   ]
  },
  {
   "cell_type": "code",
   "execution_count": 13,
   "id": "172e5b70-1ba9-4f1a-a671-ca793f339bab",
   "metadata": {},
   "outputs": [],
   "source": [
    "\n",
    "result = a + b  # Vectorized operation\n",
    "\n",
    "#Without vectorization, you would need a loop like:\n",
    "result = [a[i] + b[i] for i in range(len(a))]\n"
   ]
  },
  {
   "cell_type": "markdown",
   "id": "6fad05cc-1d4e-428b-9521-8b79614d2efe",
   "metadata": {},
   "source": [
    "Vectorized operations are not only more concise and readable but also significantly faster because they leverage hardware optimizations like SIMD (Single Instruction, Multiple Data)."
   ]
  },
  {
   "cell_type": "markdown",
   "id": "7946b042-172a-4360-9ccf-097a84313da1",
   "metadata": {},
   "source": [
    "2. Broadcasting:\n",
    "Broadcasting allows NumPy to perform arithmetic operations on arrays of different shapes. It \"stretches\" the smaller array along the dimensions where it has size 1 so that it matches the shape of the larger array, enabling element-wise operations without making copies of data.\n",
    "\n",
    "For example, suppose you want to add a scalar to each element of a 2D array:"
   ]
  },
  {
   "cell_type": "code",
   "execution_count": 14,
   "id": "13b74be2-33f6-427f-b2f6-228f4a04b3ba",
   "metadata": {},
   "outputs": [],
   "source": [
    "import numpy as np\n",
    "\n",
    "array_2d = np.array([[1, 2, 3], [4, 5, 6]])\n",
    "scalar = 10\n",
    "result = array_2d + scalar  # Broadcasting\n",
    "\n",
    "#Here, scalar is treated as a 2x3 array where each element is 10, and the addition is performed element-wise."
   ]
  },
  {
   "cell_type": "markdown",
   "id": "a261dbab-ce80-4788-86a1-26f47593ffbd",
   "metadata": {},
   "source": [
    "Benefits of Vectorization and Broadcasting:\n",
    "Performance: Both vectorization and broadcasting lead to faster execution as they minimize explicit loops and take advantage of low-level optimizations.\n",
    "Memory efficiency: Broadcasting allows NumPy to perform operations without creating large intermediate arrays, saving memory and speeding up computation.\n",
    "Concise code: Operations can be written in a single line, making the code easier to read and maintain.\n",
    "In summary, vectorization and broadcasting are key features in NumPy that contribute to highly efficient array operations by reducing loops, enabling fast execution, and simplifying the code structure."
   ]
  },
  {
   "cell_type": "code",
   "execution_count": null,
   "id": "76d3f014-d05c-48fe-b408-386622af65a9",
   "metadata": {},
   "outputs": [],
   "source": [
    "'Practical Questions:'"
   ]
  },
  {
   "cell_type": "code",
   "execution_count": null,
   "id": "b3d6d11c-4ae0-4c3c-b782-ca571fe61230",
   "metadata": {},
   "outputs": [],
   "source": [
    "#Q1. Create a 3x3 NumPy array with random integers between 1 and 100. Then, interchange its rows and columns."
   ]
  },
  {
   "cell_type": "code",
   "execution_count": 15,
   "id": "0dff222d-eec4-4377-89d2-97ed3b1abf63",
   "metadata": {},
   "outputs": [
    {
     "name": "stdout",
     "output_type": "stream",
     "text": [
      "Original array:\n",
      "[[ 5 94 15]\n",
      " [78 77 92]\n",
      " [84 53 43]]\n",
      "Interchanged array:\n",
      "[[ 5 78 84]\n",
      " [94 77 53]\n",
      " [15 92 43]]\n"
     ]
    }
   ],
   "source": [
    "import numpy as np\n",
    "\n",
    "# Create a 3x3 NumPy array with random integers between 1 and 100\n",
    "array = np.random.randint(1, 101, (3, 3))\n",
    "\n",
    "# Print the original array\n",
    "print(\"Original array:\")\n",
    "print(array)\n",
    "\n",
    "# Interchange rows and columns using array transposition\n",
    "interchanged_array = array.T\n",
    "\n",
    "# Print the interchanged array\n",
    "print(\"Interchanged array:\")\n",
    "print(interchanged_array)"
   ]
  },
  {
   "cell_type": "code",
   "execution_count": null,
   "id": "db0523dc-e2b6-4085-b0e9-0892d93ed7a9",
   "metadata": {},
   "outputs": [],
   "source": [
    "#Q2. Generate a 1D NumPy array with 10 elements. Reshape it into a 2x5 array, then into a 5x2 array."
   ]
  },
  {
   "cell_type": "code",
   "execution_count": 16,
   "id": "bba825c4-bd07-4c40-84a4-d726943ec51c",
   "metadata": {},
   "outputs": [
    {
     "name": "stdout",
     "output_type": "stream",
     "text": [
      "Original array: [0 1 2 3 4 5 6 7 8 9]\n",
      "Reshaped 2x5 array: [[0 1 2 3 4]\n",
      " [5 6 7 8 9]]\n",
      "Reshaped 5x2 array: [[0 1]\n",
      " [2 3]\n",
      " [4 5]\n",
      " [6 7]\n",
      " [8 9]]\n"
     ]
    }
   ],
   "source": [
    "import numpy as np\n",
    "\n",
    "# Generate a 1D NumPy array with 10 elements\n",
    "array = np.arange(10)\n",
    "\n",
    "# Reshape it into a 2x5 array\n",
    "array_2x5 = array.reshape(2, 5)\n",
    "\n",
    "# Reshape it into a 5x2 array\n",
    "array_5x2 = array.reshape(5, 2)\n",
    "\n",
    "print(\"Original array:\", array)\n",
    "print(\"Reshaped 2x5 array:\", array_2x5)\n",
    "print(\"Reshaped 5x2 array:\", array_5x2)"
   ]
  },
  {
   "cell_type": "code",
   "execution_count": null,
   "id": "9385d638-7ed9-4c77-8cca-0986ecfa6b89",
   "metadata": {},
   "outputs": [],
   "source": [
    "#Q3. Create a 4x4 NumPy array with random float values. Add a border of zeros around it, resulting in a 6x6 array."
   ]
  },
  {
   "cell_type": "code",
   "execution_count": 17,
   "id": "f373ad58-4081-4255-8cf4-56c33fa808e8",
   "metadata": {},
   "outputs": [
    {
     "name": "stdout",
     "output_type": "stream",
     "text": [
      "Original array:\n",
      "[[0.95175892 0.99592134 0.70903086 0.33610246]\n",
      " [0.3729434  0.33249515 0.05354474 0.94956831]\n",
      " [0.05597447 0.07037718 0.17393438 0.98432928]\n",
      " [0.1457811  0.3665205  0.9401686  0.98871286]]\n",
      "Array with border:\n",
      "[[0.         0.         0.         0.         0.         0.        ]\n",
      " [0.         0.95175892 0.99592134 0.70903086 0.33610246 0.        ]\n",
      " [0.         0.3729434  0.33249515 0.05354474 0.94956831 0.        ]\n",
      " [0.         0.05597447 0.07037718 0.17393438 0.98432928 0.        ]\n",
      " [0.         0.1457811  0.3665205  0.9401686  0.98871286 0.        ]\n",
      " [0.         0.         0.         0.         0.         0.        ]]\n"
     ]
    }
   ],
   "source": [
    "import numpy as np\n",
    "\n",
    "# Create a 4x4 NumPy array with random float values\n",
    "array = np.random.rand(4, 4)\n",
    "\n",
    "# Add a border of zeros around it\n",
    "array_with_border = np.pad(array, pad_width=1, mode='constant', constant_values=0)\n",
    "\n",
    "print(\"Original array:\")\n",
    "print(array)\n",
    "\n",
    "print(\"Array with border:\")\n",
    "print(array_with_border)"
   ]
  },
  {
   "cell_type": "code",
   "execution_count": null,
   "id": "a982ac18-8be2-4df3-9812-a361cee29f53",
   "metadata": {},
   "outputs": [],
   "source": [
    "#Q4. Using NumPy, create an array of integers from 10 to 60 with a step of 5"
   ]
  },
  {
   "cell_type": "code",
   "execution_count": 18,
   "id": "afcf7a0e-46e4-4876-af9c-c849bd4f07b4",
   "metadata": {},
   "outputs": [
    {
     "name": "stdout",
     "output_type": "stream",
     "text": [
      "[10 15 20 25 30 35 40 45 50 55 60]\n"
     ]
    }
   ],
   "source": [
    "import numpy as np\n",
    "\n",
    "array = np.arange(10, 61, 5)\n",
    "\n",
    "print(array)"
   ]
  },
  {
   "cell_type": "code",
   "execution_count": null,
   "id": "328359ad-efd2-43bd-815e-dcbff9cf6b65",
   "metadata": {},
   "outputs": [],
   "source": [
    "#Q5. Create a NumPy array of strings ['python', 'numpy', 'pandas']. Apply different case transformations (uppercase, lowercase, title case, etc.) to each element."
   ]
  },
  {
   "cell_type": "code",
   "execution_count": 20,
   "id": "68ab9683-b01f-41f4-b28f-e301304efb74",
   "metadata": {},
   "outputs": [
    {
     "name": "stdout",
     "output_type": "stream",
     "text": [
      "Original Array: ['python' 'numpy' 'pandas']\n",
      "Uppercase: ['PYTHON' 'NUMPY' 'PANDAS']\n",
      "Lowercase: ['python' 'numpy' 'pandas']\n",
      "Title Case: ['Python' 'Numpy' 'Pandas']\n"
     ]
    }
   ],
   "source": [
    "import numpy as np\n",
    "\n",
    "# Create a NumPy array of strings\n",
    "arr = np.array(['python', 'numpy', 'pandas'])\n",
    "\n",
    "# Apply uppercase transformation\n",
    "upper_case = np.char.upper(arr)\n",
    "\n",
    "# Apply lowercase transformation\n",
    "lower_case = np.char.lower(arr)\n",
    "\n",
    "# Apply title case transformation\n",
    "title_case = np.char.title(arr)\n",
    "\n",
    "# Print the results\n",
    "print(\"Original Array:\", arr)\n",
    "print(\"Uppercase:\", upper_case)\n",
    "print(\"Lowercase:\", lower_case)\n",
    "print(\"Title Case:\", title_case)\n"
   ]
  },
  {
   "cell_type": "code",
   "execution_count": null,
   "id": "1aeb1102-3005-4014-a5d5-bb2ba54f35d3",
   "metadata": {},
   "outputs": [],
   "source": [
    "#Q6. Generate a NumPy array of words. Insert a space between each character of every word in the array."
   ]
  },
  {
   "cell_type": "code",
   "execution_count": 21,
   "id": "25d15343-1854-456c-bda9-c3c5033a11c4",
   "metadata": {},
   "outputs": [
    {
     "name": "stdout",
     "output_type": "stream",
     "text": [
      "Original Array: ['python' 'numpy' 'pandas']\n",
      "Array with spaces between characters: ['p y t h o n' 'n u m p y' 'p a n d a s']\n"
     ]
    }
   ],
   "source": [
    "import numpy as np\n",
    "\n",
    "# Create a NumPy array of words\n",
    "arr = np.array(['python', 'numpy', 'pandas'])\n",
    "\n",
    "# Insert a space between each character of every word\n",
    "spaced_words = np.char.join(' ', arr)\n",
    "\n",
    "# Print the result\n",
    "print(\"Original Array:\", arr)\n",
    "print(\"Array with spaces between characters:\", spaced_words)\n"
   ]
  },
  {
   "cell_type": "code",
   "execution_count": null,
   "id": "ee9237f9-3b37-424f-8376-8fb91575376a",
   "metadata": {},
   "outputs": [],
   "source": [
    "#7. Create two 2D NumPy arrays and perform element-wise addition, subtraction, multiplication, and division."
   ]
  },
  {
   "cell_type": "code",
   "execution_count": 22,
   "id": "09c93ccd-dfc3-4f23-a7d3-dbdaad863e66",
   "metadata": {},
   "outputs": [
    {
     "name": "stdout",
     "output_type": "stream",
     "text": [
      "Array 1:\n",
      " [[1 2 3]\n",
      " [4 5 6]]\n",
      "Array 2:\n",
      " [[ 7  8  9]\n",
      " [10 11 12]]\n",
      "\n",
      "Element-wise Addition:\n",
      " [[ 8 10 12]\n",
      " [14 16 18]]\n",
      "Element-wise Subtraction:\n",
      " [[-6 -6 -6]\n",
      " [-6 -6 -6]]\n",
      "Element-wise Multiplication:\n",
      " [[ 7 16 27]\n",
      " [40 55 72]]\n",
      "Element-wise Division:\n",
      " [[0.14285714 0.25       0.33333333]\n",
      " [0.4        0.45454545 0.5       ]]\n"
     ]
    }
   ],
   "source": [
    "import numpy as np\n",
    "\n",
    "# Create two 2D NumPy arrays\n",
    "array1 = np.array([[1, 2, 3], [4, 5, 6]])\n",
    "array2 = np.array([[7, 8, 9], [10, 11, 12]])\n",
    "\n",
    "# Perform element-wise addition\n",
    "addition = np.add(array1, array2)\n",
    "\n",
    "# Perform element-wise subtraction\n",
    "subtraction = np.subtract(array1, array2)\n",
    "\n",
    "# Perform element-wise multiplication\n",
    "multiplication = np.multiply(array1, array2)\n",
    "\n",
    "# Perform element-wise division\n",
    "division = np.divide(array1, array2)\n",
    "\n",
    "# Print the results\n",
    "print(\"Array 1:\\n\", array1)\n",
    "print(\"Array 2:\\n\", array2)\n",
    "print(\"\\nElement-wise Addition:\\n\", addition)\n",
    "print(\"Element-wise Subtraction:\\n\", subtraction)\n",
    "print(\"Element-wise Multiplication:\\n\", multiplication)\n",
    "print(\"Element-wise Division:\\n\", division)\n"
   ]
  },
  {
   "cell_type": "code",
   "execution_count": null,
   "id": "038c0a53-6523-43b4-b7a4-418c56b5fc16",
   "metadata": {},
   "outputs": [],
   "source": [
    "#8. Use NumPy to create a 5x5 identity matrix, then extract its diagonal elements."
   ]
  },
  {
   "cell_type": "code",
   "execution_count": 23,
   "id": "85fd4adc-2697-400d-98c5-4e796a882aef",
   "metadata": {},
   "outputs": [
    {
     "name": "stdout",
     "output_type": "stream",
     "text": [
      "5x5 Identity Matrix:\n",
      " [[1. 0. 0. 0. 0.]\n",
      " [0. 1. 0. 0. 0.]\n",
      " [0. 0. 1. 0. 0.]\n",
      " [0. 0. 0. 1. 0.]\n",
      " [0. 0. 0. 0. 1.]]\n",
      "\n",
      "Diagonal Elements: [1. 1. 1. 1. 1.]\n"
     ]
    }
   ],
   "source": [
    "import numpy as np\n",
    "\n",
    "# Create a 5x5 identity matrix\n",
    "identity_matrix = np.eye(5)\n",
    "\n",
    "# Extract the diagonal elements\n",
    "diagonal_elements = np.diag(identity_matrix)\n",
    "\n",
    "# Print the results\n",
    "print(\"5x5 Identity Matrix:\\n\", identity_matrix)\n",
    "print(\"\\nDiagonal Elements:\", diagonal_elements)\n"
   ]
  },
  {
   "cell_type": "code",
   "execution_count": null,
   "id": "fa510198-7956-46de-a597-e9808f927776",
   "metadata": {},
   "outputs": [],
   "source": [
    "#9. Generate a NumPy array of 100 random integers between 0 and 1000. Find and display all prime numbers in\n",
    "this array."
   ]
  },
  {
   "cell_type": "code",
   "execution_count": 24,
   "id": "e2d5c571-2c93-4761-9f1f-e0547ab8b8f3",
   "metadata": {},
   "outputs": [
    {
     "name": "stdout",
     "output_type": "stream",
     "text": [
      "Random Array: [ 983  809  129  457  867  219  948  589  764  612  139  513  220  951\n",
      "  935  682  166  392  443  338    3  550  666  417  417   66  881  389\n",
      "  302  868  551  293  452  140  214  628  666  372  359  374  458  955\n",
      "  341  358  980  526  225  864  392  383  200  164  739  235   36  637\n",
      "  302  938  602  392   47  989  167  309  403  331  772  793  953  618\n",
      "  936   64  452  947  843  958  264  283  486  850  208  896  424  478\n",
      "  336  232  966  168  727  336  704  126  993  328  813  381  824 1000\n",
      "  615  634]\n",
      "\n",
      "Prime Numbers in the Array: [983, 809, 457, 139, 443, 3, 881, 389, 293, 359, 383, 739, 47, 167, 331, 953, 947, 283, 727]\n"
     ]
    }
   ],
   "source": [
    "import numpy as np\n",
    "\n",
    "# Function to check if a number is prime\n",
    "def is_prime(num):\n",
    "    if num < 2:\n",
    "        return False\n",
    "    for i in range(2, int(np.sqrt(num)) + 1):\n",
    "        if num % i == 0:\n",
    "            return False\n",
    "    return True\n",
    "\n",
    "# Generate a NumPy array of 100 random integers between 0 and 1000\n",
    "random_array = np.random.randint(0, 1001, size=100)\n",
    "\n",
    "# Find prime numbers in the array\n",
    "prime_numbers = [num for num in random_array if is_prime(num)]\n",
    "\n",
    "# Print the results\n",
    "print(\"Random Array:\", random_array)\n",
    "print(\"\\nPrime Numbers in the Array:\", prime_numbers)\n"
   ]
  },
  {
   "cell_type": "code",
   "execution_count": null,
   "id": "14cd2fff-8db0-48b4-8f81-ab2d1fee4077",
   "metadata": {},
   "outputs": [],
   "source": [
    "#10. Create a NumPy array representing daily temperatures for a month. Calculate and display the weekly\n",
    "averages."
   ]
  },
  {
   "cell_type": "code",
   "execution_count": 26,
   "id": "7256fcc8-da4d-4f30-8a90-9ebd8044c587",
   "metadata": {},
   "outputs": [
    {
     "name": "stdout",
     "output_type": "stream",
     "text": [
      "Weekly Averages:\n",
      "Week 1: 72.62\n",
      "Week 2: 74.38\n",
      "Week 3: 72.29\n",
      "Week 4: 69.00\n"
     ]
    }
   ],
   "source": [
    "import numpy as np\n",
    "\n",
    "# Create a NumPy array representing daily temperatures for a month\n",
    "daily_temperatures = np.random.randint(60, 90, 30)\n",
    "\n",
    "# Calculate weekly averages using array_split\n",
    "weekly_averages = np.array_split(daily_temperatures, 4)\n",
    "weekly_averages = [np.mean(week) for week in weekly_averages]\n",
    "\n",
    "# Display the weekly averages\n",
    "print(\"Weekly Averages:\")\n",
    "for week, average in enumerate(weekly_averages, 1):\n",
    "    print(f\"Week {week}: {average:.2f}\")"
   ]
  },
  {
   "cell_type": "code",
   "execution_count": null,
   "id": "ecbb9215-3b9c-40f3-84ff-d6374c1d2cda",
   "metadata": {},
   "outputs": [],
   "source": []
  }
 ],
 "metadata": {
  "kernelspec": {
   "display_name": "Python 3 (ipykernel)",
   "language": "python",
   "name": "python3"
  },
  "language_info": {
   "codemirror_mode": {
    "name": "ipython",
    "version": 3
   },
   "file_extension": ".py",
   "mimetype": "text/x-python",
   "name": "python",
   "nbconvert_exporter": "python",
   "pygments_lexer": "ipython3",
   "version": "3.12.3"
  }
 },
 "nbformat": 4,
 "nbformat_minor": 5
}
